{
  "nbformat": 4,
  "nbformat_minor": 0,
  "metadata": {
    "colab": {
      "name": "Untitled2.ipynb",
      "provenance": [],
      "collapsed_sections": [],
      "authorship_tag": "ABX9TyNuP8cwonpIEYV0/8+wr55A",
      "include_colab_link": true
    },
    "kernelspec": {
      "name": "python3",
      "display_name": "Python 3"
    }
  },
  "cells": [
    {
      "cell_type": "markdown",
      "metadata": {
        "id": "view-in-github",
        "colab_type": "text"
      },
      "source": [
        "<a href=\"https://colab.research.google.com/github/ahmetcanerdem/Bil470Proje/blob/master/TRANSFER_RAW.ipynb\" target=\"_parent\"><img src=\"https://colab.research.google.com/assets/colab-badge.svg\" alt=\"Open In Colab\"/></a>"
      ]
    },
    {
      "cell_type": "code",
      "metadata": {
        "id": "rEsV4mjw8kdP",
        "colab_type": "code",
        "colab": {}
      },
      "source": [
        "## Burada devam etmek için Inception v3 ten Transfer Learning uygulayacağım\n",
        "import os\n",
        "from tensorflow.keras import layers\n",
        "from tensorflow.keras import Model\n",
        "\n",
        "##iv3 ün weight değerleri\n",
        "!wget --no-check-certificate \\\n",
        "    https://storage.googleapis.com/mledu-datasets/inception_v3_weights_tf_dim_ordering_tf_kernels_notop.h5 \\\n",
        "    -O /tmp/inception_v3_weights_tf_dim_ordering_tf_kernels_notop.h5\n",
        "from tensorflow.keras.applications.inception_v3 import InceptionV3\n",
        "\n",
        "weight_file= '/tmp/inception_v3_weights_tf_dim_ordering_tf_kernels_notop.h5'\n",
        "\n",
        "\n",
        "\n",
        "input_size=(256,256)\n",
        "test_path=''\n",
        "test_path='./drive/My Drive/test/'\n",
        "training_path='./drive/My Drive/train/'\n",
        "train_0_p=training_path+'train_0/'\n",
        "train_1_p=training_path+'train_1_large/'\n",
        "test_0_path= test_path + 'train_0_test/'\n",
        "test_1_path= test_path + 'train_1_test_large/'\n",
        "treshold=0.55\n",
        "image_dim=3\n",
        "#########################################################################################################\n",
        "\n",
        "model_I3_trained= InceptionV3(input_shape= (input_size[0], input_size[1],image_dim),\n",
        "                      include_top= False,\n",
        "                      weights= None\n",
        "                      )\n",
        "\n",
        "model_I3_trained.load_weights(weight_file)\n",
        "\n",
        "for layer in model_I3_trained.layers:\n",
        "  layer.trainable= False\n",
        "\n",
        "\n",
        "#model_I3_trained.summary()\n",
        "\n",
        "\n",
        "\n",
        "from tensorflow.keras.optimizers import RMSprop\n",
        "\n",
        "last_layer= model_I3_trained.get_layer('mixed10')\n",
        "last_output= last_layer.output\n",
        "\n",
        "x= layers.Flatten()(last_output)\n",
        "x= layers.Dense(2048,activation='relu')(x)\n",
        "x= layers.Dense(1, activation='sigmoid')(x)\n",
        "\n",
        "\n",
        "model_T= Model(model_I3_trained.input, x)\n",
        "model_T.compile(optimizer=RMSprop(lr=0.0001), loss='binary_crossentropy', metrics=['acc'])\n",
        "\n",
        "\n",
        "model_T.fit(DATA, classvector, epochs=50)"
      ],
      "execution_count": null,
      "outputs": []
    }
  ]
}