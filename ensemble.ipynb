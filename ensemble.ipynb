{
  "nbformat": 4,
  "nbformat_minor": 0,
  "metadata": {
    "colab": {
      "name": "ensemble.ipynb",
      "provenance": [],
      "toc_visible": true
    },
    "kernelspec": {
      "name": "python3",
      "display_name": "Python 3"
    }
  },
  "cells": [
    {
      "cell_type": "markdown",
      "metadata": {
        "id": "VT04Mw7NBOYf",
        "colab_type": "text"
      },
      "source": [
        "**load imageless models**"
      ]
    },
    {
      "cell_type": "code",
      "metadata": {
        "id": "wzmuhJk4AUTK",
        "colab_type": "code",
        "colab": {}
      },
      "source": [
        "import joblib\n",
        "import tensorflow as tf\n",
        "import pandas as pd\n"
      ],
      "execution_count": null,
      "outputs": []
    },
    {
      "cell_type": "code",
      "metadata": {
        "id": "shEV8h99NLDB",
        "colab_type": "code",
        "colab": {
          "base_uri": "https://localhost:8080/",
          "height": 34
        },
        "outputId": "776c0925-64c5-4182-f7c4-abefde7dec08"
      },
      "source": [
        "cd drive/My\\ Drive"
      ],
      "execution_count": null,
      "outputs": [
        {
          "output_type": "stream",
          "text": [
            "/content/drive/My Drive\n"
          ],
          "name": "stdout"
        }
      ]
    },
    {
      "cell_type": "code",
      "metadata": {
        "id": "hohFUueUN7U5",
        "colab_type": "code",
        "colab": {}
      },
      "source": [
        "\n",
        "knn_from_joblib = joblib.load('models/knn.pkl')  \n",
        "rf_from_joblib = joblib.load('models/rf.pkl')\n",
        "network = tf.keras.models.load_model('models/network')"
      ],
      "execution_count": null,
      "outputs": []
    },
    {
      "cell_type": "code",
      "metadata": {
        "id": "au5gbdhOcnJP",
        "colab_type": "code",
        "colab": {
          "base_uri": "https://localhost:8080/",
          "height": 252
        },
        "outputId": "bbe7abe3-445a-48f1-84e5-319f00b883e2"
      },
      "source": [
        "import tensorflow as tf\n",
        "import pandas as pd \n",
        "test_data = pd.read_csv(\"test.csv\",header=None)\n",
        "test_img = 'validation'\n",
        "test_data = test_data.drop([test_data.index[0]])\n",
        "print(test_data)\n"
      ],
      "execution_count": null,
      "outputs": [
        {
          "output_type": "stream",
          "text": [
            "                  0           1       2     3                4\n",
            "1      ISIC_0052060  IP_3579794    male  70.0              NaN\n",
            "2      ISIC_0052349  IP_7782715    male  40.0  lower extremity\n",
            "3      ISIC_0058510  IP_7960270  female  55.0            torso\n",
            "4      ISIC_0073313  IP_6375035  female  50.0            torso\n",
            "5      ISIC_0073502  IP_0589375  female  45.0  lower extremity\n",
            "...             ...         ...     ...   ...              ...\n",
            "10978  ISIC_9992485  IP_4152479    male  40.0            torso\n",
            "10979  ISIC_9996992  IP_4890115    male  35.0            torso\n",
            "10980  ISIC_9997917  IP_2852390    male  25.0  upper extremity\n",
            "10981  ISIC_9998234  IP_8861963    male  65.0  lower extremity\n",
            "10982  ISIC_9999302  IP_6214039    male  30.0  upper extremity\n",
            "\n",
            "[10982 rows x 5 columns]\n"
          ],
          "name": "stdout"
        }
      ]
    },
    {
      "cell_type": "code",
      "metadata": {
        "id": "DvbdDGqtUVCi",
        "colab_type": "code",
        "colab": {
          "base_uri": "https://localhost:8080/",
          "height": 554
        },
        "outputId": "e70bb485-a549-419b-cc48-8c718738aec7"
      },
      "source": [
        "def columns_to_del(columns,data):\n",
        "  for column in columns:\n",
        "    del data[column]\n",
        "def encode_and_bind(original_dataframe, feature_to_encode):\n",
        "  dummies = pd.get_dummies(original_dataframe[[feature_to_encode]])\n",
        "  res = pd.concat([original_dataframe, dummies], axis=1)\n",
        "  res = res.drop([feature_to_encode], axis=1)\n",
        "  return(res) \n",
        "def preprocess_imageless(dataset):\n",
        "  res = dataset.copy()\n",
        "  delete_list = [0, 1] \n",
        "  columns_to_del(delete_list,res)\n",
        "  print(res)\n",
        "  res = encode_and_bind(res,4)\n",
        "  print(res.columns)\n",
        "  res = res[[2, '4_head/neck',3,  '4_torso','4_upper extremity']]  # Removed feature \"sepal length\"\n",
        "  return res\n",
        "\n",
        "res = preprocess_imageless(test_data)\n",
        "print(res)"
      ],
      "execution_count": null,
      "outputs": [
        {
          "output_type": "stream",
          "text": [
            "            2     3                4\n",
            "1        male  70.0              NaN\n",
            "2        male  40.0  lower extremity\n",
            "3      female  55.0            torso\n",
            "4      female  50.0            torso\n",
            "5      female  45.0  lower extremity\n",
            "...       ...   ...              ...\n",
            "10978    male  40.0            torso\n",
            "10979    male  35.0            torso\n",
            "10980    male  25.0  upper extremity\n",
            "10981    male  65.0  lower extremity\n",
            "10982    male  30.0  upper extremity\n",
            "\n",
            "[10982 rows x 3 columns]\n",
            "Index([                  2,                   3,       '4_head/neck',\n",
            "       '4_lower extremity',    '4_oral/genital',     '4_palms/soles',\n",
            "                 '4_torso', '4_upper extremity'],\n",
            "      dtype='object')\n",
            "            2  4_head/neck     3  4_torso  4_upper extremity\n",
            "1        male            0  70.0        0                  0\n",
            "2        male            0  40.0        0                  0\n",
            "3      female            0  55.0        1                  0\n",
            "4      female            0  50.0        1                  0\n",
            "5      female            0  45.0        0                  0\n",
            "...       ...          ...   ...      ...                ...\n",
            "10978    male            0  40.0        1                  0\n",
            "10979    male            0  35.0        1                  0\n",
            "10980    male            0  25.0        0                  1\n",
            "10981    male            0  65.0        0                  0\n",
            "10982    male            0  30.0        0                  1\n",
            "\n",
            "[10982 rows x 5 columns]\n"
          ],
          "name": "stdout"
        }
      ]
    },
    {
      "cell_type": "code",
      "metadata": {
        "id": "GIN_76hCWSxN",
        "colab_type": "code",
        "colab": {
          "base_uri": "https://localhost:8080/",
          "height": 252
        },
        "outputId": "fbe33e89-d458-493b-d10d-47a4ae877790"
      },
      "source": [
        "\n",
        "from sklearn.preprocessing import LabelEncoder\n",
        "le = LabelEncoder()\n",
        "res[2] = le.fit_transform(res[2])\n",
        "print(res)\n",
        "\n",
        "from sklearn.preprocessing import StandardScaler\n",
        "\n",
        "scaler = StandardScaler()\n",
        "scaler.fit(res)\n",
        "\n",
        "res = scaler.transform(res)\n"
      ],
      "execution_count": null,
      "outputs": [
        {
          "output_type": "stream",
          "text": [
            "       2  4_head/neck     3  4_torso  4_upper extremity\n",
            "1      1            0  70.0        0                  0\n",
            "2      1            0  40.0        0                  0\n",
            "3      0            0  55.0        1                  0\n",
            "4      0            0  50.0        1                  0\n",
            "5      0            0  45.0        0                  0\n",
            "...   ..          ...   ...      ...                ...\n",
            "10978  1            0  40.0        1                  0\n",
            "10979  1            0  35.0        1                  0\n",
            "10980  1            0  25.0        0                  1\n",
            "10981  1            0  65.0        0                  0\n",
            "10982  1            0  30.0        0                  1\n",
            "\n",
            "[10982 rows x 5 columns]\n"
          ],
          "name": "stdout"
        }
      ]
    },
    {
      "cell_type": "code",
      "metadata": {
        "id": "0LK3Jwl9dq6z",
        "colab_type": "code",
        "colab": {}
      },
      "source": [
        "pr_1 = (knn_from_joblib.predict(res))\n",
        "pr_2 = (rf_from_joblib.predict(res))\n",
        "pr_3 = (network.predict(res))"
      ],
      "execution_count": null,
      "outputs": []
    },
    {
      "cell_type": "code",
      "metadata": {
        "id": "dukH6JVVjXJK",
        "colab_type": "code",
        "colab": {}
      },
      "source": [
        "weighted_predictions = list()\n",
        "pre_len = len(pr_1)\n",
        "for i in range(0,pre_len):\n",
        "  p_1 = pr_1[i]\n",
        "  p_2 = pr_2[i]\n",
        "  p_3 = pr_3[i]\n",
        "  weighted_predictions.append( ((p1 * 8 ) + ( p_2 * 7) + (p_3[0] * 6)) / 21 )\n"
      ],
      "execution_count": null,
      "outputs": []
    },
    {
      "cell_type": "code",
      "metadata": {
        "id": "fIomABLuklzc",
        "colab_type": "code",
        "colab": {}
      },
      "source": [
        "print(test_data)\n",
        "print((weighted_predictions))\n",
        "max = weighted_predictions[0]\n",
        "print(max[0])\n",
        "for i in weighted_predictions:\n",
        "  if i[0] > max[0]:\n",
        "    max = i\n",
        "print(max[0])    "
      ],
      "execution_count": null,
      "outputs": []
    },
    {
      "cell_type": "code",
      "metadata": {
        "id": "pvyz_7weknRv",
        "colab_type": "code",
        "colab": {
          "base_uri": "https://localhost:8080/",
          "height": 252
        },
        "outputId": "0dc1ea77-0351-4a92-d60a-2a226b5f99ac"
      },
      "source": [
        "\n",
        "dat1 = test_data.copy()\n",
        "w_p_arr = list()\n",
        "for i in weighted_predictions:\n",
        "  w_p_arr.append(i)\n",
        "w_p_df = pd.DataFrame({'target': w_p_arr})\n",
        "dat1 = dat1.join(w_p_df)\n",
        "print(dat1)"
      ],
      "execution_count": null,
      "outputs": [
        {
          "output_type": "stream",
          "text": [
            "                  0           1       2     3                4  target\n",
            "1      ISIC_0052060  IP_3579794    male  70.0              NaN     0.0\n",
            "2      ISIC_0052349  IP_7782715    male  40.0  lower extremity     0.0\n",
            "3      ISIC_0058510  IP_7960270  female  55.0            torso     0.0\n",
            "4      ISIC_0073313  IP_6375035  female  50.0            torso     0.0\n",
            "5      ISIC_0073502  IP_0589375  female  45.0  lower extremity     0.0\n",
            "...             ...         ...     ...   ...              ...     ...\n",
            "10978  ISIC_9992485  IP_4152479    male  40.0            torso     0.0\n",
            "10979  ISIC_9996992  IP_4890115    male  35.0            torso     0.0\n",
            "10980  ISIC_9997917  IP_2852390    male  25.0  upper extremity     0.0\n",
            "10981  ISIC_9998234  IP_8861963    male  65.0  lower extremity     0.0\n",
            "10982  ISIC_9999302  IP_6214039    male  30.0  upper extremity     NaN\n",
            "\n",
            "[10982 rows x 6 columns]\n"
          ],
          "name": "stdout"
        }
      ]
    },
    {
      "cell_type": "code",
      "metadata": {
        "id": "L197liADm_KR",
        "colab_type": "code",
        "colab": {}
      },
      "source": [
        "del dat1[1]\n",
        "del dat1[2]\n",
        "del dat1[3]\n",
        "del dat1[4]\n",
        "dat1.to_csv(\"submit.csv\")"
      ],
      "execution_count": null,
      "outputs": []
    },
    {
      "cell_type": "code",
      "metadata": {
        "id": "RHLfvC-grmZX",
        "colab_type": "code",
        "colab": {}
      },
      "source": [
        ""
      ],
      "execution_count": null,
      "outputs": []
    }
  ]
}