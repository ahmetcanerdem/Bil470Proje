{
  "nbformat": 4,
  "nbformat_minor": 0,
  "metadata": {
    "colab": {
      "name": "Untitled3.ipynb",
      "provenance": [],
      "authorship_tag": "ABX9TyNhNBN2lMntdTHEVzS2oBZ/",
      "include_colab_link": true
    },
    "kernelspec": {
      "name": "python3",
      "display_name": "Python 3"
    },
    "accelerator": "TPU"
  },
  "cells": [
    {
      "cell_type": "markdown",
      "metadata": {
        "id": "view-in-github",
        "colab_type": "text"
      },
      "source": [
        "<a href=\"https://colab.research.google.com/github/ahmetcanerdem/Bil470Proje/blob/master/Image%20Generator%20TRANSFER-CNN.ipynb\" target=\"_parent\"><img src=\"https://colab.research.google.com/assets/colab-badge.svg\" alt=\"Open In Colab\"/></a>"
      ]
    },
    {
      "cell_type": "code",
      "metadata": {
        "id": "QrmDtv-bHlEr",
        "colab_type": "code",
        "colab": {}
      },
      "source": [
        "tf.compat.v1.disable_eager_execution()"
      ],
      "execution_count": 20,
      "outputs": []
    },
    {
      "cell_type": "markdown",
      "metadata": {
        "id": "YpnzEGMvfg35",
        "colab_type": "text"
      },
      "source": [
        "#**SETTING UP THE DATA GENERATORS TO GET THE DATA**"
      ]
    },
    {
      "cell_type": "code",
      "metadata": {
        "id": "s9cNy2Ut_geh",
        "colab_type": "code",
        "colab": {
          "base_uri": "https://localhost:8080/",
          "height": 287
        },
        "outputId": "58a67efa-d527-4a15-b1b6-9d807762e851"
      },
      "source": [
        "import os\n",
        "from tensorflow.keras import layers\n",
        "from tensorflow.keras import Model\n",
        "from google.colab import drive\n",
        "\n",
        "##iv3 ün weight değerleri\n",
        "!wget --no-check-certificate \\\n",
        "    https://storage.googleapis.com/mledu-datasets/inception_v3_weights_tf_dim_ordering_tf_kernels_notop.h5 \\\n",
        "    -O /tmp/inception_v3_weights_tf_dim_ordering_tf_kernels_notop.h5\n",
        "from tensorflow.keras.applications.inception_v3 import InceptionV3\n",
        "\n",
        "weight_file= '/tmp/inception_v3_weights_tf_dim_ordering_tf_kernels_notop.h5'\n",
        "\n",
        "\n",
        "\n",
        "drive.mount('/content/drive')\n",
        "\n",
        "input_size=(128,128)\n",
        "test_path=''\n",
        "test_path='./drive/My Drive/test_resampled/hair_remove/'\n",
        "training_path='./drive/My Drive/train_resampled/hair_remove/'\n",
        "train_0_p=training_path+'train_0/'\n",
        "train_1_p=training_path+'train_1_large/'\n",
        "test_0_path= test_path + 'train_0_test/'\n",
        "test_1_path= test_path + 'train_1_test_large/'\n",
        "treshold=0.55\n",
        "image_dim=3\n",
        "###############DATA GENERATOR#############################\n",
        "\n",
        "from tensorflow.keras.preprocessing.image import ImageDataGenerator\n",
        "image_generator = ImageDataGenerator(rescale=1./255)\n",
        "train_generator = image_generator.flow_from_directory(\n",
        "    training_path,\n",
        "    target_size=(128,128),\n",
        "    batch_size = 256,\n",
        "    class_mode = 'binary'\n",
        ")\n",
        "\n",
        "validation_generator = image_generator.flow_from_directory(\n",
        "    test_path,\n",
        "    target_size=(128,128),\n",
        "    batch_size = 256,\n",
        "    class_mode = 'binary'\n",
        ")\n",
        "\n",
        "\n",
        "\n",
        "\n",
        "\n",
        "\n",
        "X_steps = int(train_generator.samples/512)+1\n",
        "Y_steps = int(validation_generator.samples/512)+1\n",
        "\n",
        "\n",
        "\n",
        "X_steps\n",
        "Y_steps\n",
        "\n",
        "\n",
        "\n",
        "#########################################################################################################\n",
        "\n"
      ],
      "execution_count": 39,
      "outputs": [
        {
          "output_type": "stream",
          "text": [
            "--2020-07-24 14:39:49--  https://storage.googleapis.com/mledu-datasets/inception_v3_weights_tf_dim_ordering_tf_kernels_notop.h5\n",
            "Resolving storage.googleapis.com (storage.googleapis.com)... 108.177.112.128, 74.125.124.128, 172.217.212.128, ...\n",
            "Connecting to storage.googleapis.com (storage.googleapis.com)|108.177.112.128|:443... connected.\n",
            "HTTP request sent, awaiting response... 200 OK\n",
            "Length: 87910968 (84M) [application/x-hdf]\n",
            "Saving to: ‘/tmp/inception_v3_weights_tf_dim_ordering_tf_kernels_notop.h5’\n",
            "\n",
            "/tmp/inception_v3_w 100%[===================>]  83.84M   113MB/s    in 0.7s    \n",
            "\n",
            "2020-07-24 14:39:50 (113 MB/s) - ‘/tmp/inception_v3_weights_tf_dim_ordering_tf_kernels_notop.h5’ saved [87910968/87910968]\n",
            "\n",
            "Drive already mounted at /content/drive; to attempt to forcibly remount, call drive.mount(\"/content/drive\", force_remount=True).\n",
            "Found 11954 images belonging to 2 classes.\n",
            "Found 1005 images belonging to 2 classes.\n"
          ],
          "name": "stdout"
        },
        {
          "output_type": "execute_result",
          "data": {
            "text/plain": [
              "2"
            ]
          },
          "metadata": {
            "tags": []
          },
          "execution_count": 39
        }
      ]
    },
    {
      "cell_type": "markdown",
      "metadata": {
        "id": "sRg40N9Je5DV",
        "colab_type": "text"
      },
      "source": [
        "# **TRAINING CNN ONLY Learning Model Over Big Data**\n",
        "\n",
        "> Data has resampled and dehaired.\n",
        "\n",
        "> In each epoch model fits itself to 5000 samples of the data\n",
        "\n",
        "\n"
      ]
    },
    {
      "cell_type": "code",
      "metadata": {
        "id": "5TRXbXZb_lEV",
        "colab_type": "code",
        "colab": {}
      },
      "source": [
        "import tensorflow as tf\n",
        "from tensorflow.keras.optimizers import RMSprop\n",
        "\n",
        "\n",
        "\n",
        "model =tf.keras.Sequential([\n",
        "                     tf.keras.layers.Conv2D(16, (3,3), activation='relu', input_shape=(input_size[0],input_size[1],image_dim)),\n",
        "                     tf.keras.layers.MaxPooling2D(2,2),\n",
        "                     tf.keras.layers.Conv2D(32, (3,3), activation='relu'),\n",
        "                     tf.keras.layers.MaxPooling2D(2,2),\n",
        "                     tf.keras.layers.Conv2D(64, (3,3), activation='relu'),\n",
        "                     tf.keras.layers.MaxPooling2D(2,2),\n",
        "                     tf.keras.layers.Flatten(),\n",
        "                     tf.keras.layers.Dense(512, activation='relu'),\n",
        "                     tf.keras.layers.Dense(1024, activation='relu'),\n",
        "                     tf.keras.layers.Dense(1, activation='sigmoid'),\n",
        "\n",
        "])"
      ],
      "execution_count": 43,
      "outputs": []
    },
    {
      "cell_type": "code",
      "metadata": {
        "id": "A-UO8Gi2_2-7",
        "colab_type": "code",
        "colab": {}
      },
      "source": [
        ""
      ],
      "execution_count": 42,
      "outputs": []
    },
    {
      "cell_type": "code",
      "metadata": {
        "id": "Eu_c8S9HBOjD",
        "colab_type": "code",
        "colab": {
          "base_uri": "https://localhost:8080/",
          "height": 737
        },
        "outputId": "abaed199-6daf-4a56-d8b5-14fffa11b33c"
      },
      "source": [
        "history =model.fit(\n",
        "    train_generator,\n",
        "    steps_per_epoch= 8,\n",
        "    epochs=20,\n",
        "    validation_data = validation_generator,\n",
        "    validation_steps= Y_steps,\n",
        ")"
      ],
      "execution_count": 29,
      "outputs": [
        {
          "output_type": "stream",
          "text": [
            "Epoch 1/20\n",
            "8/8 [==============================] - 433s 54s/step - loss: 0.7223 - acc: 0.5435 - val_loss: 0.7960 - val_acc: 0.1738\n",
            "Epoch 2/20\n",
            "8/8 [==============================] - 89s 11s/step - loss: 0.6605 - acc: 0.5990 - val_loss: 0.5465 - val_acc: 0.7480\n",
            "Epoch 3/20\n",
            "8/8 [==============================] - 171s 21s/step - loss: 0.6330 - acc: 0.6440 - val_loss: 0.6541 - val_acc: 0.6328\n",
            "Epoch 4/20\n",
            "8/8 [==============================] - 172s 22s/step - loss: 0.6150 - acc: 0.6665 - val_loss: 0.4414 - val_acc: 0.8105\n",
            "Epoch 5/20\n",
            "8/8 [==============================] - 194s 24s/step - loss: 0.6142 - acc: 0.6631 - val_loss: 0.5058 - val_acc: 0.7324\n",
            "Epoch 6/20\n",
            "8/8 [==============================] - 170s 21s/step - loss: 0.6010 - acc: 0.6597 - val_loss: 0.7968 - val_acc: 0.4844\n",
            "Epoch 7/20\n",
            "8/8 [==============================] - 29s 4s/step - loss: 0.5818 - acc: 0.7017 - val_loss: 0.5525 - val_acc: 0.6895\n",
            "Epoch 8/20\n",
            "8/8 [==============================] - 29s 4s/step - loss: 0.6041 - acc: 0.6592 - val_loss: 0.4766 - val_acc: 0.7285\n",
            "Epoch 9/20\n",
            "8/8 [==============================] - 29s 4s/step - loss: 0.5643 - acc: 0.7104 - val_loss: 0.4549 - val_acc: 0.7344\n",
            "Epoch 10/20\n",
            "8/8 [==============================] - 28s 4s/step - loss: 0.5537 - acc: 0.6934 - val_loss: 0.5155 - val_acc: 0.7109\n",
            "Epoch 11/20\n",
            "8/8 [==============================] - 26s 3s/step - loss: 0.5568 - acc: 0.7100 - val_loss: 0.4370 - val_acc: 0.7500\n",
            "Epoch 12/20\n",
            "8/8 [==============================] - 32s 4s/step - loss: 0.5717 - acc: 0.7041 - val_loss: 0.4979 - val_acc: 0.7051\n",
            "Epoch 13/20\n",
            "8/8 [==============================] - 30s 4s/step - loss: 0.5026 - acc: 0.7461 - val_loss: 0.4753 - val_acc: 0.7246\n",
            "Epoch 14/20\n",
            "8/8 [==============================] - 29s 4s/step - loss: 0.5337 - acc: 0.7114 - val_loss: 0.4507 - val_acc: 0.7402\n",
            "Epoch 15/20\n",
            "8/8 [==============================] - 29s 4s/step - loss: 0.5505 - acc: 0.6953 - val_loss: 0.4495 - val_acc: 0.7656\n",
            "Epoch 16/20\n",
            "8/8 [==============================] - 29s 4s/step - loss: 0.5406 - acc: 0.7402 - val_loss: 0.4175 - val_acc: 0.7930\n",
            "Epoch 17/20\n",
            "8/8 [==============================] - 26s 3s/step - loss: 0.5043 - acc: 0.7495 - val_loss: 0.3969 - val_acc: 0.8164\n",
            "Epoch 18/20\n",
            "8/8 [==============================] - 33s 4s/step - loss: 0.5155 - acc: 0.7447 - val_loss: 0.3980 - val_acc: 0.8145\n",
            "Epoch 19/20\n",
            "8/8 [==============================] - 29s 4s/step - loss: 0.5297 - acc: 0.7295 - val_loss: 0.4181 - val_acc: 0.7695\n",
            "Epoch 20/20\n",
            "8/8 [==============================] - 29s 4s/step - loss: 0.4972 - acc: 0.7461 - val_loss: 0.6789 - val_acc: 0.5801\n"
          ],
          "name": "stdout"
        }
      ]
    },
    {
      "cell_type": "markdown",
      "metadata": {
        "id": "yK4NwSirfBmi",
        "colab_type": "text"
      },
      "source": [
        "*Reached max 81% and average 75% acuracy in the validation data*"
      ]
    },
    {
      "cell_type": "code",
      "metadata": {
        "id": "7s2iY9UFeHh2",
        "colab_type": "code",
        "colab": {}
      },
      "source": [
        ""
      ],
      "execution_count": null,
      "outputs": []
    },
    {
      "cell_type": "markdown",
      "metadata": {
        "id": "tvbmKDPYd9Xl",
        "colab_type": "text"
      },
      "source": [
        "# **TRAINING Transfer Learning Model Over Big Data**\n",
        "\n",
        "> Data has resampled and dehaired.\n",
        "\n",
        "> In each epoch model fits itself to 5000 samples of the data\n",
        "\n",
        "\n"
      ]
    },
    {
      "cell_type": "code",
      "metadata": {
        "id": "aUjjz0SzHirX",
        "colab_type": "code",
        "colab": {}
      },
      "source": [
        "import tensorflow as tf\n",
        "from tensorflow.keras.optimizers import RMSprop\n",
        "model_I3_trained= InceptionV3(input_shape= (input_size[0], input_size[1],image_dim),\n",
        "                      include_top= False,\n",
        "                      weights= None\n",
        "                      )\n",
        "\n",
        "model_I3_trained.load_weights(weight_file)\n",
        "for layer in model_I3_trained.layers:\n",
        "  layer.trainable= False\n",
        "\n",
        "\n",
        "#model_I3_trained.summary()\n",
        "\n",
        "\n",
        "\n",
        "from tensorflow.keras.optimizers import RMSprop\n",
        "\n",
        "last_layer= model_I3_trained.get_layer('mixed7')\n",
        "last_output= last_layer.output\n",
        "\n",
        "x= layers.Flatten()(last_output)\n",
        "x= layers.Dense(2048,activation='relu')(x)\n",
        "x= layers.Dense(1, activation='sigmoid')(x)\n",
        "\n",
        "\n",
        "model_T= Model(model_I3_trained.input, x)\n",
        "model_T.compile(optimizer=RMSprop(lr=0.0001), loss='binary_crossentropy', metrics=['acc'])\n",
        "\n",
        "model_T.summary()"
      ],
      "execution_count": null,
      "outputs": []
    },
    {
      "cell_type": "code",
      "metadata": {
        "id": "04S1laL1QCuq",
        "colab_type": "code",
        "colab": {
          "base_uri": "https://localhost:8080/",
          "height": 737
        },
        "outputId": "02e6be83-a092-499b-9c9c-e0407073b49d"
      },
      "source": [
        "history_T=model_T.fit(\n",
        "    train_generator,\n",
        "    steps_per_epoch= 16,\n",
        "    epochs=20,\n",
        "    validation_data = validation_generator,\n",
        "    validation_steps= Y_steps,\n",
        ")"
      ],
      "execution_count": 42,
      "outputs": [
        {
          "output_type": "stream",
          "text": [
            "Epoch 1/20\n",
            "16/16 [==============================] - 134s 8s/step - loss: 0.4264 - acc: 0.8423 - val_loss: 0.7353 - val_acc: 0.8301\n",
            "Epoch 2/20\n",
            "16/16 [==============================] - 131s 8s/step - loss: 0.1499 - acc: 0.9592 - val_loss: 1.1143 - val_acc: 0.8223\n",
            "Epoch 3/20\n",
            "16/16 [==============================] - 134s 8s/step - loss: 0.1150 - acc: 0.9692 - val_loss: 0.9566 - val_acc: 0.8262\n",
            "Epoch 4/20\n",
            "16/16 [==============================] - 132s 8s/step - loss: 0.0589 - acc: 0.9823 - val_loss: 2.1092 - val_acc: 0.8223\n",
            "Epoch 5/20\n",
            "16/16 [==============================] - 134s 8s/step - loss: 0.0866 - acc: 0.9780 - val_loss: 1.0172 - val_acc: 0.8281\n",
            "Epoch 6/20\n",
            "16/16 [==============================] - 133s 8s/step - loss: 0.0553 - acc: 0.9829 - val_loss: 1.5483 - val_acc: 0.8262\n",
            "Epoch 7/20\n",
            "16/16 [==============================] - 134s 8s/step - loss: 0.0351 - acc: 0.9912 - val_loss: 1.3730 - val_acc: 0.8301\n",
            "Epoch 8/20\n",
            "16/16 [==============================] - 133s 8s/step - loss: 0.0695 - acc: 0.9785 - val_loss: 1.4964 - val_acc: 0.8301\n",
            "Epoch 9/20\n",
            "16/16 [==============================] - 133s 8s/step - loss: 0.0225 - acc: 0.9940 - val_loss: 2.0044 - val_acc: 0.8262\n",
            "Epoch 10/20\n",
            "16/16 [==============================] - 134s 8s/step - loss: 0.0239 - acc: 0.9939 - val_loss: 1.8062 - val_acc: 0.8281\n",
            "Epoch 11/20\n",
            "16/16 [==============================] - 131s 8s/step - loss: 0.0140 - acc: 0.9978 - val_loss: 3.2536 - val_acc: 0.8223\n",
            "Epoch 12/20\n",
            "16/16 [==============================] - 132s 8s/step - loss: 0.0166 - acc: 0.9960 - val_loss: 2.6079 - val_acc: 0.8223\n",
            "Epoch 13/20\n",
            "16/16 [==============================] - 143s 9s/step - loss: 0.0183 - acc: 0.9951 - val_loss: 2.5916 - val_acc: 0.8223\n",
            "Epoch 14/20\n",
            "16/16 [==============================] - 134s 8s/step - loss: 0.0058 - acc: 0.9998 - val_loss: 2.9035 - val_acc: 0.8223\n",
            "Epoch 15/20\n",
            "16/16 [==============================] - 134s 8s/step - loss: 0.0122 - acc: 0.9976 - val_loss: 2.5902 - val_acc: 0.8242\n",
            "Epoch 16/20\n",
            "16/16 [==============================] - 133s 8s/step - loss: 0.0026 - acc: 1.0000 - val_loss: 2.9645 - val_acc: 0.8223\n",
            "Epoch 17/20\n",
            "16/16 [==============================] - 131s 8s/step - loss: 0.0257 - acc: 0.9915 - val_loss: 2.1753 - val_acc: 0.8301\n",
            "Epoch 18/20\n",
            "16/16 [==============================] - 134s 8s/step - loss: 0.0025 - acc: 1.0000 - val_loss: 2.7785 - val_acc: 0.8262\n",
            "Epoch 19/20\n",
            "16/16 [==============================] - 133s 8s/step - loss: 0.0019 - acc: 1.0000 - val_loss: 2.9215 - val_acc: 0.8223\n",
            "Epoch 20/20\n",
            "16/16 [==============================] - 131s 8s/step - loss: 0.0072 - acc: 0.9985 - val_loss: 3.1014 - val_acc: 0.8242\n"
          ],
          "name": "stdout"
        }
      ]
    },
    {
      "cell_type": "markdown",
      "metadata": {
        "id": "7iKPVexGeWLQ",
        "colab_type": "text"
      },
      "source": [
        "*Reached max 83% accuracy in the validation set and 100% in training set seems pretty good*\n"
      ]
    },
    {
      "cell_type": "code",
      "metadata": {
        "id": "QoHcD6_1BZy8",
        "colab_type": "code",
        "colab": {
          "base_uri": "https://localhost:8080/",
          "height": 36
        },
        "outputId": "573eeb21-85e2-4120-a44e-0042e7043f2b"
      },
      "source": [
        "def findAcc(m_model, data, dataclasses, treshold =0.55):\n",
        "  pM= m_model.predict(data)\n",
        "  cM=[]\n",
        "  for i in pM:\n",
        "    if i > treshold:\n",
        "      cM.append(1)\n",
        "    else:\n",
        "      cM.append(0)\n",
        "  \n",
        "  c=0\n",
        "  for i in range(cM):\n",
        "    if (cM[i]==dataclasses[i]):\n",
        "      c=c+1;\n",
        "  \n",
        "  return (c/len(dataclasses))\n",
        "\n",
        "\n",
        "\n"
      ],
      "execution_count": 37,
      "outputs": [
        {
          "output_type": "execute_result",
          "data": {
            "application/vnd.google.colaboratory.intrinsic+json": {
              "type": "string"
            },
            "text/plain": [
              "'binary_crossentropy'"
            ]
          },
          "metadata": {
            "tags": []
          },
          "execution_count": 37
        }
      ]
    }
  ]
}