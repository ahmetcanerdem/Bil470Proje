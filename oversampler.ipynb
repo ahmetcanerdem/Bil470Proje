{
  "nbformat": 4,
  "nbformat_minor": 0,
  "metadata": {
    "colab": {
      "name": "oversampler.ipynb",
      "provenance": [],
      "collapsed_sections": []
    },
    "kernelspec": {
      "name": "python3",
      "display_name": "Python 3"
    }
  },
  "cells": [
    {
      "cell_type": "code",
      "metadata": {
        "id": "x6CrBW36l8zp",
        "colab_type": "code",
        "colab": {
          "base_uri": "https://localhost:8080/",
          "height": 34
        },
        "outputId": "3013dfea-2294-4bee-be58-d017aea6b6b7"
      },
      "source": [
        "cd drive/My\\ Drive"
      ],
      "execution_count": null,
      "outputs": [
        {
          "output_type": "stream",
          "text": [
            "/content/drive/My Drive\n"
          ],
          "name": "stdout"
        }
      ]
    },
    {
      "cell_type": "code",
      "metadata": {
        "id": "aI2e0NCxxtOM",
        "colab_type": "code",
        "colab": {}
      },
      "source": [
        "import numpy as np\n",
        "import pandas as pd\n",
        "from sklearn.model_selection import train_test_split\n",
        "from imblearn.over_sampling import SMOTENC\n"
      ],
      "execution_count": null,
      "outputs": []
    },
    {
      "cell_type": "code",
      "metadata": {
        "id": "sMU-IbFp_2gN",
        "colab_type": "code",
        "colab": {
          "base_uri": "https://localhost:8080/",
          "height": 154
        },
        "outputId": "2d6d67d6-c400-4d4b-9348-cd1b645ee649"
      },
      "source": [
        "data = pd.read_csv(\"clear_data.csv\")\n",
        "training_target = data[\"target\"]\n",
        "del data[\"target\"]\n",
        "del data[\"Unnamed: 0\"]\n",
        "del data[\"benign_malignant\"]\n",
        "del data[\"diagnosis\"]\n",
        "training_features = data.copy()\n",
        "x_train, x_val, y_train, y_val = train_test_split(training_features, training_target,\n",
        "                                                  test_size = .3,\n",
        "                                                  random_state=12)\n",
        "print(y_train.value_counts())\n",
        "\n",
        "\n",
        "data_res = SMOTENC(categorical_features=[0,1,2,4], random_state=0)\n",
        "\n",
        "\n",
        "X_resampled_train, y_resampled_train = data_res.fit_resample(x_train, y_train)\n",
        "\n",
        "\n",
        "\n",
        "\n"
      ],
      "execution_count": null,
      "outputs": [
        {
          "output_type": "stream",
          "text": [
            "0    22383\n",
            "1      388\n",
            "Name: target, dtype: int64\n"
          ],
          "name": "stdout"
        },
        {
          "output_type": "stream",
          "text": [
            "/usr/local/lib/python3.6/dist-packages/sklearn/utils/deprecation.py:87: FutureWarning: Function safe_indexing is deprecated; safe_indexing is deprecated in version 0.22 and will be removed in version 0.24.\n",
            "  warnings.warn(msg, category=FutureWarning)\n",
            "/usr/local/lib/python3.6/dist-packages/sklearn/utils/deprecation.py:87: FutureWarning: Function safe_indexing is deprecated; safe_indexing is deprecated in version 0.22 and will be removed in version 0.24.\n",
            "  warnings.warn(msg, category=FutureWarning)\n"
          ],
          "name": "stderr"
        }
      ]
    },
    {
      "cell_type": "code",
      "metadata": {
        "id": "HThmh1lEFUcf",
        "colab_type": "code",
        "colab": {
          "base_uri": "https://localhost:8080/",
          "height": 67
        },
        "outputId": "55149e70-ef4e-41eb-88fa-68114ab8f0a3"
      },
      "source": [
        "print(y_val.value_counts())\n"
      ],
      "execution_count": null,
      "outputs": [
        {
          "output_type": "stream",
          "text": [
            "0    9573\n",
            "1     187\n",
            "Name: target, dtype: int64\n"
          ],
          "name": "stdout"
        }
      ]
    },
    {
      "cell_type": "code",
      "metadata": {
        "id": "oSKub1T3ADoU",
        "colab_type": "code",
        "colab": {
          "base_uri": "https://localhost:8080/",
          "height": 50
        },
        "outputId": "2dd7a95d-b603-4c0e-db58-a7562a30697f"
      },
      "source": [
        "\n",
        "print(y_resampled_train.size)\n",
        "print(y_train.size)\n"
      ],
      "execution_count": null,
      "outputs": [
        {
          "output_type": "stream",
          "text": [
            "44766\n",
            "22771\n"
          ],
          "name": "stdout"
        }
      ]
    },
    {
      "cell_type": "code",
      "metadata": {
        "id": "tT9XHNDgAa_g",
        "colab_type": "code",
        "colab": {
          "base_uri": "https://localhost:8080/",
          "height": 34
        },
        "outputId": "ab4b59c6-1341-41d3-bbc0-1a947410e58d"
      },
      "source": [
        "print(type(x_train))"
      ],
      "execution_count": null,
      "outputs": [
        {
          "output_type": "stream",
          "text": [
            "<class 'pandas.core.frame.DataFrame'>\n"
          ],
          "name": "stdout"
        }
      ]
    },
    {
      "cell_type": "code",
      "metadata": {
        "id": "odpVaT2xUhY_",
        "colab_type": "code",
        "colab": {}
      },
      "source": [
        "train = pd.DataFrame(np.column_stack((X_resampled_train,y_resampled_train)))\n",
        "test = np.column_stack((x_val,y_val))\n",
        "test_pd = pd.DataFrame(test)\n",
        "\n",
        "dff = train.to_csv(\"train_resampled_large.csv\")\n",
        "dff = test_pd.to_csv(\"test_resampled_large.csv\")\n"
      ],
      "execution_count": null,
      "outputs": []
    },
    {
      "cell_type": "code",
      "metadata": {
        "id": "_mS9a0bsCeWJ",
        "colab_type": "code",
        "colab": {
          "base_uri": "https://localhost:8080/",
          "height": 84
        },
        "outputId": "7c9544cf-1c2e-4a2c-f218-6519f0ac620a"
      },
      "source": [
        "test = np.column_stack((x_val,y_val))\n",
        "test_pd = pd.DataFrame(test)\n",
        "\n",
        "train = pd.DataFrame(np.column_stack((X_resampled_train,y_resampled_train)))\n",
        "train_0 = (train[train[5] == 0]) \n",
        "train_1 = (train[train[5] == 1]) \n",
        "test_pd_0 = (test_pd[test_pd[5] == 1]) \n",
        "test_pd_1 = (test_pd[test_pd[5] == 0]) \n",
        "print(len(train_0.index))\n",
        "print(len(train_1.index))\n",
        "print(len(test_pd_0.index))\n",
        "print(len(test_pd_1.index))\n",
        "\n",
        "\n",
        "import numpy as np\n",
        "'''\n",
        "for i in range(0,4):\n",
        "  df = pd.DataFrame(subset)\n",
        "  df_0 = df[df[5] == 0]\n",
        "  df_1 = df[df[5] == 1] \n",
        "  dff = df_1.to_csv(\"train_1_\" + str(i) +\".csv\")\n",
        "  dff = df_0.to_csv(\"train_0_\" + str(i) +\".csv\")\n",
        "'''\n",
        "dff = train_0.to_csv(\"train_0_resampled_large.csv\")\n",
        "dff = train_1.to_csv(\"train_1_resampled_large.csv\")\n",
        "dff = test_pd_0.to_csv(\"test_0_resampled_large.csv\")\n",
        "dff = test_pd_1.to_csv(\"test_1_resampled_large.csv\")\n"
      ],
      "execution_count": null,
      "outputs": [
        {
          "output_type": "stream",
          "text": [
            "22383\n",
            "22383\n",
            "187\n",
            "9573\n"
          ],
          "name": "stdout"
        }
      ]
    },
    {
      "cell_type": "code",
      "metadata": {
        "id": "AFK-0-tsDh2v",
        "colab_type": "code",
        "colab": {
          "base_uri": "https://localhost:8080/",
          "height": 134
        },
        "outputId": "02c3611d-fcc7-4cd1-812c-61de6c40b417"
      },
      "source": [
        "print(test)"
      ],
      "execution_count": null,
      "outputs": [
        {
          "output_type": "stream",
          "text": [
            "[['ISIC_3736075' 'IP_2618037' 'female' 25.0 'lower extremity' 0]\n",
            " ['ISIC_2939356' 'IP_0078294' 'male' 60.0 'lower extremity' 0]\n",
            " ['ISIC_2048945' 'IP_9616120' 'female' 75.0 'lower extremity' 0]\n",
            " ...\n",
            " ['ISIC_1936882' 'IP_2938573' 'female' 50.0 'upper extremity' 0]\n",
            " ['ISIC_8610534' 'IP_6945048' 'male' 35.0 'head/neck' 0]\n",
            " ['ISIC_4217963' 'IP_7404937' 'male' 60.0 'torso' 0]]\n"
          ],
          "name": "stdout"
        }
      ]
    },
    {
      "cell_type": "code",
      "metadata": {
        "id": "od8heQ-iJyEG",
        "colab_type": "code",
        "colab": {}
      },
      "source": [
        ""
      ],
      "execution_count": null,
      "outputs": []
    }
  ]
}