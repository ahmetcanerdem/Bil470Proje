{
  "nbformat": 4,
  "nbformat_minor": 0,
  "metadata": {
    "kernelspec": {
      "display_name": "Python 3",
      "language": "python",
      "name": "python3"
    },
    "language_info": {
      "codemirror_mode": {
        "name": "ipython",
        "version": 3
      },
      "file_extension": ".py",
      "mimetype": "text/x-python",
      "name": "python",
      "nbconvert_exporter": "python",
      "pygments_lexer": "ipython3",
      "version": "3.6.2"
    },
    "colab": {
      "name": "Network Notebook.ipynb",
      "provenance": [],
      "include_colab_link": true
    },
    "accelerator": "GPU"
  },
  "cells": [
    {
      "cell_type": "markdown",
      "metadata": {
        "id": "view-in-github",
        "colab_type": "text"
      },
      "source": [
        "<a href=\"https://colab.research.google.com/github/ahmetcanerdem/Bil470Proje/blob/master/Network%20Notebook.ipynb\" target=\"_parent\"><img src=\"https://colab.research.google.com/assets/colab-badge.svg\" alt=\"Open In Colab\"/></a>"
      ]
    },
    {
      "cell_type": "code",
      "metadata": {
        "id": "yXeA7cgMgKPB",
        "colab_type": "code",
        "colab": {
          "base_uri": "https://localhost:8080/",
          "height": 212
        },
        "outputId": "c8e15be2-496a-4388-dfd2-71b61c1f9f94"
      },
      "source": [
        "! pip install  kaggle\n",
        "import tensorflow as tf\n",
        "from google.colab import files\n",
        "\n",
        "from IPython.display import clear_output"
      ],
      "execution_count": 93,
      "outputs": [
        {
          "output_type": "stream",
          "text": [
            "Requirement already satisfied: kaggle in /usr/local/lib/python3.6/dist-packages (1.5.6)\n",
            "Requirement already satisfied: python-dateutil in /usr/local/lib/python3.6/dist-packages (from kaggle) (2.8.1)\n",
            "Requirement already satisfied: python-slugify in /usr/local/lib/python3.6/dist-packages (from kaggle) (4.0.1)\n",
            "Requirement already satisfied: six>=1.10 in /usr/local/lib/python3.6/dist-packages (from kaggle) (1.12.0)\n",
            "Requirement already satisfied: requests in /usr/local/lib/python3.6/dist-packages (from kaggle) (2.23.0)\n",
            "Requirement already satisfied: certifi in /usr/local/lib/python3.6/dist-packages (from kaggle) (2020.6.20)\n",
            "Requirement already satisfied: tqdm in /usr/local/lib/python3.6/dist-packages (from kaggle) (4.41.1)\n",
            "Requirement already satisfied: urllib3<1.25,>=1.21.1 in /usr/local/lib/python3.6/dist-packages (from kaggle) (1.24.3)\n",
            "Requirement already satisfied: text-unidecode>=1.3 in /usr/local/lib/python3.6/dist-packages (from python-slugify->kaggle) (1.3)\n",
            "Requirement already satisfied: chardet<4,>=3.0.2 in /usr/local/lib/python3.6/dist-packages (from requests->kaggle) (3.0.4)\n",
            "Requirement already satisfied: idna<3,>=2.5 in /usr/local/lib/python3.6/dist-packages (from requests->kaggle) (2.10)\n"
          ],
          "name": "stdout"
        }
      ]
    },
    {
      "cell_type": "code",
      "metadata": {
        "id": "GNeDOST2gME3",
        "colab_type": "code",
        "colab": {}
      },
      "source": [
        "#clear_output()\n",
        "#files.upload()\n",
        "#!cd drive\n",
        "#!cd \"My Drive\"\n",
        "#!mkdir data\n",
        "#!cd data\n",
        "#! mkdir ~/.kaggle\n",
        "#! cp kaggle.json ~/.kaggle/\n",
        "#! chmod 600 ~/.kaggle/kaggle.json\n",
        "#! kaggle datasets list"
      ],
      "execution_count": 94,
      "outputs": []
    },
    {
      "cell_type": "code",
      "metadata": {
        "id": "bIGCaA95hc26",
        "colab_type": "code",
        "colab": {}
      },
      "source": [
        "#! kaggle competitions download -c siim-isic-melanoma-classification\n",
        "#clear_output()"
      ],
      "execution_count": 95,
      "outputs": []
    },
    {
      "cell_type": "code",
      "metadata": {
        "id": "mFhvXt0U1Lm6",
        "colab_type": "code",
        "colab": {
          "base_uri": "https://localhost:8080/",
          "height": 34
        },
        "outputId": "be86f1f3-cf06-4d39-993d-07049559e7fd"
      },
      "source": [
        "from google.colab import drive\n",
        "drive.mount('/content/drive')"
      ],
      "execution_count": 96,
      "outputs": [
        {
          "output_type": "stream",
          "text": [
            "Drive already mounted at /content/drive; to attempt to forcibly remount, call drive.mount(\"/content/drive\", force_remount=True).\n"
          ],
          "name": "stdout"
        }
      ]
    },
    {
      "cell_type": "code",
      "metadata": {
        "id": "FoTbw6pth4zj",
        "colab_type": "code",
        "colab": {}
      },
      "source": [
        "#! mkdir train_t\n",
        "#! unzip \"*.dcm.zip\" -d train\n",
        "\n",
        "#clear_output()"
      ],
      "execution_count": 97,
      "outputs": []
    },
    {
      "cell_type": "code",
      "metadata": {
        "id": "y0hPbLQciudD",
        "colab_type": "code",
        "colab": {}
      },
      "source": [
        "#!pip install pydicom\n",
        "#import pydicom as dicom\n",
        "import matplotlib.pyplot as plt\n",
        "clear_output()"
      ],
      "execution_count": 98,
      "outputs": []
    },
    {
      "cell_type": "code",
      "metadata": {
        "id": "_IMR3TDbjnNm",
        "colab_type": "code",
        "colab": {}
      },
      "source": [
        "#image_path = './train/ISIC_0015719.dcm'\n",
        "#ds = dicom.dcmread(image_path)\n",
        "\n",
        "#plt.imshow(ds.pixel_array)"
      ],
      "execution_count": 99,
      "outputs": []
    },
    {
      "cell_type": "code",
      "metadata": {
        "id": "mYY0Qi-fjz8f",
        "colab_type": "code",
        "colab": {}
      },
      "source": [
        "#ds.PatientID[1:-1]"
      ],
      "execution_count": 100,
      "outputs": []
    },
    {
      "cell_type": "code",
      "metadata": {
        "id": "iPcb6tTCky69",
        "colab_type": "code",
        "colab": {}
      },
      "source": [
        "import os\n",
        "from PIL import Image\n",
        "import numpy as np"
      ],
      "execution_count": 101,
      "outputs": []
    },
    {
      "cell_type": "code",
      "metadata": {
        "id": "4Kjvt8wEolgn",
        "colab_type": "code",
        "colab": {}
      },
      "source": [
        "input_size=(256,256)"
      ],
      "execution_count": 211,
      "outputs": []
    },
    {
      "cell_type": "code",
      "metadata": {
        "id": "AQi-NI0Cpd0g",
        "colab_type": "code",
        "colab": {
          "base_uri": "https://localhost:8080/",
          "height": 52
        },
        "outputId": "efd95e3f-76cc-4c06-d98e-29e7d614f756"
      },
      "source": [
        "DATA=[]\n",
        "classvector=[]\n",
        "c=0\n",
        "first=0;\n",
        "second=0;\n",
        "for i in os.listdir('./drive/My Drive/train/train_0/'):\n",
        "  #clear_output(wait=True)\n",
        "  #print(c)\n",
        "  c= c+1\n",
        "  first=first+1;\n",
        "  path='./drive/My Drive/train/train_0/' + i\n",
        "  im=Image.open(path)\n",
        "  im=im.resize(input_size)\n",
        "  im=np.array(im)\n",
        "  im=np.array(im,dtype='float64')\n",
        "  im = im/255\n",
        "  DATA.append(im)\n",
        "  classvector.append(0)\n",
        "  if(first>200):\n",
        "    break\n",
        "  if (c>200):\n",
        "    break;\n",
        "DATA[0]\n",
        "for i in os.listdir('./drive/My Drive/train/train_1/'):\n",
        "  #clear_output(wait=True)\n",
        "  #print(c)\n",
        "  c= c+1\n",
        "  second=second+1\n",
        "  path='./drive/My Drive/train/train_1/' + i\n",
        "  im=Image.open(path)\n",
        "  im=im.resize(input_size)\n",
        "  im=np.array(im)\n",
        "  im=np.array(im,dtype='float64')\n",
        "  im = im/255\n",
        "  DATA.append(im)\n",
        "  classvector.append(1)\n",
        "  if(second>100):\n",
        "    break\n",
        "  if (c>300):\n",
        "    break;\n",
        "print(\"Hasta olmayan verilerden :\" + str(first) + \" kadar alındı\")\n",
        "print(\"Hasta olan verilerden :\" + str(second) + \" kadar alındı\")"
      ],
      "execution_count": 212,
      "outputs": [
        {
          "output_type": "stream",
          "text": [
            "Hasta olmayan verilerden :201 kadar alındı\n",
            "Hasta olan verilerden :100 kadar alındı\n"
          ],
          "name": "stdout"
        }
      ]
    },
    {
      "cell_type": "code",
      "metadata": {
        "id": "14okVCPgrLaW",
        "colab_type": "code",
        "colab": {}
      },
      "source": [
        "DATA=np.reshape(DATA,newshape=(-1,input_size[0],input_size[1],3))"
      ],
      "execution_count": 213,
      "outputs": []
    },
    {
      "cell_type": "code",
      "metadata": {
        "id": "2dpA5QPfruJh",
        "colab_type": "code",
        "colab": {
          "base_uri": "https://localhost:8080/",
          "height": 52
        },
        "outputId": "6740fcb2-66aa-4bfa-c705-26d2ff9a868f"
      },
      "source": [
        "print(len(DATA))\n",
        "print(len(classvector))"
      ],
      "execution_count": 214,
      "outputs": [
        {
          "output_type": "stream",
          "text": [
            "301\n",
            "301\n"
          ],
          "name": "stdout"
        }
      ]
    },
    {
      "cell_type": "code",
      "metadata": {
        "id": "2OSC4bY9r0mo",
        "colab_type": "code",
        "colab": {}
      },
      "source": [
        "classvector=np.array(classvector)"
      ],
      "execution_count": 215,
      "outputs": []
    },
    {
      "cell_type": "code",
      "metadata": {
        "id": "Vis7UNl-sSyg",
        "colab_type": "code",
        "colab": {}
      },
      "source": [
        "#imdata=DATA*255\n",
        "#imdata=np.array(imdata,dtype='uint8')\n",
        "#plt.imshow(imdata[0])"
      ],
      "execution_count": 216,
      "outputs": []
    },
    {
      "cell_type": "code",
      "metadata": {
        "id": "4iMh9wyl9ISF",
        "colab_type": "code",
        "colab": {}
      },
      "source": [
        "model= tf.keras.Sequential([\n",
        "                            tf.keras.layers.Conv2D(64, (3,3), activation='relu', input_shape=(input_size[0],input_size[1],3)),\n",
        "                            tf.keras.layers.MaxPool2D(2,2),\n",
        "                            tf.keras.layers.Conv2D(32, (3,3), activation='relu'),\n",
        "                            tf.keras.layers.MaxPool2D(2,2),\n",
        "                            tf.keras.layers.Conv2D(32, (3,3), activation='relu'),\n",
        "                            tf.keras.layers.MaxPool2D(2,2),\n",
        "                            tf.keras.layers.Conv2D(16, (3,3), activation='relu'),\n",
        "                            tf.keras.layers.MaxPool2D(2,2),\n",
        "                            tf.keras.layers.Flatten(),\n",
        "                            tf.keras.layers.Dense(512,activation='relu'),\n",
        "                            tf.keras.layers.Dense(1,activation='sigmoid')\n",
        "\n",
        "])"
      ],
      "execution_count": 217,
      "outputs": []
    },
    {
      "cell_type": "code",
      "metadata": {
        "id": "Tgb8cVVLQhc5",
        "colab_type": "code",
        "colab": {}
      },
      "source": [
        "class MyCallBack(tf.keras.callbacks.Callback):\n",
        "  def on_epoch_end(self, epoch, logs={}):\n",
        "    if(logs.get('accuracy')>0.85):\n",
        "      print(\"Reached the %85 accuracy early stopping\")\n",
        "      self.model.stop_training=True;\n",
        "\n",
        "callback=MyCallBack()"
      ],
      "execution_count": 269,
      "outputs": []
    },
    {
      "cell_type": "code",
      "metadata": {
        "id": "L3jjREqn9-Yw",
        "colab_type": "code",
        "colab": {}
      },
      "source": [
        "model.compile(optimizer='adam', loss=tf.keras.losses.binary_crossentropy, metrics=['accuracy'])"
      ],
      "execution_count": 270,
      "outputs": []
    },
    {
      "cell_type": "code",
      "metadata": {
        "id": "lcl9YkLuAobW",
        "colab_type": "code",
        "colab": {
          "base_uri": "https://localhost:8080/",
          "height": 550
        },
        "outputId": "e0d9ac0b-fc5a-4529-ca4b-69a6a77c3479"
      },
      "source": [
        "model.summary()"
      ],
      "execution_count": 271,
      "outputs": [
        {
          "output_type": "stream",
          "text": [
            "Model: \"sequential_7\"\n",
            "_________________________________________________________________\n",
            "Layer (type)                 Output Shape              Param #   \n",
            "=================================================================\n",
            "conv2d_28 (Conv2D)           (None, 254, 254, 64)      1792      \n",
            "_________________________________________________________________\n",
            "max_pooling2d_28 (MaxPooling (None, 127, 127, 64)      0         \n",
            "_________________________________________________________________\n",
            "conv2d_29 (Conv2D)           (None, 125, 125, 32)      18464     \n",
            "_________________________________________________________________\n",
            "max_pooling2d_29 (MaxPooling (None, 62, 62, 32)        0         \n",
            "_________________________________________________________________\n",
            "conv2d_30 (Conv2D)           (None, 60, 60, 32)        9248      \n",
            "_________________________________________________________________\n",
            "max_pooling2d_30 (MaxPooling (None, 30, 30, 32)        0         \n",
            "_________________________________________________________________\n",
            "conv2d_31 (Conv2D)           (None, 28, 28, 16)        4624      \n",
            "_________________________________________________________________\n",
            "max_pooling2d_31 (MaxPooling (None, 14, 14, 16)        0         \n",
            "_________________________________________________________________\n",
            "flatten_7 (Flatten)          (None, 3136)              0         \n",
            "_________________________________________________________________\n",
            "dense_14 (Dense)             (None, 512)               1606144   \n",
            "_________________________________________________________________\n",
            "dense_15 (Dense)             (None, 1)                 513       \n",
            "=================================================================\n",
            "Total params: 1,640,785\n",
            "Trainable params: 1,640,785\n",
            "Non-trainable params: 0\n",
            "_________________________________________________________________\n"
          ],
          "name": "stdout"
        }
      ]
    },
    {
      "cell_type": "code",
      "metadata": {
        "id": "yFb7baqtQPlo",
        "colab_type": "code",
        "colab": {}
      },
      "source": [
        ""
      ],
      "execution_count": 271,
      "outputs": []
    },
    {
      "cell_type": "code",
      "metadata": {
        "id": "tMxCFq_vAq2Q",
        "colab_type": "code",
        "colab": {
          "base_uri": "https://localhost:8080/",
          "height": 87
        },
        "outputId": "efe22c5c-9126-4ffd-dd25-1c6fcf836007"
      },
      "source": [
        "model.fit(DATA, classvector, epochs=300, callbacks=[callback])"
      ],
      "execution_count": 272,
      "outputs": [
        {
          "output_type": "stream",
          "text": [
            "Epoch 1/300\n",
            " 9/10 [==========================>...] - ETA: 0s - loss: 0.3029 - accuracy: 0.8785Reached the %85 accuracy early stopping\n",
            "10/10 [==============================] - 1s 71ms/step - loss: 0.3117 - accuracy: 0.8704\n"
          ],
          "name": "stdout"
        },
        {
          "output_type": "execute_result",
          "data": {
            "text/plain": [
              "<tensorflow.python.keras.callbacks.History at 0x7f9edc4fffd0>"
            ]
          },
          "metadata": {
            "tags": []
          },
          "execution_count": 272
        }
      ]
    },
    {
      "cell_type": "code",
      "metadata": {
        "id": "jCK8FEmQLlbu",
        "colab_type": "code",
        "colab": {}
      },
      "source": [
        "imdata=None"
      ],
      "execution_count": 273,
      "outputs": []
    },
    {
      "cell_type": "code",
      "metadata": {
        "id": "oErydGL_b2XY",
        "colab_type": "code",
        "colab": {}
      },
      "source": [
        "#model.save('./mymodel.h5')"
      ],
      "execution_count": 274,
      "outputs": []
    },
    {
      "cell_type": "code",
      "metadata": {
        "id": "W-qr1jxrcK8A",
        "colab_type": "code",
        "colab": {}
      },
      "source": [
        "#DATA=None"
      ],
      "execution_count": 275,
      "outputs": []
    },
    {
      "cell_type": "code",
      "metadata": {
        "id": "nG0kFtB7dCFv",
        "colab_type": "code",
        "colab": {}
      },
      "source": [
        "#classvector=None"
      ],
      "execution_count": 276,
      "outputs": []
    },
    {
      "cell_type": "code",
      "metadata": {
        "id": "WsJrUah5dJrZ",
        "colab_type": "code",
        "colab": {}
      },
      "source": [
        "im=None"
      ],
      "execution_count": 277,
      "outputs": []
    },
    {
      "cell_type": "code",
      "metadata": {
        "id": "F_TuW8AedVuB",
        "colab_type": "code",
        "colab": {}
      },
      "source": [
        "DATA_1=[]\n",
        "classvector_1=[]\n",
        "c=0\n",
        "first=0;\n",
        "second=0;\n",
        "for i in os.listdir('./drive/My Drive/test/train_0_test/'):\n",
        "  #clear_output(wait=True)\n",
        "  #print(c)\n",
        "  c= c+1\n",
        "  first=first+1;\n",
        "  path='./drive/My Drive/test/train_0_test/' + i\n",
        "  im=Image.open(path)\n",
        "  im=im.resize(input_size)\n",
        "  im=np.array(im)\n",
        "  im=np.array(im,dtype='float64')\n",
        "  im = im/255\n",
        "  DATA_1.append(im)\n",
        "  classvector_1.append(0)\n",
        "  if(first>50):\n",
        "    break\n",
        "  if (c>100):\n",
        "    break;\n",
        "DATA_1[0]\n",
        "for i in os.listdir('./drive/My Drive/test/train_1_test/'):\n",
        "  #clear_output(wait=True)\n",
        "  #print(c)\n",
        "  c= c+1\n",
        "  path='./drive/My Drive/test/train_1_test/' + i\n",
        "  im=Image.open(path)\n",
        "  im=im.resize(input_size)\n",
        "  im=np.array(im)\n",
        "  im=np.array(im,dtype='float64')\n",
        "  im = im/255\n",
        "  DATA_1.append(im)\n",
        "  classvector_1.append(1)\n",
        "  if(second>50):\n",
        "    break\n",
        "  if (c>100):\n",
        "    break;\n"
      ],
      "execution_count": 278,
      "outputs": []
    },
    {
      "cell_type": "code",
      "metadata": {
        "id": "MLMhpx4Tdi9a",
        "colab_type": "code",
        "colab": {}
      },
      "source": [
        "DATA_1=np.reshape(DATA_1,newshape=(-1,input_size[0],input_size[1],3))"
      ],
      "execution_count": 279,
      "outputs": []
    },
    {
      "cell_type": "code",
      "metadata": {
        "id": "1nZQZsogeESz",
        "colab_type": "code",
        "colab": {}
      },
      "source": [
        "P=model.predict(DATA_1)"
      ],
      "execution_count": 280,
      "outputs": []
    },
    {
      "cell_type": "code",
      "metadata": {
        "id": "0EfIRuEueG8z",
        "colab_type": "code",
        "colab": {}
      },
      "source": [
        "Z=[]\n",
        "for i in P:\n",
        "  if i>0.5:\n",
        "    Z.append(1)\n",
        "  else:\n",
        "    Z.append(0)"
      ],
      "execution_count": 281,
      "outputs": []
    },
    {
      "cell_type": "code",
      "metadata": {
        "id": "5E416gZ7eQv1",
        "colab_type": "code",
        "colab": {}
      },
      "source": [
        "c=0\n",
        "for i in range(len(Z)):\n",
        "  if(Z[i]==classvector_1[i]):\n",
        "    c= c+1"
      ],
      "execution_count": 282,
      "outputs": []
    },
    {
      "cell_type": "code",
      "metadata": {
        "id": "fkLsQJIFeUQ7",
        "colab_type": "code",
        "colab": {
          "base_uri": "https://localhost:8080/",
          "height": 35
        },
        "outputId": "75810797-e6fd-43c5-b829-7020c15f654b"
      },
      "source": [
        "print (\"Toplam accuracy: \"+ str(c/len(Z)))"
      ],
      "execution_count": 283,
      "outputs": [
        {
          "output_type": "stream",
          "text": [
            "Toplam accuracy: 0.675\n"
          ],
          "name": "stdout"
        }
      ]
    },
    {
      "cell_type": "code",
      "metadata": {
        "id": "m-DVdNqffHyZ",
        "colab_type": "code",
        "colab": {
          "base_uri": "https://localhost:8080/",
          "height": 35
        },
        "outputId": "eed55c0c-b049-4043-a52f-7ee532ea0257"
      },
      "source": [
        "##TRUE NEGATIVE RATE:\n",
        "DATA_1=[]\n",
        "classvector_1=[]\n",
        "c=0\n",
        "first=0;\n",
        "second=0;\n",
        "for i in os.listdir('./drive/My Drive/test/train_0_test/'):\n",
        "  #clear_output(wait=True)\n",
        "  #print(c)\n",
        "  c= c+1\n",
        "  first=first+1;\n",
        "  path='./drive/My Drive/test/train_0_test/' + i\n",
        "  im=Image.open(path)\n",
        "  im=im.resize(input_size)\n",
        "  im=np.array(im)\n",
        "  im=np.array(im,dtype='float64')\n",
        "  im = im/255\n",
        "  DATA_1.append(im)\n",
        "  classvector_1.append(0)\n",
        "  if(first>50):\n",
        "    break\n",
        "  if (c>100):\n",
        "    break;\n",
        "\n",
        "DATA_1=np.reshape(DATA_1,newshape=(-1,input_size[0],input_size[1],3))\n",
        "P=model.predict(DATA_1)\n",
        "Z=[]\n",
        "for i in P:\n",
        "  if i>0.5:\n",
        "    Z.append(1)\n",
        "  else:\n",
        "    Z.append(0)\n",
        "c=0\n",
        "for i in range(len(Z)):\n",
        "  if(Z[i]==classvector_1[i]):\n",
        "    c= c+1\n",
        "print (\"Accuracy in non melanoma: \"+ str(c/len(Z)))"
      ],
      "execution_count": 284,
      "outputs": [
        {
          "output_type": "stream",
          "text": [
            "Accuracy in non melanoma: 0.7647058823529411\n"
          ],
          "name": "stdout"
        }
      ]
    },
    {
      "cell_type": "code",
      "metadata": {
        "id": "xF1oaTigfreI",
        "colab_type": "code",
        "colab": {
          "base_uri": "https://localhost:8080/",
          "height": 35
        },
        "outputId": "2311cc67-9b54-4f75-e6f4-8df181676530"
      },
      "source": [
        "##TRUE POSITIVE RATE:\n",
        "DATA_1=[]\n",
        "classvector_1=[]\n",
        "c=0\n",
        "first=0;\n",
        "second=0;\n",
        "for i in os.listdir('./drive/My Drive/test/train_1_test/'):\n",
        "  #clear_output(wait=True)\n",
        "  #print(c)\n",
        "  c= c+1\n",
        "  path='./drive/My Drive/test/train_1_test/' + i\n",
        "  im=Image.open(path)\n",
        "  im=im.resize(input_size)\n",
        "  im=np.array(im)\n",
        "  im=np.array(im,dtype='float64')\n",
        "  im = im/255\n",
        "  DATA_1.append(im)\n",
        "  classvector_1.append(1)\n",
        "  if(second>50):\n",
        "    break\n",
        "  if (c>100):\n",
        "    break;\n",
        "\n",
        "\n",
        "DATA_1=np.reshape(DATA_1,newshape=(-1,input_size[0],input_size[1],3))\n",
        "P=model.predict(DATA_1)\n",
        "Z=[]\n",
        "for i in P:\n",
        "  if i>0.5:\n",
        "    Z.append(1)\n",
        "  else:\n",
        "    Z.append(0)\n",
        "c=0\n",
        "for i in range(len(Z)):\n",
        "  if(Z[i]==classvector_1[i]):\n",
        "    c= c+1\n",
        "print (\"Accuracy in melanoma: \"+ str(c/len(Z)))"
      ],
      "execution_count": 285,
      "outputs": [
        {
          "output_type": "stream",
          "text": [
            "Accuracy in melanoma: 0.5172413793103449\n"
          ],
          "name": "stdout"
        }
      ]
    },
    {
      "cell_type": "code",
      "metadata": {
        "id": "H7hlRjMtf0YZ",
        "colab_type": "code",
        "colab": {}
      },
      "source": [
        "\n",
        "\n",
        "\n"
      ],
      "execution_count": 285,
      "outputs": []
    },
    {
      "cell_type": "code",
      "metadata": {
        "id": "uxRAR_H8pPi0",
        "colab_type": "code",
        "colab": {}
      },
      "source": [
        "\n"
      ],
      "execution_count": 285,
      "outputs": []
    },
    {
      "cell_type": "code",
      "metadata": {
        "id": "caRDYdEcrlY3",
        "colab_type": "code",
        "colab": {}
      },
      "source": [
        ""
      ],
      "execution_count": 285,
      "outputs": []
    }
  ]
}