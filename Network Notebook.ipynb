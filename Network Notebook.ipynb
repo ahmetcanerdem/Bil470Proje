{
  "nbformat": 4,
  "nbformat_minor": 0,
  "metadata": {
    "kernelspec": {
      "display_name": "Python 3",
      "language": "python",
      "name": "python3"
    },
    "language_info": {
      "codemirror_mode": {
        "name": "ipython",
        "version": 3
      },
      "file_extension": ".py",
      "mimetype": "text/x-python",
      "name": "python",
      "nbconvert_exporter": "python",
      "pygments_lexer": "ipython3",
      "version": "3.6.2"
    },
    "colab": {
      "name": "Network Notebook.ipynb",
      "provenance": [],
      "include_colab_link": true
    },
    "accelerator": "GPU"
  },
  "cells": [
    {
      "cell_type": "markdown",
      "metadata": {
        "id": "view-in-github",
        "colab_type": "text"
      },
      "source": [
        "<a href=\"https://colab.research.google.com/github/ahmetcanerdem/Bil470Proje/blob/master/Network%20Notebook.ipynb\" target=\"_parent\"><img src=\"https://colab.research.google.com/assets/colab-badge.svg\" alt=\"Open In Colab\"/></a>"
      ]
    },
    {
      "cell_type": "code",
      "metadata": {
        "id": "yXeA7cgMgKPB",
        "colab_type": "code",
        "colab": {
          "base_uri": "https://localhost:8080/",
          "height": 215
        },
        "outputId": "38cd8058-174e-48b7-8fa9-8ac6c9d3ea2c"
      },
      "source": [
        "! pip install  kaggle\n",
        "import tensorflow as tf\n",
        "from google.colab import files\n",
        "\n",
        "from IPython.display import clear_output"
      ],
      "execution_count": 1,
      "outputs": [
        {
          "output_type": "stream",
          "text": [
            "Requirement already satisfied: kaggle in /usr/local/lib/python3.6/dist-packages (1.5.6)\n",
            "Requirement already satisfied: certifi in /usr/local/lib/python3.6/dist-packages (from kaggle) (2020.6.20)\n",
            "Requirement already satisfied: python-slugify in /usr/local/lib/python3.6/dist-packages (from kaggle) (4.0.1)\n",
            "Requirement already satisfied: python-dateutil in /usr/local/lib/python3.6/dist-packages (from kaggle) (2.8.1)\n",
            "Requirement already satisfied: urllib3<1.25,>=1.21.1 in /usr/local/lib/python3.6/dist-packages (from kaggle) (1.24.3)\n",
            "Requirement already satisfied: tqdm in /usr/local/lib/python3.6/dist-packages (from kaggle) (4.41.1)\n",
            "Requirement already satisfied: requests in /usr/local/lib/python3.6/dist-packages (from kaggle) (2.23.0)\n",
            "Requirement already satisfied: six>=1.10 in /usr/local/lib/python3.6/dist-packages (from kaggle) (1.12.0)\n",
            "Requirement already satisfied: text-unidecode>=1.3 in /usr/local/lib/python3.6/dist-packages (from python-slugify->kaggle) (1.3)\n",
            "Requirement already satisfied: chardet<4,>=3.0.2 in /usr/local/lib/python3.6/dist-packages (from requests->kaggle) (3.0.4)\n",
            "Requirement already satisfied: idna<3,>=2.5 in /usr/local/lib/python3.6/dist-packages (from requests->kaggle) (2.10)\n"
          ],
          "name": "stdout"
        }
      ]
    },
    {
      "cell_type": "code",
      "metadata": {
        "id": "GNeDOST2gME3",
        "colab_type": "code",
        "colab": {}
      },
      "source": [
        "#clear_output()\n",
        "#files.upload()\n",
        "#!cd drive\n",
        "#!cd \"My Drive\"\n",
        "#!mkdir data\n",
        "#!cd data\n",
        "#! mkdir ~/.kaggle\n",
        "#! cp kaggle.json ~/.kaggle/\n",
        "#! chmod 600 ~/.kaggle/kaggle.json\n",
        "#! kaggle datasets list"
      ],
      "execution_count": 2,
      "outputs": []
    },
    {
      "cell_type": "code",
      "metadata": {
        "id": "bIGCaA95hc26",
        "colab_type": "code",
        "colab": {}
      },
      "source": [
        "#! kaggle competitions download -c siim-isic-melanoma-classification\n",
        "#clear_output()"
      ],
      "execution_count": 3,
      "outputs": []
    },
    {
      "cell_type": "code",
      "metadata": {
        "id": "mFhvXt0U1Lm6",
        "colab_type": "code",
        "colab": {
          "base_uri": "https://localhost:8080/",
          "height": 35
        },
        "outputId": "8d8d3faf-6149-43a6-f2c1-70ba59de3b20"
      },
      "source": [
        "from google.colab import drive\n",
        "drive.mount('/content/drive')"
      ],
      "execution_count": 4,
      "outputs": [
        {
          "output_type": "stream",
          "text": [
            "Drive already mounted at /content/drive; to attempt to forcibly remount, call drive.mount(\"/content/drive\", force_remount=True).\n"
          ],
          "name": "stdout"
        }
      ]
    },
    {
      "cell_type": "code",
      "metadata": {
        "id": "FoTbw6pth4zj",
        "colab_type": "code",
        "colab": {}
      },
      "source": [
        "#! mkdir train_t\n",
        "#! unzip \"*.dcm.zip\" -d train\n",
        "\n",
        "#clear_output()"
      ],
      "execution_count": 5,
      "outputs": []
    },
    {
      "cell_type": "code",
      "metadata": {
        "id": "y0hPbLQciudD",
        "colab_type": "code",
        "colab": {}
      },
      "source": [
        "#!pip install pydicom\n",
        "#import pydicom as dicom\n",
        "import matplotlib.pyplot as plt\n",
        "clear_output()"
      ],
      "execution_count": 6,
      "outputs": []
    },
    {
      "cell_type": "code",
      "metadata": {
        "id": "_IMR3TDbjnNm",
        "colab_type": "code",
        "colab": {}
      },
      "source": [
        "#image_path = './train/ISIC_0015719.dcm'\n",
        "#ds = dicom.dcmread(image_path)\n",
        "\n",
        "#plt.imshow(ds.pixel_array)"
      ],
      "execution_count": 7,
      "outputs": []
    },
    {
      "cell_type": "code",
      "metadata": {
        "id": "mYY0Qi-fjz8f",
        "colab_type": "code",
        "colab": {}
      },
      "source": [
        "#ds.PatientID[1:-1]"
      ],
      "execution_count": 8,
      "outputs": []
    },
    {
      "cell_type": "code",
      "metadata": {
        "id": "iPcb6tTCky69",
        "colab_type": "code",
        "colab": {}
      },
      "source": [
        "import os\n",
        "from PIL import Image\n",
        "import numpy as np"
      ],
      "execution_count": 9,
      "outputs": []
    },
    {
      "cell_type": "code",
      "metadata": {
        "id": "4Kjvt8wEolgn",
        "colab_type": "code",
        "colab": {}
      },
      "source": [
        "input_size=(256,256)\n",
        "test_path=''\n",
        "training_path='./drive/My Drive/train/'\n",
        "train_0_p=training_path+'train_0/'\n",
        "train_1_p=training_path+'train_1_large/'\n",
        "treshold=0.85"
      ],
      "execution_count": 101,
      "outputs": []
    },
    {
      "cell_type": "code",
      "metadata": {
        "id": "AQi-NI0Cpd0g",
        "colab_type": "code",
        "colab": {
          "base_uri": "https://localhost:8080/",
          "height": 71
        },
        "outputId": "d2e5faa5-e0df-49af-df30-2a884539bff0"
      },
      "source": [
        "DATA=[]\n",
        "classvector=[]\n",
        "c=0\n",
        "first=0;\n",
        "second=0;\n",
        "for i in os.listdir(train_0_p):\n",
        "  clear_output(wait=True)\n",
        "  print(c)\n",
        "  c= c+1\n",
        "  first=first+1;\n",
        "  path= train_0_p + i\n",
        "  im=Image.open(path)\n",
        "  im=im.resize(input_size)\n",
        "  im=np.array(im)\n",
        "  im=np.array(im,dtype='float64')\n",
        "  im = im/255\n",
        "  DATA.append(im)\n",
        "  classvector.append(0)\n",
        "  if(first>500):\n",
        "    break\n",
        "  if (c>1000):\n",
        "    break;\n",
        "DATA[0]\n",
        "\n",
        "print(\"0 verisi bitti, 1 verisi alınıyor\")\n",
        "for i in os.listdir(train_1_p):\n",
        "  clear_output(wait=True)\n",
        "  print(c)\n",
        "  c= c+1\n",
        "  second=second+1\n",
        "  path= train_1_p + i\n",
        "  im=Image.open(path)\n",
        "  im=im.resize(input_size)\n",
        "  im=np.array(im)\n",
        "  im=np.array(im,dtype='float64')\n",
        "  im = im/255\n",
        "  DATA.append(im)\n",
        "  classvector.append(1)\n",
        "  if(second>500):\n",
        "    break\n",
        "  if (c>1000):\n",
        "    break;\n",
        "print(\"Hasta olmayan verilerden :\" + str(first) + \" kadar alındı\")\n",
        "print(\"Hasta olan verilerden :\" + str(second) + \" kadar alındı\")"
      ],
      "execution_count": 11,
      "outputs": [
        {
          "output_type": "stream",
          "text": [
            "998\n",
            "Hasta olmayan verilerden :501 kadar alındı\n",
            "Hasta olan verilerden :498 kadar alındı\n"
          ],
          "name": "stdout"
        }
      ]
    },
    {
      "cell_type": "code",
      "metadata": {
        "id": "14okVCPgrLaW",
        "colab_type": "code",
        "colab": {}
      },
      "source": [
        "DATA=np.reshape(DATA,newshape=(-1,input_size[0],input_size[1],3))"
      ],
      "execution_count": 12,
      "outputs": []
    },
    {
      "cell_type": "code",
      "metadata": {
        "id": "2dpA5QPfruJh",
        "colab_type": "code",
        "colab": {
          "base_uri": "https://localhost:8080/",
          "height": 53
        },
        "outputId": "66b1527a-c632-4ddf-a0f8-523e32333bcf"
      },
      "source": [
        "print(len(DATA))\n",
        "print(len(classvector))"
      ],
      "execution_count": 13,
      "outputs": [
        {
          "output_type": "stream",
          "text": [
            "999\n",
            "999\n"
          ],
          "name": "stdout"
        }
      ]
    },
    {
      "cell_type": "code",
      "metadata": {
        "id": "2OSC4bY9r0mo",
        "colab_type": "code",
        "colab": {}
      },
      "source": [
        "classvector=np.array(classvector)"
      ],
      "execution_count": 14,
      "outputs": []
    },
    {
      "cell_type": "code",
      "metadata": {
        "id": "Vis7UNl-sSyg",
        "colab_type": "code",
        "colab": {}
      },
      "source": [
        "#imdata=DATA*255\n",
        "#imdata=np.array(imdata,dtype='uint8')\n",
        "#plt.imshow(imdata[0])"
      ],
      "execution_count": 15,
      "outputs": []
    },
    {
      "cell_type": "code",
      "metadata": {
        "id": "4iMh9wyl9ISF",
        "colab_type": "code",
        "colab": {}
      },
      "source": [
        "model= tf.keras.Sequential([\n",
        "                            tf.keras.layers.Conv2D(64, (3,3), activation='relu', input_shape=(input_size[0],input_size[1],3)),\n",
        "                            tf.keras.layers.MaxPool2D(2,2),\n",
        "                            tf.keras.layers.Conv2D(32, (3,3), activation='relu'),\n",
        "                            tf.keras.layers.MaxPool2D(2,2),\n",
        "                            tf.keras.layers.Conv2D(32, (3,3), activation='relu'),\n",
        "                            tf.keras.layers.MaxPool2D(2,2),\n",
        "                            tf.keras.layers.Conv2D(16, (3,3), activation='relu'),\n",
        "                            tf.keras.layers.MaxPool2D(2,2),\n",
        "                            tf.keras.layers.Flatten(),\n",
        "                            tf.keras.layers.Dense(512,activation='relu'),\n",
        "                            tf.keras.layers.Dense(1,activation='sigmoid')\n",
        "\n",
        "])"
      ],
      "execution_count": 16,
      "outputs": []
    },
    {
      "cell_type": "code",
      "metadata": {
        "id": "Tgb8cVVLQhc5",
        "colab_type": "code",
        "colab": {}
      },
      "source": [
        "class MyCallBack(tf.keras.callbacks.Callback):\n",
        "  def on_epoch_end(self, epoch, logs={}):\n",
        "    if(logs.get('accuracy')>0.95):\n",
        "      print(\"Reached the %95 accuracy early stopping\")\n",
        "      self.model.stop_training=True;\n",
        "\n",
        "callback=MyCallBack()"
      ],
      "execution_count": 17,
      "outputs": []
    },
    {
      "cell_type": "code",
      "metadata": {
        "id": "L3jjREqn9-Yw",
        "colab_type": "code",
        "colab": {}
      },
      "source": [
        "model.compile(optimizer='adam', loss=tf.keras.losses.binary_crossentropy, metrics=['accuracy'])"
      ],
      "execution_count": 18,
      "outputs": []
    },
    {
      "cell_type": "code",
      "metadata": {
        "id": "lcl9YkLuAobW",
        "colab_type": "code",
        "colab": {
          "base_uri": "https://localhost:8080/",
          "height": 557
        },
        "outputId": "fae93b05-1c84-4164-93db-1dedf3142422"
      },
      "source": [
        "model.summary()"
      ],
      "execution_count": 19,
      "outputs": [
        {
          "output_type": "stream",
          "text": [
            "Model: \"sequential\"\n",
            "_________________________________________________________________\n",
            "Layer (type)                 Output Shape              Param #   \n",
            "=================================================================\n",
            "conv2d (Conv2D)              (None, 254, 254, 64)      1792      \n",
            "_________________________________________________________________\n",
            "max_pooling2d (MaxPooling2D) (None, 127, 127, 64)      0         \n",
            "_________________________________________________________________\n",
            "conv2d_1 (Conv2D)            (None, 125, 125, 32)      18464     \n",
            "_________________________________________________________________\n",
            "max_pooling2d_1 (MaxPooling2 (None, 62, 62, 32)        0         \n",
            "_________________________________________________________________\n",
            "conv2d_2 (Conv2D)            (None, 60, 60, 32)        9248      \n",
            "_________________________________________________________________\n",
            "max_pooling2d_2 (MaxPooling2 (None, 30, 30, 32)        0         \n",
            "_________________________________________________________________\n",
            "conv2d_3 (Conv2D)            (None, 28, 28, 16)        4624      \n",
            "_________________________________________________________________\n",
            "max_pooling2d_3 (MaxPooling2 (None, 14, 14, 16)        0         \n",
            "_________________________________________________________________\n",
            "flatten (Flatten)            (None, 3136)              0         \n",
            "_________________________________________________________________\n",
            "dense (Dense)                (None, 512)               1606144   \n",
            "_________________________________________________________________\n",
            "dense_1 (Dense)              (None, 1)                 513       \n",
            "=================================================================\n",
            "Total params: 1,640,785\n",
            "Trainable params: 1,640,785\n",
            "Non-trainable params: 0\n",
            "_________________________________________________________________\n"
          ],
          "name": "stdout"
        }
      ]
    },
    {
      "cell_type": "code",
      "metadata": {
        "id": "yFb7baqtQPlo",
        "colab_type": "code",
        "colab": {}
      },
      "source": [
        ""
      ],
      "execution_count": 19,
      "outputs": []
    },
    {
      "cell_type": "code",
      "metadata": {
        "id": "tMxCFq_vAq2Q",
        "colab_type": "code",
        "colab": {
          "base_uri": "https://localhost:8080/",
          "height": 1000
        },
        "outputId": "3b776d28-7869-4cfa-adec-a5fb13baed76"
      },
      "source": [
        "model.fit(DATA, classvector, epochs=300, callbacks=[callback])"
      ],
      "execution_count": 20,
      "outputs": [
        {
          "output_type": "stream",
          "text": [
            "Epoch 1/300\n",
            "32/32 [==============================] - 5s 142ms/step - loss: 0.6950 - accuracy: 0.5285\n",
            "Epoch 2/300\n",
            "32/32 [==============================] - 4s 131ms/step - loss: 0.6659 - accuracy: 0.6066\n",
            "Epoch 3/300\n",
            "32/32 [==============================] - 4s 131ms/step - loss: 0.6453 - accuracy: 0.6376\n",
            "Epoch 4/300\n",
            "32/32 [==============================] - 4s 132ms/step - loss: 0.6630 - accuracy: 0.5916\n",
            "Epoch 5/300\n",
            "32/32 [==============================] - 4s 131ms/step - loss: 0.6714 - accuracy: 0.5726\n",
            "Epoch 6/300\n",
            "32/32 [==============================] - 4s 131ms/step - loss: 0.6369 - accuracy: 0.6486\n",
            "Epoch 7/300\n",
            "32/32 [==============================] - 4s 132ms/step - loss: 0.6249 - accuracy: 0.6577\n",
            "Epoch 8/300\n",
            "32/32 [==============================] - 4s 133ms/step - loss: 0.5924 - accuracy: 0.6817\n",
            "Epoch 9/300\n",
            "32/32 [==============================] - 4s 132ms/step - loss: 0.5950 - accuracy: 0.6527\n",
            "Epoch 10/300\n",
            "32/32 [==============================] - 4s 133ms/step - loss: 0.6531 - accuracy: 0.6106\n",
            "Epoch 11/300\n",
            "32/32 [==============================] - 4s 131ms/step - loss: 0.6247 - accuracy: 0.6326\n",
            "Epoch 12/300\n",
            "32/32 [==============================] - 4s 132ms/step - loss: 0.5734 - accuracy: 0.6977\n",
            "Epoch 13/300\n",
            "32/32 [==============================] - 4s 132ms/step - loss: 0.6239 - accuracy: 0.6517\n",
            "Epoch 14/300\n",
            "32/32 [==============================] - 4s 131ms/step - loss: 0.6115 - accuracy: 0.6496\n",
            "Epoch 15/300\n",
            "32/32 [==============================] - 4s 132ms/step - loss: 0.5523 - accuracy: 0.7107\n",
            "Epoch 16/300\n",
            "32/32 [==============================] - 4s 132ms/step - loss: 0.5265 - accuracy: 0.7317\n",
            "Epoch 17/300\n",
            "32/32 [==============================] - 4s 132ms/step - loss: 0.4908 - accuracy: 0.7698\n",
            "Epoch 18/300\n",
            "32/32 [==============================] - 4s 130ms/step - loss: 0.4818 - accuracy: 0.7728\n",
            "Epoch 19/300\n",
            "32/32 [==============================] - 4s 131ms/step - loss: 0.4665 - accuracy: 0.7918\n",
            "Epoch 20/300\n",
            "32/32 [==============================] - 4s 132ms/step - loss: 0.4600 - accuracy: 0.7928\n",
            "Epoch 21/300\n",
            "32/32 [==============================] - 4s 131ms/step - loss: 0.4131 - accuracy: 0.8258\n",
            "Epoch 22/300\n",
            "32/32 [==============================] - 4s 131ms/step - loss: 0.4785 - accuracy: 0.7688\n",
            "Epoch 23/300\n",
            "32/32 [==============================] - 4s 131ms/step - loss: 0.4095 - accuracy: 0.8198\n",
            "Epoch 24/300\n",
            "32/32 [==============================] - 4s 132ms/step - loss: 0.3801 - accuracy: 0.8338\n",
            "Epoch 25/300\n",
            "32/32 [==============================] - 4s 131ms/step - loss: 0.3543 - accuracy: 0.8448\n",
            "Epoch 26/300\n",
            "32/32 [==============================] - 4s 131ms/step - loss: 0.3144 - accuracy: 0.8569\n",
            "Epoch 27/300\n",
            "32/32 [==============================] - 4s 131ms/step - loss: 0.2604 - accuracy: 0.8829\n",
            "Epoch 28/300\n",
            "32/32 [==============================] - 4s 132ms/step - loss: 0.2523 - accuracy: 0.8939\n",
            "Epoch 29/300\n",
            "32/32 [==============================] - 4s 132ms/step - loss: 0.2270 - accuracy: 0.9059\n",
            "Epoch 30/300\n",
            "32/32 [==============================] - 4s 131ms/step - loss: 0.1890 - accuracy: 0.9229\n",
            "Epoch 31/300\n",
            "32/32 [==============================] - 4s 132ms/step - loss: 0.2249 - accuracy: 0.9159\n",
            "Epoch 32/300\n",
            "32/32 [==============================] - 4s 131ms/step - loss: 0.2468 - accuracy: 0.9029\n",
            "Epoch 33/300\n",
            "32/32 [==============================] - 4s 132ms/step - loss: 0.1616 - accuracy: 0.9439\n",
            "Epoch 34/300\n",
            "32/32 [==============================] - 4s 132ms/step - loss: 0.1555 - accuracy: 0.9429\n",
            "Epoch 35/300\n",
            "31/32 [============================>.] - ETA: 0s - loss: 0.1121 - accuracy: 0.9597Reached the %95 accuracy early stopping\n",
            "32/32 [==============================] - 4s 131ms/step - loss: 0.1120 - accuracy: 0.9600\n"
          ],
          "name": "stdout"
        },
        {
          "output_type": "execute_result",
          "data": {
            "text/plain": [
              "<tensorflow.python.keras.callbacks.History at 0x7f2e701a8a90>"
            ]
          },
          "metadata": {
            "tags": []
          },
          "execution_count": 20
        }
      ]
    },
    {
      "cell_type": "code",
      "metadata": {
        "id": "jCK8FEmQLlbu",
        "colab_type": "code",
        "colab": {}
      },
      "source": [
        "imdata=None"
      ],
      "execution_count": null,
      "outputs": []
    },
    {
      "cell_type": "code",
      "metadata": {
        "id": "oErydGL_b2XY",
        "colab_type": "code",
        "colab": {}
      },
      "source": [
        "#model.save('./mymodel.h5')"
      ],
      "execution_count": null,
      "outputs": []
    },
    {
      "cell_type": "code",
      "metadata": {
        "id": "W-qr1jxrcK8A",
        "colab_type": "code",
        "colab": {}
      },
      "source": [
        "#DATA=None"
      ],
      "execution_count": null,
      "outputs": []
    },
    {
      "cell_type": "code",
      "metadata": {
        "id": "nG0kFtB7dCFv",
        "colab_type": "code",
        "colab": {}
      },
      "source": [
        "#classvector=None"
      ],
      "execution_count": null,
      "outputs": []
    },
    {
      "cell_type": "code",
      "metadata": {
        "id": "WsJrUah5dJrZ",
        "colab_type": "code",
        "colab": {}
      },
      "source": [
        "im=None"
      ],
      "execution_count": null,
      "outputs": []
    },
    {
      "cell_type": "code",
      "metadata": {
        "id": "BkAnwUx8SlBe",
        "colab_type": "code",
        "colab": {}
      },
      "source": [
        "treshold=0.875"
      ],
      "execution_count": 162,
      "outputs": []
    },
    {
      "cell_type": "code",
      "metadata": {
        "id": "F_TuW8AedVuB",
        "colab_type": "code",
        "colab": {}
      },
      "source": [
        "DATA_TOTAL=[]\n",
        "classvector_total=[]\n",
        "c=0\n",
        "first=0;\n",
        "second=0;\n",
        "for i in os.listdir('./drive/My Drive/test/train_0_test/'):\n",
        "  #clear_output(wait=True)\n",
        "  #print(c)\n",
        "  c= c+1\n",
        "  first=first+1;\n",
        "  path='./drive/My Drive/test/train_0_test/' + i\n",
        "  im=Image.open(path)\n",
        "  im=im.resize(input_size)\n",
        "  im=np.array(im)\n",
        "  im=np.array(im,dtype='float64')\n",
        "  im = im/255\n",
        "  DATA_TOTAL.append(im)\n",
        "  classvector_total.append(0)\n",
        "  if(first>50):\n",
        "    break\n",
        "  if (c>100):\n",
        "    break;\n",
        "for i in os.listdir('./drive/My Drive/test/train_1_test/'):\n",
        "  #clear_output(wait=True)\n",
        "  #print(c)\n",
        "  c= c+1\n",
        "  path='./drive/My Drive/test/train_1_test/' + i\n",
        "  im=Image.open(path)\n",
        "  im=im.resize(input_size)\n",
        "  im=np.array(im)\n",
        "  im=np.array(im,dtype='float64')\n",
        "  im = im/255\n",
        "  DATA_TOTAL.append(im)\n",
        "  classvector_total.append(1)\n",
        "  if(second>50):\n",
        "    break\n",
        "  if (c>100):\n",
        "    break;\n"
      ],
      "execution_count": 163,
      "outputs": []
    },
    {
      "cell_type": "code",
      "metadata": {
        "id": "MLMhpx4Tdi9a",
        "colab_type": "code",
        "colab": {}
      },
      "source": [
        "DATA_TOTAL=np.reshape(DATA_TOTAL,newshape=(-1,input_size[0],input_size[1],3))"
      ],
      "execution_count": 164,
      "outputs": []
    },
    {
      "cell_type": "code",
      "metadata": {
        "id": "1nZQZsogeESz",
        "colab_type": "code",
        "colab": {}
      },
      "source": [
        "P=model.predict(DATA_TOTAL)"
      ],
      "execution_count": 165,
      "outputs": []
    },
    {
      "cell_type": "code",
      "metadata": {
        "id": "0EfIRuEueG8z",
        "colab_type": "code",
        "colab": {}
      },
      "source": [
        "Z=[]\n",
        "for i in P:\n",
        "  if i>treshold:\n",
        "    Z.append(1)\n",
        "  else:\n",
        "    Z.append(0)"
      ],
      "execution_count": 166,
      "outputs": []
    },
    {
      "cell_type": "code",
      "metadata": {
        "id": "5E416gZ7eQv1",
        "colab_type": "code",
        "colab": {}
      },
      "source": [
        "c=0\n",
        "for i in range(len(Z)):\n",
        "  if(Z[i]==classvector_total[i]):\n",
        "    c= c+1"
      ],
      "execution_count": 167,
      "outputs": []
    },
    {
      "cell_type": "code",
      "metadata": {
        "id": "fkLsQJIFeUQ7",
        "colab_type": "code",
        "colab": {
          "base_uri": "https://localhost:8080/",
          "height": 35
        },
        "outputId": "77932116-77bc-4bee-f5b9-bce54a8f06c4"
      },
      "source": [
        "print (\"Toplam accuracy: \"+ str(c/len(Z)))"
      ],
      "execution_count": 168,
      "outputs": [
        {
          "output_type": "stream",
          "text": [
            "Toplam accuracy: 0.825\n"
          ],
          "name": "stdout"
        }
      ]
    },
    {
      "cell_type": "code",
      "metadata": {
        "id": "m-DVdNqffHyZ",
        "colab_type": "code",
        "colab": {
          "base_uri": "https://localhost:8080/",
          "height": 35
        },
        "outputId": "c687655d-59c5-4893-86f2-70269cb5ebf0"
      },
      "source": [
        "##TRUE NEGATIVE RATE:\n",
        "DATA_ZEROS=[]\n",
        "classvector_zeros=[]\n",
        "c=0\n",
        "first=0;\n",
        "second=0;\n",
        "for i in os.listdir('./drive/My Drive/test/train_0_test/'):\n",
        "  #clear_output(wait=True)\n",
        "  #print(c)\n",
        "  c= c+1\n",
        "  first=first+1;\n",
        "  path='./drive/My Drive/test/train_0_test/' + i\n",
        "  im=Image.open(path)\n",
        "  im=im.resize(input_size)\n",
        "  im=np.array(im)\n",
        "  im=np.array(im,dtype='float64')\n",
        "  im = im/255\n",
        "  DATA_ZEROS.append(im)\n",
        "  classvector_zeros.append(0)\n",
        "  if(first>50):\n",
        "    break\n",
        "  if (c>100):\n",
        "    break;\n",
        "\n",
        "DATA_ZEROS=np.reshape(DATA_ZEROS,newshape=(-1,input_size[0],input_size[1],3))\n",
        "P=model.predict(DATA_ZEROS)\n",
        "Z=[]\n",
        "for i in P:\n",
        "  if i>treshold:\n",
        "    Z.append(1)\n",
        "  else:\n",
        "    Z.append(0)\n",
        "c=0\n",
        "for i in range(len(Z)):\n",
        "  if(Z[i]==classvector_zeros[i]):\n",
        "    c= c+1\n",
        "print (\"Accuracy in non melanoma: \"+ str(c/len(Z)))"
      ],
      "execution_count": 169,
      "outputs": [
        {
          "output_type": "stream",
          "text": [
            "Accuracy in non melanoma: 0.7843137254901961\n"
          ],
          "name": "stdout"
        }
      ]
    },
    {
      "cell_type": "code",
      "metadata": {
        "id": "xF1oaTigfreI",
        "colab_type": "code",
        "colab": {
          "base_uri": "https://localhost:8080/",
          "height": 35
        },
        "outputId": "50a8dfc9-d54b-4e74-c621-fd58af3e1196"
      },
      "source": [
        "##TRUE POSITIVE RATE:\n",
        "DATA_ONES=[]\n",
        "classvector_ones=[]\n",
        "c=0\n",
        "first=0;\n",
        "second=0;\n",
        "for i in os.listdir('./drive/My Drive/test/train_1_test/'):\n",
        "  #clear_output(wait=True)\n",
        "  #print(c)\n",
        "  c= c+1\n",
        "  path='./drive/My Drive/test/train_1_test/' + i\n",
        "  im=Image.open(path)\n",
        "  im=im.resize(input_size)\n",
        "  im=np.array(im)\n",
        "  im=np.array(im,dtype='float64')\n",
        "  im = im/255\n",
        "  DATA_ONES.append(im)\n",
        "  classvector_ones.append(1)\n",
        "  if(second>50):\n",
        "    break\n",
        "  if (c>100):\n",
        "    break;\n",
        "\n",
        "\n",
        "DATA_ONES=np.reshape(DATA_ONES,newshape=(-1,input_size[0],input_size[1],3))\n",
        "P=model.predict(DATA_ONES)\n",
        "Z=[]\n",
        "for i in P:\n",
        "  if i>treshold:\n",
        "    Z.append(1)\n",
        "  else:\n",
        "    Z.append(0)\n",
        "c=0\n",
        "for i in range(len(Z)):\n",
        "  if(Z[i]==classvector_ones[i]):\n",
        "    c= c+1\n",
        "print (\"Accuracy in melanoma: \"+ str(c/len(Z)))"
      ],
      "execution_count": 170,
      "outputs": [
        {
          "output_type": "stream",
          "text": [
            "Accuracy in melanoma: 0.896551724137931\n"
          ],
          "name": "stdout"
        }
      ]
    },
    {
      "cell_type": "code",
      "metadata": {
        "id": "H7hlRjMtf0YZ",
        "colab_type": "code",
        "colab": {}
      },
      "source": [
        "\n",
        "##Hangi olasılıktan sonra melanoma diyeceğime göre acuracy değişiyor. Doğru nokta 80% civarı gözüküyor ayrıca bu ihtimali her artırmamın true negative ve true positive e etkisi aynı olmuyor\n",
        "##RAPORA BUNU KOYMALIYIZ\n"
      ],
      "execution_count": 171,
      "outputs": []
    },
    {
      "cell_type": "code",
      "metadata": {
        "id": "uxRAR_H8pPi0",
        "colab_type": "code",
        "colab": {}
      },
      "source": [
        "ACC_TOT=[]\n",
        "ACC_TN=[]\n",
        "ACC_TP=[]\n",
        "P_T=model.predict(DATA_TOTAL)\n",
        "P_0=model.predict(DATA_ZEROS)\n",
        "P_1=model.predict(DATA_ONES)\n",
        "trVECTOR=[]\n",
        "for treshold_i in np.arange(0.4,1,0.025):\n",
        "  Z_T=[]\n",
        "  Z_0=[]\n",
        "  Z_1=[]\n",
        "  for i in P_T:\n",
        "    if (i>treshold_i):\n",
        "      Z_T.append(1)\n",
        "    else:\n",
        "      Z_T.append(0)\n",
        "  c=0\n",
        "  for i in range(len(Z_T)):\n",
        "    if(Z_T[i]==classvector_total[i]):\n",
        "      c= c+1\n",
        "  ACC_TOT.append(c/len(Z_T))\n",
        "\n",
        "\n",
        "  for i in P_0:\n",
        "    if (i>treshold_i):\n",
        "      Z_0.append(1)\n",
        "    else:\n",
        "      Z_0.append(0)\n",
        "  c=0\n",
        "  for i in range(len(Z_0)):\n",
        "    if(Z_0[i]==classvector_zeros[i]):\n",
        "      c= c+1\n",
        "  ACC_TN.append(c/len(Z_0))\n",
        "\n",
        "\n",
        "  for i in P_1:\n",
        "    if (i>treshold_i):\n",
        "      Z_1.append(1)\n",
        "    else:\n",
        "      Z_1.append(0)\n",
        "  c=0\n",
        "  for i in range(len(Z_1)):\n",
        "    if(Z_1[i]==classvector_ones[i]):\n",
        "      c= c+1\n",
        "  ACC_TP.append(c/len(Z_1))\n",
        "\n",
        "\n",
        "  trVECTOR.append(treshold_i)\n",
        "\n"
      ],
      "execution_count": 186,
      "outputs": []
    },
    {
      "cell_type": "code",
      "metadata": {
        "id": "caRDYdEcrlY3",
        "colab_type": "code",
        "colab": {
          "base_uri": "https://localhost:8080/",
          "height": 606
        },
        "outputId": "2e6f99a2-21ee-414a-b325-1ae1c9e4f37c"
      },
      "source": [
        "plt.figure(figsize=(20,10))\n",
        "plt.ylabel('accuracy')\n",
        "plt.xlabel('treshold')\n",
        "plt.plot(trVECTOR,ACC_TOT,'b',label='TOTAL ACCURACY')\n",
        "plt.plot(trVECTOR,ACC_TN, 'r',label='TRUE NEGATIVE ACCURACY')\n",
        "plt.plot(trVECTOR,ACC_TP, 'g', label='TRUE POSITIVE ACCURACY')\n",
        "plt.legend()\n",
        "plt.show()"
      ],
      "execution_count": 203,
      "outputs": [
        {
          "output_type": "display_data",
          "data": {
            "image/png": "[encoded data removed]",
            "text/plain": [
              "<Figure size 1440x720 with 1 Axes>"
            ]
          },
          "metadata": {
            "tags": [],
            "needs_background": "light"
          }
        }
      ]
    },
    {
      "cell_type": "code",
      "metadata": {
        "id": "tXfY3A8aRmJ1",
        "colab_type": "code",
        "colab": {}
      },
      "source": [
        "\n"
      ],
      "execution_count": 171,
      "outputs": []
    },
    {
      "cell_type": "code",
      "metadata": {
        "id": "hN9cyd0cSLcl",
        "colab_type": "code",
        "colab": {}
      },
      "source": [
        "\n"
      ],
      "execution_count": 171,
      "outputs": []
    },
    {
      "cell_type": "code",
      "metadata": {
        "id": "48WwntSKS8_3",
        "colab_type": "code",
        "colab": {}
      },
      "source": [
        ""
      ],
      "execution_count": 171,
      "outputs": []
    }
  ]
}