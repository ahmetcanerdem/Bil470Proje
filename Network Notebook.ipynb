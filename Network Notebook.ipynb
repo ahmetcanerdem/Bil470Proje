{
  "nbformat": 4,
  "nbformat_minor": 0,
  "metadata": {
    "kernelspec": {
      "display_name": "Python 3",
      "language": "python",
      "name": "python3"
    },
    "language_info": {
      "codemirror_mode": {
        "name": "ipython",
        "version": 3
      },
      "file_extension": ".py",
      "mimetype": "text/x-python",
      "name": "python",
      "nbconvert_exporter": "python",
      "pygments_lexer": "ipython3",
      "version": "3.6.2"
    },
    "colab": {
      "name": "Network Notebook.ipynb",
      "provenance": [],
      "include_colab_link": true
    },
    "accelerator": "GPU"
  },
  "cells": [
    {
      "cell_type": "markdown",
      "metadata": {
        "id": "view-in-github",
        "colab_type": "text"
      },
      "source": [
        "<a href=\"https://colab.research.google.com/github/ahmetcanerdem/Bil470Proje/blob/master/Network%20Notebook.ipynb\" target=\"_parent\"><img src=\"https://colab.research.google.com/assets/colab-badge.svg\" alt=\"Open In Colab\"/></a>"
      ]
    },
    {
      "cell_type": "code",
      "metadata": {
        "id": "yXeA7cgMgKPB",
        "colab_type": "code",
        "colab": {
          "base_uri": "https://localhost:8080/",
          "height": 212
        },
        "outputId": "dde6d98c-6ce4-4342-f62f-8af11ca1166d"
      },
      "source": [
        "! pip install  kaggle\n",
        "import tensorflow as tf\n",
        "from google.colab import files\n",
        "\n",
        "from IPython.display import clear_output"
      ],
      "execution_count": 1,
      "outputs": [
        {
          "output_type": "stream",
          "text": [
            "Requirement already satisfied: kaggle in /usr/local/lib/python3.6/dist-packages (1.5.6)\n",
            "Requirement already satisfied: certifi in /usr/local/lib/python3.6/dist-packages (from kaggle) (2020.6.20)\n",
            "Requirement already satisfied: urllib3<1.25,>=1.21.1 in /usr/local/lib/python3.6/dist-packages (from kaggle) (1.24.3)\n",
            "Requirement already satisfied: requests in /usr/local/lib/python3.6/dist-packages (from kaggle) (2.23.0)\n",
            "Requirement already satisfied: six>=1.10 in /usr/local/lib/python3.6/dist-packages (from kaggle) (1.12.0)\n",
            "Requirement already satisfied: python-dateutil in /usr/local/lib/python3.6/dist-packages (from kaggle) (2.8.1)\n",
            "Requirement already satisfied: python-slugify in /usr/local/lib/python3.6/dist-packages (from kaggle) (4.0.1)\n",
            "Requirement already satisfied: tqdm in /usr/local/lib/python3.6/dist-packages (from kaggle) (4.41.1)\n",
            "Requirement already satisfied: idna<3,>=2.5 in /usr/local/lib/python3.6/dist-packages (from requests->kaggle) (2.10)\n",
            "Requirement already satisfied: chardet<4,>=3.0.2 in /usr/local/lib/python3.6/dist-packages (from requests->kaggle) (3.0.4)\n",
            "Requirement already satisfied: text-unidecode>=1.3 in /usr/local/lib/python3.6/dist-packages (from python-slugify->kaggle) (1.3)\n"
          ],
          "name": "stdout"
        }
      ]
    },
    {
      "cell_type": "code",
      "metadata": {
        "id": "GNeDOST2gME3",
        "colab_type": "code",
        "colab": {}
      },
      "source": [
        "#clear_output()\n",
        "#files.upload()\n",
        "#!cd drive\n",
        "#!cd \"My Drive\"\n",
        "#!mkdir data\n",
        "#!cd data\n",
        "#! mkdir ~/.kaggle\n",
        "#! cp kaggle.json ~/.kaggle/\n",
        "#! chmod 600 ~/.kaggle/kaggle.json\n",
        "#! kaggle datasets list"
      ],
      "execution_count": 2,
      "outputs": []
    },
    {
      "cell_type": "code",
      "metadata": {
        "id": "bIGCaA95hc26",
        "colab_type": "code",
        "colab": {}
      },
      "source": [
        "#! kaggle competitions download -c siim-isic-melanoma-classification\n",
        "#clear_output()"
      ],
      "execution_count": 3,
      "outputs": []
    },
    {
      "cell_type": "code",
      "metadata": {
        "id": "mFhvXt0U1Lm6",
        "colab_type": "code",
        "colab": {
          "base_uri": "https://localhost:8080/",
          "height": 34
        },
        "outputId": "29585131-94a0-49a4-e1eb-33f9e7034486"
      },
      "source": [
        "from google.colab import drive\n",
        "drive.mount('/content/drive')"
      ],
      "execution_count": 4,
      "outputs": [
        {
          "output_type": "stream",
          "text": [
            "Drive already mounted at /content/drive; to attempt to forcibly remount, call drive.mount(\"/content/drive\", force_remount=True).\n"
          ],
          "name": "stdout"
        }
      ]
    },
    {
      "cell_type": "code",
      "metadata": {
        "id": "FoTbw6pth4zj",
        "colab_type": "code",
        "colab": {}
      },
      "source": [
        "#! mkdir train_t\n",
        "#! unzip \"*.dcm.zip\" -d train\n",
        "\n",
        "#clear_output()"
      ],
      "execution_count": 5,
      "outputs": []
    },
    {
      "cell_type": "code",
      "metadata": {
        "id": "y0hPbLQciudD",
        "colab_type": "code",
        "colab": {}
      },
      "source": [
        "#!pip install pydicom\n",
        "#import pydicom as dicom\n",
        "import matplotlib.pyplot as plt\n",
        "clear_output()"
      ],
      "execution_count": 6,
      "outputs": []
    },
    {
      "cell_type": "code",
      "metadata": {
        "id": "_IMR3TDbjnNm",
        "colab_type": "code",
        "colab": {}
      },
      "source": [
        "#image_path = './train/ISIC_0015719.dcm'\n",
        "#ds = dicom.dcmread(image_path)\n",
        "\n",
        "#plt.imshow(ds.pixel_array)"
      ],
      "execution_count": 7,
      "outputs": []
    },
    {
      "cell_type": "code",
      "metadata": {
        "id": "mYY0Qi-fjz8f",
        "colab_type": "code",
        "colab": {}
      },
      "source": [
        "#ds.PatientID[1:-1]"
      ],
      "execution_count": 8,
      "outputs": []
    },
    {
      "cell_type": "code",
      "metadata": {
        "id": "iPcb6tTCky69",
        "colab_type": "code",
        "colab": {}
      },
      "source": [
        "import os\n",
        "from PIL import Image\n",
        "import numpy as np"
      ],
      "execution_count": 9,
      "outputs": []
    },
    {
      "cell_type": "code",
      "metadata": {
        "id": "AQi-NI0Cpd0g",
        "colab_type": "code",
        "colab": {
          "base_uri": "https://localhost:8080/",
          "height": 52
        },
        "outputId": "5ef5f422-d2e1-41d1-d205-a6f338824473"
      },
      "source": [
        "DATA=[]\n",
        "classvector=[]\n",
        "c=0\n",
        "first=0;\n",
        "second=0;\n",
        "for i in os.listdir('./drive/My Drive/train/train_0/'):\n",
        "  #clear_output(wait=True)\n",
        "  #print(c)\n",
        "  c= c+1\n",
        "  first=first+1;\n",
        "  path='./drive/My Drive/train/train_0/' + i\n",
        "  im=Image.open(path)\n",
        "  im=im.resize((512,512))\n",
        "  im=np.array(im)\n",
        "  im=np.array(im,dtype='float64')\n",
        "  im = im/255\n",
        "  DATA.append(im)\n",
        "  classvector.append(0)\n",
        "  if(first>100):\n",
        "    break\n",
        "  if (c>200):\n",
        "    break;\n",
        "DATA[0]\n",
        "for i in os.listdir('./drive/My Drive/train/train_1/'):\n",
        "  #clear_output(wait=True)\n",
        "  #print(c)\n",
        "  c= c+1\n",
        "  second=second+1\n",
        "  path='./drive/My Drive/train/train_1/' + i\n",
        "  im=Image.open(path)\n",
        "  im=im.resize((512,512))\n",
        "  im=np.array(im)\n",
        "  im=np.array(im,dtype='float64')\n",
        "  im = im/255\n",
        "  DATA.append(im)\n",
        "  classvector.append(1)\n",
        "  if(second>100):\n",
        "    break\n",
        "  if (c>200):\n",
        "    break;\n",
        "print(\"Hasta olmayan verilerden :\" + str(first) + \" kadar alındı\")\n",
        "print(\"Hasta olan verilerden :\" + str(second) + \" kadar alındı\")"
      ],
      "execution_count": 49,
      "outputs": [
        {
          "output_type": "stream",
          "text": [
            "Hasta olmayan verilerden :101 kadar alındı\n",
            "Hasta olan verilerden :100 kadar alındı\n"
          ],
          "name": "stdout"
        }
      ]
    },
    {
      "cell_type": "code",
      "metadata": {
        "id": "14okVCPgrLaW",
        "colab_type": "code",
        "colab": {}
      },
      "source": [
        "DATA=np.reshape(DATA,newshape=(-1,512,512,3))"
      ],
      "execution_count": 51,
      "outputs": []
    },
    {
      "cell_type": "code",
      "metadata": {
        "id": "2dpA5QPfruJh",
        "colab_type": "code",
        "colab": {
          "base_uri": "https://localhost:8080/",
          "height": 52
        },
        "outputId": "aced831f-678a-449b-b391-bb95e83f8a9f"
      },
      "source": [
        "print(len(DATA))\n",
        "print(len(classvector))"
      ],
      "execution_count": 52,
      "outputs": [
        {
          "output_type": "stream",
          "text": [
            "201\n",
            "201\n"
          ],
          "name": "stdout"
        }
      ]
    },
    {
      "cell_type": "code",
      "metadata": {
        "id": "2OSC4bY9r0mo",
        "colab_type": "code",
        "colab": {}
      },
      "source": [
        "classvector=np.array(classvector)"
      ],
      "execution_count": 53,
      "outputs": []
    },
    {
      "cell_type": "code",
      "metadata": {
        "id": "Vis7UNl-sSyg",
        "colab_type": "code",
        "colab": {}
      },
      "source": [
        "#imdata=DATA*255\n",
        "#imdata=np.array(imdata,dtype='uint8')\n",
        "#plt.imshow(imdata[0])"
      ],
      "execution_count": 54,
      "outputs": []
    },
    {
      "cell_type": "code",
      "metadata": {
        "id": "4iMh9wyl9ISF",
        "colab_type": "code",
        "colab": {}
      },
      "source": [
        "model= tf.keras.Sequential([\n",
        "                            tf.keras.layers.Conv2D(64, (3,3), activation='relu', input_shape=(512,512,3)),\n",
        "                            tf.keras.layers.MaxPool2D(2,2),\n",
        "                            tf.keras.layers.Conv2D(32, (3,3), activation='relu', input_shape=(512,512,3)),\n",
        "                            tf.keras.layers.MaxPool2D(2,2),\n",
        "                            tf.keras.layers.Conv2D(32, (3,3), activation='relu', input_shape=(512,512,3)),\n",
        "                            tf.keras.layers.MaxPool2D(2,2),\n",
        "                            tf.keras.layers.Conv2D(16, (3,3), activation='relu', input_shape=(512,512,3)),\n",
        "                            tf.keras.layers.MaxPool2D(2,2),\n",
        "                            tf.keras.layers.Flatten(),\n",
        "                            tf.keras.layers.Dense(512,activation='relu'),\n",
        "                            tf.keras.layers.Dense(1,activation='sigmoid')\n",
        "\n",
        "])"
      ],
      "execution_count": 55,
      "outputs": []
    },
    {
      "cell_type": "code",
      "metadata": {
        "id": "Tgb8cVVLQhc5",
        "colab_type": "code",
        "colab": {}
      },
      "source": [
        "class MyCallBack(tf.keras.callbacks.Callback):\n",
        "  def on_epoch_end(self, epoch, logs={}):\n",
        "    if(logs.get('accuracy')>0.99):\n",
        "      print(\"Reached the %99 accuracy early stopping\")\n",
        "      self.model.stop_training=True;\n",
        "\n",
        "callback=MyCallBack()"
      ],
      "execution_count": 56,
      "outputs": []
    },
    {
      "cell_type": "code",
      "metadata": {
        "id": "L3jjREqn9-Yw",
        "colab_type": "code",
        "colab": {}
      },
      "source": [
        "model.compile(optimizer='adam', loss=tf.keras.losses.binary_crossentropy, metrics=['accuracy'])"
      ],
      "execution_count": 57,
      "outputs": []
    },
    {
      "cell_type": "code",
      "metadata": {
        "id": "lcl9YkLuAobW",
        "colab_type": "code",
        "colab": {
          "base_uri": "https://localhost:8080/",
          "height": 550
        },
        "outputId": "6fddc530-457c-4c42-8926-6bd3a6ba834d"
      },
      "source": [
        "model.summary()"
      ],
      "execution_count": 58,
      "outputs": [
        {
          "output_type": "stream",
          "text": [
            "Model: \"sequential_1\"\n",
            "_________________________________________________________________\n",
            "Layer (type)                 Output Shape              Param #   \n",
            "=================================================================\n",
            "conv2d_4 (Conv2D)            (None, 510, 510, 64)      1792      \n",
            "_________________________________________________________________\n",
            "max_pooling2d_4 (MaxPooling2 (None, 255, 255, 64)      0         \n",
            "_________________________________________________________________\n",
            "conv2d_5 (Conv2D)            (None, 253, 253, 32)      18464     \n",
            "_________________________________________________________________\n",
            "max_pooling2d_5 (MaxPooling2 (None, 126, 126, 32)      0         \n",
            "_________________________________________________________________\n",
            "conv2d_6 (Conv2D)            (None, 124, 124, 32)      9248      \n",
            "_________________________________________________________________\n",
            "max_pooling2d_6 (MaxPooling2 (None, 62, 62, 32)        0         \n",
            "_________________________________________________________________\n",
            "conv2d_7 (Conv2D)            (None, 60, 60, 16)        4624      \n",
            "_________________________________________________________________\n",
            "max_pooling2d_7 (MaxPooling2 (None, 30, 30, 16)        0         \n",
            "_________________________________________________________________\n",
            "flatten_1 (Flatten)          (None, 14400)             0         \n",
            "_________________________________________________________________\n",
            "dense_2 (Dense)              (None, 512)               7373312   \n",
            "_________________________________________________________________\n",
            "dense_3 (Dense)              (None, 1)                 513       \n",
            "=================================================================\n",
            "Total params: 7,407,953\n",
            "Trainable params: 7,407,953\n",
            "Non-trainable params: 0\n",
            "_________________________________________________________________\n"
          ],
          "name": "stdout"
        }
      ]
    },
    {
      "cell_type": "code",
      "metadata": {
        "id": "yFb7baqtQPlo",
        "colab_type": "code",
        "colab": {}
      },
      "source": [
        ""
      ],
      "execution_count": 58,
      "outputs": []
    },
    {
      "cell_type": "code",
      "metadata": {
        "id": "tMxCFq_vAq2Q",
        "colab_type": "code",
        "colab": {
          "base_uri": "https://localhost:8080/",
          "height": 1000
        },
        "outputId": "20dfb47b-eefa-4074-c8d7-8162c29f75e0"
      },
      "source": [
        "model.fit(DATA, classvector, epochs=300, callbacks=[callback])"
      ],
      "execution_count": 59,
      "outputs": [
        {
          "output_type": "stream",
          "text": [
            "Epoch 1/300\n",
            "7/7 [==============================] - 2s 239ms/step - loss: 1.0770 - accuracy: 0.4925\n",
            "Epoch 2/300\n",
            "7/7 [==============================] - 2s 235ms/step - loss: 0.7012 - accuracy: 0.4726\n",
            "Epoch 3/300\n",
            "7/7 [==============================] - 2s 237ms/step - loss: 0.6941 - accuracy: 0.4527\n",
            "Epoch 4/300\n",
            "7/7 [==============================] - 2s 236ms/step - loss: 0.6919 - accuracy: 0.5174\n",
            "Epoch 5/300\n",
            "7/7 [==============================] - 2s 235ms/step - loss: 0.6964 - accuracy: 0.5025\n",
            "Epoch 6/300\n",
            "7/7 [==============================] - 2s 239ms/step - loss: 0.6898 - accuracy: 0.5025\n",
            "Epoch 7/300\n",
            "7/7 [==============================] - 2s 234ms/step - loss: 0.6875 - accuracy: 0.5124\n",
            "Epoch 8/300\n",
            "7/7 [==============================] - 2s 235ms/step - loss: 0.6789 - accuracy: 0.5871\n",
            "Epoch 9/300\n",
            "7/7 [==============================] - 2s 236ms/step - loss: 0.6747 - accuracy: 0.5124\n",
            "Epoch 10/300\n",
            "7/7 [==============================] - 2s 235ms/step - loss: 0.6602 - accuracy: 0.6020\n",
            "Epoch 11/300\n",
            "7/7 [==============================] - 2s 239ms/step - loss: 0.6408 - accuracy: 0.6368\n",
            "Epoch 12/300\n",
            "7/7 [==============================] - 2s 241ms/step - loss: 0.6410 - accuracy: 0.6119\n",
            "Epoch 13/300\n",
            "7/7 [==============================] - 2s 235ms/step - loss: 0.6453 - accuracy: 0.5672\n",
            "Epoch 14/300\n",
            "7/7 [==============================] - 2s 233ms/step - loss: 0.6246 - accuracy: 0.5522\n",
            "Epoch 15/300\n",
            "7/7 [==============================] - 2s 234ms/step - loss: 0.6120 - accuracy: 0.5970\n",
            "Epoch 16/300\n",
            "7/7 [==============================] - 2s 235ms/step - loss: 0.6121 - accuracy: 0.6070\n",
            "Epoch 17/300\n",
            "7/7 [==============================] - 2s 235ms/step - loss: 0.5722 - accuracy: 0.6368\n",
            "Epoch 18/300\n",
            "7/7 [==============================] - 2s 238ms/step - loss: 0.5397 - accuracy: 0.6517\n",
            "Epoch 19/300\n",
            "7/7 [==============================] - 2s 236ms/step - loss: 0.5709 - accuracy: 0.6567\n",
            "Epoch 20/300\n",
            "7/7 [==============================] - 2s 236ms/step - loss: 0.5286 - accuracy: 0.7015\n",
            "Epoch 21/300\n",
            "7/7 [==============================] - 2s 234ms/step - loss: 0.4911 - accuracy: 0.7264\n",
            "Epoch 22/300\n",
            "7/7 [==============================] - 2s 238ms/step - loss: 0.4790 - accuracy: 0.7562\n",
            "Epoch 23/300\n",
            "7/7 [==============================] - 2s 234ms/step - loss: 0.4567 - accuracy: 0.7910\n",
            "Epoch 24/300\n",
            "7/7 [==============================] - 2s 232ms/step - loss: 0.4336 - accuracy: 0.8010\n",
            "Epoch 25/300\n",
            "7/7 [==============================] - 2s 234ms/step - loss: 0.4541 - accuracy: 0.8259\n",
            "Epoch 26/300\n",
            "7/7 [==============================] - 2s 236ms/step - loss: 0.6141 - accuracy: 0.7960\n",
            "Epoch 27/300\n",
            "7/7 [==============================] - 2s 231ms/step - loss: 0.7878 - accuracy: 0.6766\n",
            "Epoch 28/300\n",
            "7/7 [==============================] - 2s 233ms/step - loss: 0.6993 - accuracy: 0.5323\n",
            "Epoch 29/300\n",
            "7/7 [==============================] - 2s 235ms/step - loss: 0.6714 - accuracy: 0.6368\n",
            "Epoch 30/300\n",
            "7/7 [==============================] - 2s 230ms/step - loss: 0.6817 - accuracy: 0.5672\n",
            "Epoch 31/300\n",
            "7/7 [==============================] - 2s 234ms/step - loss: 0.6743 - accuracy: 0.6119\n",
            "Epoch 32/300\n",
            "7/7 [==============================] - 2s 234ms/step - loss: 0.6807 - accuracy: 0.6418\n",
            "Epoch 33/300\n",
            "7/7 [==============================] - 2s 234ms/step - loss: 0.6437 - accuracy: 0.6119\n",
            "Epoch 34/300\n",
            "7/7 [==============================] - 2s 236ms/step - loss: 0.6738 - accuracy: 0.5274\n",
            "Epoch 35/300\n",
            "7/7 [==============================] - 2s 235ms/step - loss: 0.6776 - accuracy: 0.6219\n",
            "Epoch 36/300\n",
            "7/7 [==============================] - 2s 234ms/step - loss: 0.7053 - accuracy: 0.5970\n",
            "Epoch 37/300\n",
            "7/7 [==============================] - 2s 235ms/step - loss: 0.6337 - accuracy: 0.6219\n",
            "Epoch 38/300\n",
            "7/7 [==============================] - 2s 235ms/step - loss: 0.6190 - accuracy: 0.6567\n",
            "Epoch 39/300\n",
            "7/7 [==============================] - 2s 238ms/step - loss: 0.6004 - accuracy: 0.6816\n",
            "Epoch 40/300\n",
            "7/7 [==============================] - 2s 237ms/step - loss: 0.5751 - accuracy: 0.7015\n",
            "Epoch 41/300\n",
            "7/7 [==============================] - 2s 233ms/step - loss: 0.5451 - accuracy: 0.7214\n",
            "Epoch 42/300\n",
            "7/7 [==============================] - 2s 239ms/step - loss: 0.5318 - accuracy: 0.7662\n",
            "Epoch 43/300\n",
            "7/7 [==============================] - 2s 233ms/step - loss: 0.6259 - accuracy: 0.6070\n",
            "Epoch 44/300\n",
            "7/7 [==============================] - 2s 232ms/step - loss: 0.6337 - accuracy: 0.6070\n",
            "Epoch 45/300\n",
            "7/7 [==============================] - 2s 236ms/step - loss: 0.5891 - accuracy: 0.6368\n",
            "Epoch 46/300\n",
            "7/7 [==============================] - 2s 233ms/step - loss: 0.5171 - accuracy: 0.7313\n",
            "Epoch 47/300\n",
            "7/7 [==============================] - 2s 234ms/step - loss: 0.6033 - accuracy: 0.7015\n",
            "Epoch 48/300\n",
            "7/7 [==============================] - 2s 234ms/step - loss: 0.7665 - accuracy: 0.5821\n",
            "Epoch 49/300\n",
            "7/7 [==============================] - 2s 231ms/step - loss: 0.6651 - accuracy: 0.5572\n",
            "Epoch 50/300\n",
            "7/7 [==============================] - 2s 232ms/step - loss: 0.6601 - accuracy: 0.5572\n",
            "Epoch 51/300\n",
            "7/7 [==============================] - 2s 231ms/step - loss: 0.6518 - accuracy: 0.5672\n",
            "Epoch 52/300\n",
            "7/7 [==============================] - 2s 235ms/step - loss: 0.6450 - accuracy: 0.5821\n",
            "Epoch 53/300\n",
            "7/7 [==============================] - 2s 231ms/step - loss: 0.6352 - accuracy: 0.5970\n",
            "Epoch 54/300\n",
            "7/7 [==============================] - 2s 234ms/step - loss: 0.6152 - accuracy: 0.6169\n",
            "Epoch 55/300\n",
            "7/7 [==============================] - 2s 233ms/step - loss: 0.5900 - accuracy: 0.6468\n",
            "Epoch 56/300\n",
            "7/7 [==============================] - 2s 235ms/step - loss: 0.5751 - accuracy: 0.6667\n",
            "Epoch 57/300\n",
            "7/7 [==============================] - 2s 231ms/step - loss: 0.5538 - accuracy: 0.7264\n",
            "Epoch 58/300\n",
            "7/7 [==============================] - 2s 235ms/step - loss: 0.5343 - accuracy: 0.7512\n",
            "Epoch 59/300\n",
            "7/7 [==============================] - 2s 238ms/step - loss: 0.5375 - accuracy: 0.7015\n",
            "Epoch 60/300\n",
            "7/7 [==============================] - 2s 237ms/step - loss: 0.5213 - accuracy: 0.7463\n",
            "Epoch 61/300\n",
            "7/7 [==============================] - 2s 238ms/step - loss: 0.4972 - accuracy: 0.7363\n",
            "Epoch 62/300\n",
            "7/7 [==============================] - 2s 232ms/step - loss: 0.4872 - accuracy: 0.7562\n",
            "Epoch 63/300\n",
            "7/7 [==============================] - 2s 235ms/step - loss: 0.4807 - accuracy: 0.7413\n",
            "Epoch 64/300\n",
            "7/7 [==============================] - 2s 238ms/step - loss: 0.4722 - accuracy: 0.7562\n",
            "Epoch 65/300\n",
            "7/7 [==============================] - 2s 235ms/step - loss: 0.6667 - accuracy: 0.7214\n",
            "Epoch 66/300\n",
            "7/7 [==============================] - 2s 238ms/step - loss: 0.4612 - accuracy: 0.7512\n",
            "Epoch 67/300\n",
            "7/7 [==============================] - 2s 234ms/step - loss: 0.4279 - accuracy: 0.7761\n",
            "Epoch 68/300\n",
            "7/7 [==============================] - 2s 234ms/step - loss: 0.5537 - accuracy: 0.6965\n",
            "Epoch 69/300\n",
            "7/7 [==============================] - 2s 238ms/step - loss: 0.6147 - accuracy: 0.6318\n",
            "Epoch 70/300\n",
            "7/7 [==============================] - 2s 234ms/step - loss: 0.5850 - accuracy: 0.6468\n",
            "Epoch 71/300\n",
            "7/7 [==============================] - 2s 232ms/step - loss: 0.5182 - accuracy: 0.7164\n",
            "Epoch 72/300\n",
            "7/7 [==============================] - 2s 236ms/step - loss: 0.5732 - accuracy: 0.7164\n",
            "Epoch 73/300\n",
            "7/7 [==============================] - 2s 236ms/step - loss: 0.5041 - accuracy: 0.7313\n",
            "Epoch 74/300\n",
            "7/7 [==============================] - 2s 233ms/step - loss: 0.5963 - accuracy: 0.7065\n",
            "Epoch 75/300\n",
            "7/7 [==============================] - 2s 237ms/step - loss: 0.5035 - accuracy: 0.7313\n",
            "Epoch 76/300\n",
            "7/7 [==============================] - 2s 238ms/step - loss: 0.4822 - accuracy: 0.7413\n",
            "Epoch 77/300\n",
            "7/7 [==============================] - 2s 234ms/step - loss: 0.4598 - accuracy: 0.7612\n",
            "Epoch 78/300\n",
            "7/7 [==============================] - 2s 234ms/step - loss: 0.4546 - accuracy: 0.7612\n",
            "Epoch 79/300\n",
            "7/7 [==============================] - 2s 232ms/step - loss: 0.4393 - accuracy: 0.7662\n",
            "Epoch 80/300\n",
            "7/7 [==============================] - 2s 236ms/step - loss: 0.4341 - accuracy: 0.7612\n",
            "Epoch 81/300\n",
            "7/7 [==============================] - 2s 235ms/step - loss: 0.4284 - accuracy: 0.7711\n",
            "Epoch 82/300\n",
            "7/7 [==============================] - 2s 233ms/step - loss: 0.4250 - accuracy: 0.7662\n",
            "Epoch 83/300\n",
            "7/7 [==============================] - 2s 234ms/step - loss: 0.4213 - accuracy: 0.7711\n",
            "Epoch 84/300\n",
            "7/7 [==============================] - 2s 236ms/step - loss: 0.4178 - accuracy: 0.7811\n",
            "Epoch 85/300\n",
            "7/7 [==============================] - 2s 234ms/step - loss: 0.4163 - accuracy: 0.7811\n",
            "Epoch 86/300\n",
            "7/7 [==============================] - 2s 233ms/step - loss: 0.4169 - accuracy: 0.7711\n",
            "Epoch 87/300\n",
            "7/7 [==============================] - 2s 233ms/step - loss: 0.4182 - accuracy: 0.7861\n",
            "Epoch 88/300\n",
            "7/7 [==============================] - 2s 238ms/step - loss: 0.4188 - accuracy: 0.7761\n",
            "Epoch 89/300\n",
            "7/7 [==============================] - 2s 239ms/step - loss: 0.4285 - accuracy: 0.7711\n",
            "Epoch 90/300\n",
            "7/7 [==============================] - 2s 235ms/step - loss: 0.4320 - accuracy: 0.7811\n",
            "Epoch 91/300\n",
            "7/7 [==============================] - 2s 236ms/step - loss: 0.4114 - accuracy: 0.7861\n",
            "Epoch 92/300\n",
            "7/7 [==============================] - 2s 231ms/step - loss: 0.4106 - accuracy: 0.7861\n",
            "Epoch 93/300\n",
            "7/7 [==============================] - 2s 231ms/step - loss: 0.4140 - accuracy: 0.7761\n",
            "Epoch 94/300\n",
            "7/7 [==============================] - 2s 232ms/step - loss: 0.4029 - accuracy: 0.7861\n",
            "Epoch 95/300\n",
            "7/7 [==============================] - 2s 237ms/step - loss: 0.3980 - accuracy: 0.7910\n",
            "Epoch 96/300\n",
            "7/7 [==============================] - 2s 238ms/step - loss: 0.3988 - accuracy: 0.7861\n",
            "Epoch 97/300\n",
            "7/7 [==============================] - 2s 236ms/step - loss: 0.3955 - accuracy: 0.7910\n",
            "Epoch 98/300\n",
            "7/7 [==============================] - 2s 234ms/step - loss: 0.3917 - accuracy: 0.7960\n",
            "Epoch 99/300\n",
            "7/7 [==============================] - 2s 233ms/step - loss: 0.3809 - accuracy: 0.8010\n",
            "Epoch 100/300\n",
            "7/7 [==============================] - 2s 235ms/step - loss: 0.3836 - accuracy: 0.8010\n",
            "Epoch 101/300\n",
            "7/7 [==============================] - 2s 231ms/step - loss: 0.4542 - accuracy: 0.8060\n",
            "Epoch 102/300\n",
            "7/7 [==============================] - 2s 237ms/step - loss: 0.5928 - accuracy: 0.7562\n",
            "Epoch 103/300\n",
            "7/7 [==============================] - 2s 238ms/step - loss: 0.5089 - accuracy: 0.7363\n",
            "Epoch 104/300\n",
            "7/7 [==============================] - 2s 238ms/step - loss: 0.5575 - accuracy: 0.7463\n",
            "Epoch 105/300\n",
            "7/7 [==============================] - 2s 237ms/step - loss: 0.5339 - accuracy: 0.7114\n",
            "Epoch 106/300\n",
            "7/7 [==============================] - 2s 235ms/step - loss: 0.5389 - accuracy: 0.7065\n",
            "Epoch 107/300\n",
            "7/7 [==============================] - 2s 235ms/step - loss: 0.4869 - accuracy: 0.7413\n",
            "Epoch 108/300\n",
            "7/7 [==============================] - 2s 233ms/step - loss: 0.6648 - accuracy: 0.6816\n",
            "Epoch 109/300\n",
            "7/7 [==============================] - 2s 239ms/step - loss: 0.6381 - accuracy: 0.6020\n",
            "Epoch 110/300\n",
            "7/7 [==============================] - 2s 230ms/step - loss: 0.6441 - accuracy: 0.5821\n",
            "Epoch 111/300\n",
            "7/7 [==============================] - 2s 237ms/step - loss: 0.6613 - accuracy: 0.5970\n",
            "Epoch 112/300\n",
            "7/7 [==============================] - 2s 236ms/step - loss: 0.6246 - accuracy: 0.6119\n",
            "Epoch 113/300\n",
            "7/7 [==============================] - 2s 233ms/step - loss: 0.6214 - accuracy: 0.6070\n",
            "Epoch 114/300\n",
            "7/7 [==============================] - 2s 234ms/step - loss: 0.6083 - accuracy: 0.6169\n",
            "Epoch 115/300\n",
            "7/7 [==============================] - 2s 236ms/step - loss: 0.5928 - accuracy: 0.6368\n",
            "Epoch 116/300\n",
            "7/7 [==============================] - 2s 236ms/step - loss: 0.5759 - accuracy: 0.6468\n",
            "Epoch 117/300\n",
            "7/7 [==============================] - 2s 232ms/step - loss: 0.5625 - accuracy: 0.6716\n",
            "Epoch 118/300\n",
            "7/7 [==============================] - 2s 236ms/step - loss: 0.5160 - accuracy: 0.7264\n",
            "Epoch 119/300\n",
            "7/7 [==============================] - 2s 235ms/step - loss: 0.4949 - accuracy: 0.7413\n",
            "Epoch 120/300\n",
            "7/7 [==============================] - 2s 238ms/step - loss: 0.4781 - accuracy: 0.7413\n",
            "Epoch 121/300\n",
            "7/7 [==============================] - 2s 233ms/step - loss: 0.4683 - accuracy: 0.7512\n",
            "Epoch 122/300\n",
            "7/7 [==============================] - 2s 236ms/step - loss: 0.4821 - accuracy: 0.7562\n",
            "Epoch 123/300\n",
            "7/7 [==============================] - 2s 234ms/step - loss: 0.6085 - accuracy: 0.6318\n",
            "Epoch 124/300\n",
            "7/7 [==============================] - 2s 238ms/step - loss: 0.6443 - accuracy: 0.5821\n",
            "Epoch 125/300\n",
            "7/7 [==============================] - 2s 233ms/step - loss: 0.6403 - accuracy: 0.5821\n",
            "Epoch 126/300\n",
            "7/7 [==============================] - 2s 232ms/step - loss: 0.6341 - accuracy: 0.5920\n",
            "Epoch 127/300\n",
            "7/7 [==============================] - 2s 235ms/step - loss: 0.6278 - accuracy: 0.5970\n",
            "Epoch 128/300\n",
            "7/7 [==============================] - 2s 236ms/step - loss: 0.6225 - accuracy: 0.5970\n",
            "Epoch 129/300\n",
            "7/7 [==============================] - 2s 234ms/step - loss: 0.6152 - accuracy: 0.6070\n",
            "Epoch 130/300\n",
            "7/7 [==============================] - 2s 235ms/step - loss: 0.6058 - accuracy: 0.6219\n",
            "Epoch 131/300\n",
            "7/7 [==============================] - 2s 233ms/step - loss: 0.5945 - accuracy: 0.6368\n",
            "Epoch 132/300\n",
            "7/7 [==============================] - 2s 235ms/step - loss: 0.5797 - accuracy: 0.6617\n",
            "Epoch 133/300\n",
            "7/7 [==============================] - 2s 233ms/step - loss: 0.5629 - accuracy: 0.6766\n",
            "Epoch 134/300\n",
            "7/7 [==============================] - 2s 237ms/step - loss: 0.5426 - accuracy: 0.6965\n",
            "Epoch 135/300\n",
            "7/7 [==============================] - 2s 238ms/step - loss: 0.5171 - accuracy: 0.7363\n",
            "Epoch 136/300\n",
            "7/7 [==============================] - 2s 232ms/step - loss: 0.4869 - accuracy: 0.7761\n",
            "Epoch 137/300\n",
            "7/7 [==============================] - 2s 233ms/step - loss: 0.4652 - accuracy: 0.7910\n",
            "Epoch 138/300\n",
            "7/7 [==============================] - 2s 233ms/step - loss: 0.4185 - accuracy: 0.8109\n",
            "Epoch 139/300\n",
            "7/7 [==============================] - 2s 234ms/step - loss: 0.3964 - accuracy: 0.8159\n",
            "Epoch 140/300\n",
            "7/7 [==============================] - 2s 233ms/step - loss: 0.3856 - accuracy: 0.8408\n",
            "Epoch 141/300\n",
            "7/7 [==============================] - 2s 237ms/step - loss: 0.3264 - accuracy: 0.8706\n",
            "Epoch 142/300\n",
            "7/7 [==============================] - 2s 236ms/step - loss: 0.3006 - accuracy: 0.8905\n",
            "Epoch 143/300\n",
            "7/7 [==============================] - 2s 240ms/step - loss: 0.3375 - accuracy: 0.8507\n",
            "Epoch 144/300\n",
            "7/7 [==============================] - 2s 240ms/step - loss: 0.3633 - accuracy: 0.8308\n",
            "Epoch 145/300\n",
            "7/7 [==============================] - 2s 234ms/step - loss: 0.2707 - accuracy: 0.9055\n",
            "Epoch 146/300\n",
            "7/7 [==============================] - 2s 234ms/step - loss: 0.2115 - accuracy: 0.9154\n",
            "Epoch 147/300\n",
            "7/7 [==============================] - 2s 237ms/step - loss: 0.1827 - accuracy: 0.9254\n",
            "Epoch 148/300\n",
            "7/7 [==============================] - 2s 235ms/step - loss: 0.1571 - accuracy: 0.9552\n",
            "Epoch 149/300\n",
            "7/7 [==============================] - 2s 228ms/step - loss: 0.1117 - accuracy: 0.9701\n",
            "Epoch 150/300\n",
            "7/7 [==============================] - 2s 234ms/step - loss: 0.0984 - accuracy: 0.9751\n",
            "Epoch 151/300\n",
            "7/7 [==============================] - 2s 236ms/step - loss: 0.0700 - accuracy: 0.9851\n",
            "Epoch 152/300\n",
            "7/7 [==============================] - 2s 235ms/step - loss: 0.0934 - accuracy: 0.9751\n",
            "Epoch 153/300\n",
            "7/7 [==============================] - 2s 238ms/step - loss: 0.2577 - accuracy: 0.8856\n",
            "Epoch 154/300\n",
            "7/7 [==============================] - 2s 237ms/step - loss: 0.2602 - accuracy: 0.8955\n",
            "Epoch 155/300\n",
            "7/7 [==============================] - 2s 239ms/step - loss: 0.1278 - accuracy: 0.9652\n",
            "Epoch 156/300\n",
            "7/7 [==============================] - 2s 236ms/step - loss: 0.2306 - accuracy: 0.9154\n",
            "Epoch 157/300\n",
            "7/7 [==============================] - 2s 239ms/step - loss: 0.1127 - accuracy: 0.9602\n",
            "Epoch 158/300\n",
            "7/7 [==============================] - ETA: 0s - loss: 0.0372 - accuracy: 0.9900Reached the %99 accuracy early stopping\n",
            "7/7 [==============================] - 2s 237ms/step - loss: 0.0372 - accuracy: 0.9900\n"
          ],
          "name": "stdout"
        },
        {
          "output_type": "execute_result",
          "data": {
            "text/plain": [
              "<tensorflow.python.keras.callbacks.History at 0x7f9ef1f0c588>"
            ]
          },
          "metadata": {
            "tags": []
          },
          "execution_count": 59
        }
      ]
    },
    {
      "cell_type": "code",
      "metadata": {
        "id": "jCK8FEmQLlbu",
        "colab_type": "code",
        "colab": {}
      },
      "source": [
        "imdata=None"
      ],
      "execution_count": 20,
      "outputs": []
    },
    {
      "cell_type": "code",
      "metadata": {
        "id": "oErydGL_b2XY",
        "colab_type": "code",
        "colab": {}
      },
      "source": [
        "#model.save('./mymodel.h5')"
      ],
      "execution_count": 21,
      "outputs": []
    },
    {
      "cell_type": "code",
      "metadata": {
        "id": "W-qr1jxrcK8A",
        "colab_type": "code",
        "colab": {}
      },
      "source": [
        "DATA=None"
      ],
      "execution_count": 22,
      "outputs": []
    },
    {
      "cell_type": "code",
      "metadata": {
        "id": "nG0kFtB7dCFv",
        "colab_type": "code",
        "colab": {}
      },
      "source": [
        "classvector=None"
      ],
      "execution_count": 23,
      "outputs": []
    },
    {
      "cell_type": "code",
      "metadata": {
        "id": "WsJrUah5dJrZ",
        "colab_type": "code",
        "colab": {}
      },
      "source": [
        "im=None"
      ],
      "execution_count": 24,
      "outputs": []
    },
    {
      "cell_type": "code",
      "metadata": {
        "id": "F_TuW8AedVuB",
        "colab_type": "code",
        "colab": {}
      },
      "source": [
        "DATA=[]\n",
        "classvector=[]\n",
        "c=0\n",
        "first=0;\n",
        "second=0;\n",
        "for i in os.listdir('./drive/My Drive/test/train_0_test/'):\n",
        "  #clear_output(wait=True)\n",
        "  #print(c)\n",
        "  c= c+1\n",
        "  first=first+1;\n",
        "  path='./drive/My Drive/test/train_0_test/' + i\n",
        "  im=Image.open(path)\n",
        "  im=im.resize((512,512))\n",
        "  im=np.array(im)\n",
        "  im=np.array(im,dtype='float64')\n",
        "  im = im/255\n",
        "  DATA.append(im)\n",
        "  classvector.append(0)\n",
        "  if(first>50):\n",
        "    break\n",
        "  if (c>100):\n",
        "    break;\n",
        "DATA[0]\n",
        "for i in os.listdir('./drive/My Drive/test/train_1_test/'):\n",
        "  #clear_output(wait=True)\n",
        "  #print(c)\n",
        "  c= c+1\n",
        "  path='./drive/My Drive/test/train_1_test/' + i\n",
        "  im=Image.open(path)\n",
        "  im=im.resize((512,512))\n",
        "  im=np.array(im)\n",
        "  im=np.array(im,dtype='float64')\n",
        "  im = im/255\n",
        "  DATA.append(im)\n",
        "  classvector.append(1)\n",
        "  if(second>50):\n",
        "    break\n",
        "  if (c>100):\n",
        "    break;\n"
      ],
      "execution_count": 60,
      "outputs": []
    },
    {
      "cell_type": "code",
      "metadata": {
        "id": "MLMhpx4Tdi9a",
        "colab_type": "code",
        "colab": {}
      },
      "source": [
        "DATA=np.reshape(DATA,newshape=(-1,512,512,3))"
      ],
      "execution_count": 61,
      "outputs": []
    },
    {
      "cell_type": "code",
      "metadata": {
        "id": "1nZQZsogeESz",
        "colab_type": "code",
        "colab": {}
      },
      "source": [
        "P=model.predict(DATA)"
      ],
      "execution_count": 62,
      "outputs": []
    },
    {
      "cell_type": "code",
      "metadata": {
        "id": "0EfIRuEueG8z",
        "colab_type": "code",
        "colab": {}
      },
      "source": [
        "Z=[]\n",
        "for i in P:\n",
        "  if i>0.5:\n",
        "    Z.append(1)\n",
        "  else:\n",
        "    Z.append(0)"
      ],
      "execution_count": 63,
      "outputs": []
    },
    {
      "cell_type": "code",
      "metadata": {
        "id": "5E416gZ7eQv1",
        "colab_type": "code",
        "colab": {}
      },
      "source": [
        "c=0\n",
        "for i in range(len(Z)):\n",
        "  if(Z[i]==classvector[i]):\n",
        "    c= c+1"
      ],
      "execution_count": 64,
      "outputs": []
    },
    {
      "cell_type": "code",
      "metadata": {
        "id": "fkLsQJIFeUQ7",
        "colab_type": "code",
        "colab": {
          "base_uri": "https://localhost:8080/",
          "height": 34
        },
        "outputId": "510eb903-fccd-40cf-eb6c-659771f51056"
      },
      "source": [
        "print (\"Toplam accuracy: \"+ str(c/len(Z)))"
      ],
      "execution_count": 65,
      "outputs": [
        {
          "output_type": "stream",
          "text": [
            "Toplam accuracy: 0.6\n"
          ],
          "name": "stdout"
        }
      ]
    },
    {
      "cell_type": "code",
      "metadata": {
        "id": "m-DVdNqffHyZ",
        "colab_type": "code",
        "colab": {
          "base_uri": "https://localhost:8080/",
          "height": 34
        },
        "outputId": "fc84ccfd-8216-420e-a20b-8b325bb2a6de"
      },
      "source": [
        "##TRUE NEGATIVE RATE:\n",
        "DATA=[]\n",
        "classvector=[]\n",
        "c=0\n",
        "first=0;\n",
        "second=0;\n",
        "for i in os.listdir('./drive/My Drive/test/train_0_test/'):\n",
        "  #clear_output(wait=True)\n",
        "  #print(c)\n",
        "  c= c+1\n",
        "  first=first+1;\n",
        "  path='./drive/My Drive/test/train_0_test/' + i\n",
        "  im=Image.open(path)\n",
        "  im=im.resize((512,512))\n",
        "  im=np.array(im)\n",
        "  im=np.array(im,dtype='float64')\n",
        "  im = im/255\n",
        "  DATA.append(im)\n",
        "  classvector.append(0)\n",
        "  if(first>50):\n",
        "    break\n",
        "  if (c>100):\n",
        "    break;\n",
        "\n",
        "DATA=np.reshape(DATA,newshape=(-1,512,512,3))\n",
        "P=model.predict(DATA)\n",
        "Z=[]\n",
        "for i in P:\n",
        "  if i>0.5:\n",
        "    Z.append(1)\n",
        "  else:\n",
        "    Z.append(0)\n",
        "c=0\n",
        "for i in range(len(Z)):\n",
        "  if(Z[i]==classvector[i]):\n",
        "    c= c+1\n",
        "print (\"Accuracy in non melanoma: \"+ str(c/len(Z)))"
      ],
      "execution_count": 66,
      "outputs": [
        {
          "output_type": "stream",
          "text": [
            "Accuracy in non melanoma: 0.5882352941176471\n"
          ],
          "name": "stdout"
        }
      ]
    },
    {
      "cell_type": "code",
      "metadata": {
        "id": "xF1oaTigfreI",
        "colab_type": "code",
        "colab": {
          "base_uri": "https://localhost:8080/",
          "height": 34
        },
        "outputId": "abed1ca9-b503-4f97-ea65-6d4558d0bc3a"
      },
      "source": [
        "##TRUE POSITIVE RATE:\n",
        "DATA=[]\n",
        "classvector=[]\n",
        "c=0\n",
        "first=0;\n",
        "second=0;\n",
        "for i in os.listdir('./drive/My Drive/test/train_1_test/'):\n",
        "  #clear_output(wait=True)\n",
        "  #print(c)\n",
        "  c= c+1\n",
        "  path='./drive/My Drive/test/train_1_test/' + i\n",
        "  im=Image.open(path)\n",
        "  im=im.resize((512,512))\n",
        "  im=np.array(im)\n",
        "  im=np.array(im,dtype='float64')\n",
        "  im = im/255\n",
        "  DATA.append(im)\n",
        "  classvector.append(1)\n",
        "  if(second>50):\n",
        "    break\n",
        "  if (c>100):\n",
        "    break;\n",
        "\n",
        "\n",
        "DATA=np.reshape(DATA,newshape=(-1,512,512,3))\n",
        "P=model.predict(DATA)\n",
        "Z=[]\n",
        "for i in P:\n",
        "  if i>0.5:\n",
        "    Z.append(1)\n",
        "  else:\n",
        "    Z.append(0)\n",
        "c=0\n",
        "for i in range(len(Z)):\n",
        "  if(Z[i]==classvector[i]):\n",
        "    c= c+1\n",
        "print (\"Accuracy in melanoma: \"+ str(c/len(Z)))"
      ],
      "execution_count": 67,
      "outputs": [
        {
          "output_type": "stream",
          "text": [
            "Accuracy in melanoma: 0.6206896551724138\n"
          ],
          "name": "stdout"
        }
      ]
    },
    {
      "cell_type": "code",
      "metadata": {
        "id": "H7hlRjMtf0YZ",
        "colab_type": "code",
        "colab": {}
      },
      "source": [
        ""
      ],
      "execution_count": 67,
      "outputs": []
    }
  ]
}