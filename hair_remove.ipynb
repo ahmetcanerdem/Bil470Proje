{
  "nbformat": 4,
  "nbformat_minor": 0,
  "metadata": {
    "colab": {
      "name": "hair_remove.ipynb",
      "provenance": []
    },
    "kernelspec": {
      "name": "python3",
      "display_name": "Python 3"
    }
  },
  "cells": [
    {
      "cell_type": "code",
      "metadata": {
        "id": "TtWxy1NoiuAn",
        "colab_type": "code",
        "colab": {
          "base_uri": "https://localhost:8080/",
          "height": 50
        },
        "outputId": "57df58d8-278f-4a8a-81da-97a127a3eb1b"
      },
      "source": [
        "import os\n",
        "test_img = \"drive/My Drive/kaggle_test\"\n",
        "print('total count images :', len(os.listdir(test_img ) ))\n",
        "fnames = os.listdir(test_img)\n",
        "print(len(fnames))\n"
      ],
      "execution_count": 10,
      "outputs": [
        {
          "output_type": "stream",
          "text": [
            "total count images : 10982\n",
            "10982\n"
          ],
          "name": "stdout"
        }
      ]
    },
    {
      "cell_type": "code",
      "metadata": {
        "id": "k_9daBeWi8KZ",
        "colab_type": "code",
        "colab": {}
      },
      "source": [
        "def hair_remove(image):\n",
        "    # convert image to grayScale\n",
        "    grayScale = cv2.cvtColor(image, cv2.COLOR_RGB2GRAY)\n",
        "    \n",
        "    # kernel for morphologyEx\n",
        "    kernel = cv2.getStructuringElement(1,(17,17))\n",
        "    \n",
        "    # apply MORPH_BLACKHAT to grayScale image\n",
        "    blackhat = cv2.morphologyEx(grayScale, cv2.MORPH_BLACKHAT, kernel)\n",
        "    \n",
        "    # apply thresholding to blackhat\n",
        "    _,threshold = cv2.threshold(blackhat,10,255,cv2.THRESH_BINARY)\n",
        "    \n",
        "    # inpaint with original image and threshold image\n",
        "    final_image = cv2.inpaint(image,threshold,1,cv2.INPAINT_TELEA)\n",
        "    \n",
        "    return final_image"
      ],
      "execution_count": 11,
      "outputs": []
    },
    {
      "cell_type": "code",
      "metadata": {
        "id": "y-dz5pTOjdum",
        "colab_type": "code",
        "colab": {}
      },
      "source": [
        "import os\n",
        "import numpy as np\n",
        "import cv2\n",
        "import matplotlib.pyplot as plt\n",
        "import pandas as pd\n",
        "import subprocess\n",
        "#references:https://www.kaggle.com/vatsalparsaniya/melanoma-hair-remove\n",
        "def hair_remove_by_names(hair_images, BASE_PATH, class_name, class_path):\n",
        "  for i,image_name in enumerate(hair_images):\n",
        "      if(i%200 == 0):\n",
        "        print(i)  \n",
        "      path = BASE_PATH + \"/\" + class_path + \"/\" + image_name\n",
        "      image = cv2.imread( path)\n",
        "      image_resize = cv2.resize(image,(256,256))\n",
        "      final_image = hair_remove(image_resize)\n",
        "      dir = BASE_PATH + \"/\" + \"\"+class_path + \"_hairless\"\n",
        "      from PIL import Image\n",
        "      im = Image.fromarray(final_image)\n",
        "      im.save(dir + \"/\" + image_name)\n"
      ],
      "execution_count": 19,
      "outputs": []
    },
    {
      "cell_type": "code",
      "metadata": {
        "id": "mcJFm8-cjm6s",
        "colab_type": "code",
        "colab": {}
      },
      "source": [
        "hair_remove_by_names(fnames,\"drive/My Drive\",\"1\",\"kaggle_test\")\n"
      ],
      "execution_count": null,
      "outputs": []
    },
    {
      "cell_type": "code",
      "metadata": {
        "id": "nSjHADzrlXHi",
        "colab_type": "code",
        "colab": {}
      },
      "source": [
        ""
      ],
      "execution_count": null,
      "outputs": []
    }
  ]
}