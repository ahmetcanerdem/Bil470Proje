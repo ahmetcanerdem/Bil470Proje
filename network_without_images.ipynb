{
  "nbformat": 4,
  "nbformat_minor": 0,
  "metadata": {
    "colab": {
      "name": "imbalanced_data.ipynb",
      "provenance": [],
      "collapsed_sections": []
    },
    "kernelspec": {
      "display_name": "Python 3",
      "name": "python3"
    },
    "language_info": {
      "codemirror_mode": {
        "name": "ipython",
        "version": 3
      },
      "file_extension": ".py",
      "mimetype": "text/x-python",
      "name": "python",
      "nbconvert_exporter": "python",
      "pygments_lexer": "ipython3",
      "version": "3.6.9"
    },
    "accelerator": "GPU"
  },
  "cells": [
    {
      "cell_type": "markdown",
      "metadata": {
        "colab_type": "text",
        "id": "dUeKVCYTbcyT"
      },
      "source": [
        "#### Copyright 2019 The TensorFlow Authors."
      ]
    },
    {
      "cell_type": "code",
      "metadata": {
        "cellView": "form",
        "colab_type": "code",
        "id": "4ellrPx7tdxq",
        "colab": {}
      },
      "source": [
        "#@title Licensed under the Apache License, Version 2.0 (the \"License\");\n",
        "# you may not use this file except in compliance with the License.\n",
        "# You may obtain a copy of the License at\n",
        "#\n",
        "# https://www.apache.org/licenses/LICENSE-2.0\n",
        "#\n",
        "# Unless required by applicable law or agreed to in writing, software\n",
        "# distributed under the License is distributed on an \"AS IS\" BASIS,\n",
        "# WITHOUT WARRANTIES OR CONDITIONS OF ANY KIND, either express or implied.\n",
        "# See the License for the specific language governing permissions and\n",
        "# limitations under the License."
      ],
      "execution_count": null,
      "outputs": []
    },
    {
      "cell_type": "markdown",
      "metadata": {
        "colab_type": "text",
        "id": "7JfLUlawto_D"
      },
      "source": [
        "# Classification on imbalanced data"
      ]
    },
    {
      "cell_type": "markdown",
      "metadata": {
        "colab_type": "text",
        "id": "DwdpaTKJOoPu"
      },
      "source": [
        "<table class=\"tfo-notebook-buttons\" align=\"left\">\n",
        "  <td>\n",
        "    <a target=\"_blank\" href=\"https://www.tensorflow.org/tutorials/structured_data/imbalanced_data\"><img src=\"https://www.tensorflow.org/images/tf_logo_32px.png\" />View on TensorFlow.org</a>\n",
        "  </td>\n",
        "  <td>\n",
        "    <a target=\"_blank\" href=\"https://colab.research.google.com/github/tensorflow/docs/blob/master/site/en/tutorials/structured_data/imbalanced_data.ipynb\"><img src=\"https://www.tensorflow.org/images/colab_logo_32px.png\" />Run in Google Colab</a>\n",
        "  </td>\n",
        "  <td>\n",
        "    <a target=\"_blank\" href=\"https://github.com/tensorflow/docs/blob/master/site/en/tutorials/structured_data/imbalanced_data.ipynb\"><img src=\"https://www.tensorflow.org/images/GitHub-Mark-32px.png\" />View source on GitHub</a>\n",
        "  </td>\n",
        "  <td>\n",
        "    <a href=\"https://storage.googleapis.com/tensorflow_docs/docs/site/en/tutorials/structured_data/imbalanced_data.ipynb\"><img src=\"https://www.tensorflow.org/images/download_logo_32px.png\" />Download notebook</a>\n",
        "  </td>\n",
        "</table>"
      ]
    },
    {
      "cell_type": "markdown",
      "metadata": {
        "colab_type": "text",
        "id": "mthoSGBAOoX-"
      },
      "source": [
        "This tutorial demonstrates how to classify a highly imbalanced dataset in which the number of examples in one class greatly outnumbers the examples in another. You will work with the [Credit Card Fraud Detection](https://www.kaggle.com/mlg-ulb/creditcardfraud) dataset hosted on Kaggle. The aim is to detect a mere 492 fraudulent transactions from 284,807 transactions in total. You will use [Keras](../../guide/keras/overview.ipynb) to define the model and [class weights](https://www.tensorflow.org/versions/r2.0/api_docs/python/tf/keras/Model) to help the model learn from the imbalanced data. .\n",
        "\n",
        "This tutorial contains complete code to:\n",
        "\n",
        "* Load a CSV file using Pandas.\n",
        "* Create train, validation, and test sets.\n",
        "* Define and train a model using Keras (including setting class weights).\n",
        "* Evaluate the model using various metrics (including precision and recall).\n",
        "* Try common techniques for dealing with imbalanced data like:\n",
        "    * Class weighting \n",
        "    * Oversampling\n"
      ]
    },
    {
      "cell_type": "markdown",
      "metadata": {
        "colab_type": "text",
        "id": "kRHmSyHxEIhN"
      },
      "source": [
        "## Setup"
      ]
    },
    {
      "cell_type": "code",
      "metadata": {
        "colab_type": "code",
        "id": "JM7hDSNClfoK",
        "colab": {}
      },
      "source": [
        "import tensorflow as tf\n",
        "from tensorflow import keras\n",
        "\n",
        "import os\n",
        "import tempfile\n",
        "\n",
        "import matplotlib as mpl\n",
        "import matplotlib.pyplot as plt\n",
        "import numpy as np\n",
        "import pandas as pd\n",
        "import seaborn as sns\n",
        "\n",
        "import sklearn\n",
        "from sklearn.metrics import confusion_matrix\n",
        "from sklearn.model_selection import train_test_split\n",
        "from sklearn.preprocessing import StandardScaler"
      ],
      "execution_count": null,
      "outputs": []
    },
    {
      "cell_type": "code",
      "metadata": {
        "colab_type": "code",
        "id": "c8o1FHzD-_y_",
        "colab": {}
      },
      "source": [
        "mpl.rcParams['figure.figsize'] = (12, 10)\n",
        "colors = plt.rcParams['axes.prop_cycle'].by_key()['color']"
      ],
      "execution_count": null,
      "outputs": []
    },
    {
      "cell_type": "markdown",
      "metadata": {
        "colab_type": "text",
        "id": "Z3iZVjziKHmX"
      },
      "source": [
        "## Data processing and exploration"
      ]
    },
    {
      "cell_type": "code",
      "metadata": {
        "id": "Nxz5SixXCeDD",
        "colab_type": "code",
        "colab": {
          "base_uri": "https://localhost:8080/",
          "height": 34
        },
        "outputId": "c5816dc9-de13-4f80-d463-f5b99a550068"
      },
      "source": [
        "cd drive/My\\ Drive"
      ],
      "execution_count": null,
      "outputs": [
        {
          "output_type": "stream",
          "text": [
            "/content/drive/My Drive\n"
          ],
          "name": "stdout"
        }
      ]
    },
    {
      "cell_type": "code",
      "metadata": {
        "id": "hJ17CPebCgnr",
        "colab_type": "code",
        "colab": {
          "base_uri": "https://localhost:8080/",
          "height": 121
        },
        "outputId": "a5916462-0eb7-4e1f-a416-c6ae76e10bea"
      },
      "source": [
        "from google.colab import drive\n",
        "drive.mount('/content/drive')"
      ],
      "execution_count": null,
      "outputs": [
        {
          "output_type": "stream",
          "text": [
            "Go to this URL in a browser: https://accounts.google.com/o/oauth2/auth?client_id=947318989803-6bn6qk8qdgf4n4g3pfee6491hc0brc4i.apps.googleusercontent.com&redirect_uri=urn%3aietf%3awg%3aoauth%3a2.0%3aoob&response_type=code&scope=email%20https%3a%2f%2fwww.googleapis.com%2fauth%2fdocs.test%20https%3a%2f%2fwww.googleapis.com%2fauth%2fdrive%20https%3a%2f%2fwww.googleapis.com%2fauth%2fdrive.photos.readonly%20https%3a%2f%2fwww.googleapis.com%2fauth%2fpeopleapi.readonly\n",
            "\n",
            "Enter your authorization code:\n",
            "··········\n",
            "Mounted at /content/drive\n"
          ],
          "name": "stdout"
        }
      ]
    },
    {
      "cell_type": "code",
      "metadata": {
        "colab_type": "code",
        "id": "pR_SnbMArXr7",
        "colab": {}
      },
      "source": [
        "file = tf.keras.utils\n",
        "data = pd.read_csv('data.csv')\n",
        "data.head()"
      ],
      "execution_count": null,
      "outputs": []
    },
    {
      "cell_type": "code",
      "metadata": {
        "colab_type": "code",
        "id": "-fgdQgmwUFuj",
        "colab": {}
      },
      "source": [
        "data[['sex', 'age_approx', 'anatom_site_general_challenge', 'target']].describe()"
      ],
      "execution_count": null,
      "outputs": []
    },
    {
      "cell_type": "code",
      "metadata": {
        "colab_type": "code",
        "id": "HCJFrtuY2iLF",
        "colab": {}
      },
      "source": [
        "neg, pos = np.bincount(data['target'])\n",
        "total = neg + pos\n",
        "print('Examples:\\n    Total: {}\\n    Positive: {} ({:.2f}% of total)\\n'.format(\n",
        "    total, pos, 100 * pos / total))"
      ],
      "execution_count": null,
      "outputs": []
    },
    {
      "cell_type": "markdown",
      "metadata": {
        "colab_type": "text",
        "id": "6qox6ryyzwdr"
      },
      "source": [
        "### Clean, split and normalize the data\n",
        "\n"
      ]
    },
    {
      "cell_type": "code",
      "metadata": {
        "colab_type": "code",
        "id": "Ef42jTuxEjnj",
        "colab": {}
      },
      "source": [
        "def columns_to_del(columns):\n",
        "  for column in columns:\n",
        "    del data[column]\n",
        "delete_list = ['image_name'\t,'patient_id', 'diagnosis', 'benign_malignant', 'Unnamed: 0'] \n",
        "columns_to_del(delete_list)\n",
        "res = data.copy()\n",
        "def encode_and_bind(original_dataframe, feature_to_encode):\n",
        "    dummies = pd.get_dummies(original_dataframe[[feature_to_encode]])\n",
        "    res = pd.concat([original_dataframe, dummies], axis=1)\n",
        "    res = res.drop([feature_to_encode], axis=1)\n",
        "    return(res) \n",
        "features_to_encode = ['anatom_site_general_challenge']\n",
        "for feature in features_to_encode:\n",
        "    res = encode_and_bind(res, feature)"
      ],
      "execution_count": null,
      "outputs": []
    },
    {
      "cell_type": "code",
      "metadata": {
        "id": "c1JFB2z4FJx3",
        "colab_type": "code",
        "colab": {
          "base_uri": "https://localhost:8080/",
          "height": 151
        },
        "outputId": "040466a5-5c9b-4aa6-86bd-b04b59413762"
      },
      "source": [
        "from sklearn.preprocessing import LabelEncoder\n",
        "le = LabelEncoder()\n",
        "res['sex'] = le.fit_transform(res['sex'])\n",
        "print(res.columns)\n"
      ],
      "execution_count": 30,
      "outputs": [
        {
          "output_type": "stream",
          "text": [
            "Index(['sex', 'age_approx', 'target',\n",
            "       'anatom_site_general_challenge_head/neck',\n",
            "       'anatom_site_general_challenge_lower extremity',\n",
            "       'anatom_site_general_challenge_oral/genital',\n",
            "       'anatom_site_general_challenge_palms/soles',\n",
            "       'anatom_site_general_challenge_torso',\n",
            "       'anatom_site_general_challenge_upper extremity'],\n",
            "      dtype='object')\n"
          ],
          "name": "stdout"
        }
      ]
    },
    {
      "cell_type": "code",
      "metadata": {
        "id": "WeBSU4QpMwnA",
        "colab_type": "code",
        "colab": {}
      },
      "source": [
        "res = res[['sex', 'age_approx','anatom_site_general_challenge_head/neck','target']]\n"
      ],
      "execution_count": 54,
      "outputs": []
    },
    {
      "cell_type": "markdown",
      "metadata": {
        "colab_type": "text",
        "id": "uSNgdQFFFQ6u"
      },
      "source": [
        "Split the dataset into train, validation, and test sets. The validation set is used during the model fitting to evaluate the loss and any metrics, however the model is not fit with this data. The test set is completely unused during the training phase and is only used at the end to evaluate how well the model generalizes to new data. This is especially important with imbalanced datasets where [overfitting](https://developers.google.com/machine-learning/crash-course/generalization/peril-of-overfitting) is a significant concern from the lack of training data."
      ]
    },
    {
      "cell_type": "code",
      "metadata": {
        "colab_type": "code",
        "id": "xfxhKg7Yr1-b",
        "colab": {}
      },
      "source": [
        "# Use a utility from sklearn to split and shuffle our dataset.\n",
        "train_df, test_df = train_test_split( res, test_size=0.2)\n",
        "train_df, val_df = train_test_split(train_df, test_size=0.2)\n",
        "\n",
        "# Form np arrays of labels and features.\n",
        "train_labels = np.array(train_df.pop('target'))\n",
        "bool_train_labels = train_labels != 0\n",
        "val_labels = np.array(val_df.pop('target'))\n",
        "test_labels = np.array(test_df.pop('target'))\n",
        "\n",
        "train_features = np.array(train_df)\n",
        "val_features = np.array(val_df)\n",
        "test_features = np.array(test_df)\n"
      ],
      "execution_count": 55,
      "outputs": []
    },
    {
      "cell_type": "markdown",
      "metadata": {
        "colab_type": "text",
        "id": "8a_Z_kBmr7Oh"
      },
      "source": [
        "Normalize the input features using the sklearn StandardScaler.\n",
        "This will set the mean to 0 and standard deviation to 1.\n",
        "\n",
        "Note: The `StandardScaler` is only fit using the `train_features` to be sure the model is not peeking at the validation or test sets. "
      ]
    },
    {
      "cell_type": "code",
      "metadata": {
        "colab_type": "code",
        "id": "IO-qEUmJ5JQg",
        "colab": {
          "base_uri": "https://localhost:8080/",
          "height": 118
        },
        "outputId": "a0adb25a-e792-4a95-95b3-bfd58015814a"
      },
      "source": [
        "scaler = StandardScaler()\n",
        "train_features = scaler.fit_transform(train_features)\n",
        "\n",
        "val_features = scaler.transform(val_features)\n",
        "test_features = scaler.transform(test_features)\n",
        "\n",
        "train_features = np.clip(train_features, -5, 5)\n",
        "val_features = np.clip(val_features, -5, 5)\n",
        "test_features = np.clip(test_features, -5, 5)\n",
        "\n",
        "\n",
        "print('Training labels shape:', train_labels.shape)\n",
        "print('Validation labels shape:', val_labels.shape)\n",
        "print('Test labels shape:', test_labels.shape)\n",
        "\n",
        "print('Training features shape:', train_features.shape)\n",
        "print('Validation features shape:', val_features.shape)\n",
        "print('Test features shape:', test_features.shape)\n"
      ],
      "execution_count": 56,
      "outputs": [
        {
          "output_type": "stream",
          "text": [
            "Training labels shape: (20819,)\n",
            "Validation labels shape: (5205,)\n",
            "Test labels shape: (6507,)\n",
            "Training features shape: (20819, 3)\n",
            "Validation features shape: (5205, 3)\n",
            "Test features shape: (6507, 3)\n"
          ],
          "name": "stdout"
        }
      ]
    },
    {
      "cell_type": "markdown",
      "metadata": {
        "colab_type": "text",
        "id": "XF2nNfWKJ33w"
      },
      "source": [
        "Caution: If you want to deploy a model, it's critical that you preserve the preprocessing calculations. The easiest way to implement them as layers, and attach them to your model before export.\n"
      ]
    },
    {
      "cell_type": "markdown",
      "metadata": {
        "colab_type": "text",
        "id": "uQ7m9nqDC3W6"
      },
      "source": [
        "### Look at the data distribution\n",
        "\n",
        "Next compare the distributions of the positive and negative examples over a few features. Good questions to ask yourself at this point are:\n",
        "\n",
        "* Do these distributions make sense? \n",
        "    * Yes. You've normalized the input and these are mostly concentrated in the `+/- 2` range.\n",
        "* Can you see the difference between the distributions?\n",
        "    * Yes the positive examples contain a much higher rate of extreme values."
      ]
    },
    {
      "cell_type": "code",
      "metadata": {
        "colab_type": "code",
        "id": "raK7hyjd_vf6",
        "colab": {
          "base_uri": "https://localhost:8080/",
          "height": 869
        },
        "outputId": "ce897e0f-e78e-4497-c914-2bd47752eed4"
      },
      "source": [
        "pos_df = pd.DataFrame(train_features[ bool_train_labels], columns = train_df.columns)\n",
        "neg_df = pd.DataFrame(train_features[~bool_train_labels], columns = train_df.columns)\n",
        "\n",
        "sns.jointplot(pos_df['sex'], pos_df['age_approx'],\n",
        "              kind='hex', xlim = (-5,5), ylim = (-5,5))\n",
        "plt.suptitle(\"Positive distribution\")\n",
        "\n",
        "sns.jointplot(neg_df['sex'], neg_df['age_approx'],\n",
        "              kind='hex', xlim = (-5,5), ylim = (-5,5))\n",
        "_ = plt.suptitle(\"Negative distribution\")"
      ],
      "execution_count": 57,
      "outputs": [
        {
          "output_type": "display_data",
          "data": {
            "image/png": "[encoded data removed]",
            "text/plain": [
              "<Figure size 432x432 with 3 Axes>"
            ]
          },
          "metadata": {
            "tags": [],
            "needs_background": "light"
          }
        },
        {
          "output_type": "display_data",
          "data": {
            "image/png": "[encoded data removed]",
            "text/plain": [
              "<Figure size 432x432 with 3 Axes>"
            ]
          },
          "metadata": {
            "tags": [],
            "needs_background": "light"
          }
        }
      ]
    },
    {
      "cell_type": "markdown",
      "metadata": {
        "colab_type": "text",
        "id": "qFK1u4JX16D8"
      },
      "source": [
        "## Define the model and metrics\n",
        "\n",
        "Define a function that creates a simple neural network with a densly connected hidden layer, a [dropout](https://developers.google.com/machine-learning/glossary/#dropout_regularization) layer to reduce overfitting, and an output sigmoid layer that returns the probability of a transaction being fraudulent: "
      ]
    },
    {
      "cell_type": "code",
      "metadata": {
        "colab_type": "code",
        "id": "3JQDzUqT3UYG",
        "colab": {}
      },
      "source": [
        "METRICS = [\n",
        "      keras.metrics.TruePositives(name='tp'),\n",
        "      keras.metrics.FalsePositives(name='fp'),\n",
        "      keras.metrics.TrueNegatives(name='tn'),\n",
        "      keras.metrics.FalseNegatives(name='fn'), \n",
        "      keras.metrics.BinaryAccuracy(name='accuracy'),\n",
        "      keras.metrics.Precision(name='precision'),\n",
        "      keras.metrics.Recall(name='recall'),\n",
        "      keras.metrics.AUC(name='auc'),\n",
        "]\n",
        "\n",
        "def make_model(metrics = METRICS, output_bias=None):\n",
        "  if output_bias is not None:\n",
        "    output_bias = tf.keras.initializers.Constant(output_bias)\n",
        "  model = keras.Sequential([\n",
        "      keras.layers.Dense(\n",
        "          16, activation='relu',\n",
        "          input_shape=(train_features.shape[-1],)),\n",
        "      keras.layers.Dropout(0.5),\n",
        "      keras.layers.Dense(1, activation='sigmoid',\n",
        "                         bias_initializer=output_bias),\n",
        "  ])\n",
        "\n",
        "  model.compile(\n",
        "      optimizer=keras.optimizers.Adam(lr=1e-3),\n",
        "      loss=keras.losses.BinaryCrossentropy(),\n",
        "      metrics=metrics)\n",
        "\n",
        "  return model"
      ],
      "execution_count": 58,
      "outputs": []
    },
    {
      "cell_type": "markdown",
      "metadata": {
        "colab_type": "text",
        "id": "SU0GX6E6mieP"
      },
      "source": [
        "### Understanding useful metrics\n",
        "\n",
        "Notice that there are a few metrics defined above that can be computed by the model that will be helpful when evaluating the performance.\n",
        "\n",
        "\n",
        "\n",
        "*   **False** negatives and **false** positives are samples that were **incorrectly** classified\n",
        "*   **True** negatives and **true** positives are samples that were **correctly** classified\n",
        "*   **Accuracy** is the percentage of examples correctly classified\n",
        ">   $\\frac{\\text{true samples}}{\\text{total samples}}$\n",
        "*   **Precision** is the percentage of **predicted** positives that were correctly classified\n",
        ">   $\\frac{\\text{true positives}}{\\text{true positives + false positives}}$\n",
        "*   **Recall** is the percentage of **actual** positives that were correctly classified\n",
        ">   $\\frac{\\text{true positives}}{\\text{true positives + false negatives}}$\n",
        "*   **AUC** refers to the Area Under the Curve of a Receiver Operating Characteristic curve (ROC-AUC). This metric is equal to the probability that a classifier will rank a random positive sample higher than a random negative sample.\n",
        "\n",
        "Note: Accuracy is not a helpful metric for this task. You can 99.8%+ accuracy on this task by predicting False all the time.  \n",
        "\n",
        "Read more:\n",
        "*  [True vs. False and Positive vs. Negative](https://developers.google.com/machine-learning/crash-course/classification/true-false-positive-negative)\n",
        "*  [Accuracy](https://developers.google.com/machine-learning/crash-course/classification/accuracy)\n",
        "*   [Precision and Recall](https://developers.google.com/machine-learning/crash-course/classification/precision-and-recall)\n",
        "*   [ROC-AUC](https://developers.google.com/machine-learning/crash-course/classification/roc-and-auc)"
      ]
    },
    {
      "cell_type": "markdown",
      "metadata": {
        "colab_type": "text",
        "id": "FYdhSAoaF_TK"
      },
      "source": [
        "## Baseline model"
      ]
    },
    {
      "cell_type": "markdown",
      "metadata": {
        "colab_type": "text",
        "id": "IDbltVPg2m2q"
      },
      "source": [
        "### Build the model\n",
        "\n",
        "Now create and train your model using the function that was defined earlier. Notice that the model is fit using a larger than default batch size of 2048, this is important to ensure that each batch has a decent chance of containing a few positive samples. If the batch size was too small, they would likely have no fraudulent transactions to learn from.\n",
        "\n",
        "\n",
        "Note: this model will not handle the class imbalance well. You will improve it later in this tutorial."
      ]
    },
    {
      "cell_type": "code",
      "metadata": {
        "colab_type": "code",
        "id": "ouUkwPcGQsy3",
        "colab": {}
      },
      "source": [
        "EPOCHS = 100\n",
        "BATCH_SIZE = 2048\n",
        "\n",
        "early_stopping = tf.keras.callbacks.EarlyStopping(\n",
        "    monitor='val_auc', \n",
        "    verbose=1,\n",
        "    patience=10,\n",
        "    mode='max',\n",
        "    restore_best_weights=True)"
      ],
      "execution_count": 59,
      "outputs": []
    },
    {
      "cell_type": "code",
      "metadata": {
        "colab_type": "code",
        "id": "1xlR_dekzw7C",
        "colab": {
          "base_uri": "https://localhost:8080/",
          "height": 252
        },
        "outputId": "f0a3b068-d81c-4c77-b946-8ae29e1f41f9"
      },
      "source": [
        "model = make_model()\n",
        "model.summary()"
      ],
      "execution_count": 60,
      "outputs": [
        {
          "output_type": "stream",
          "text": [
            "Model: \"sequential_6\"\n",
            "_________________________________________________________________\n",
            "Layer (type)                 Output Shape              Param #   \n",
            "=================================================================\n",
            "dense_12 (Dense)             (None, 16)                64        \n",
            "_________________________________________________________________\n",
            "dropout_6 (Dropout)          (None, 16)                0         \n",
            "_________________________________________________________________\n",
            "dense_13 (Dense)             (None, 1)                 17        \n",
            "=================================================================\n",
            "Total params: 81\n",
            "Trainable params: 81\n",
            "Non-trainable params: 0\n",
            "_________________________________________________________________\n"
          ],
          "name": "stdout"
        }
      ]
    },
    {
      "cell_type": "markdown",
      "metadata": {
        "colab_type": "text",
        "id": "Wx7ND3_SqckO"
      },
      "source": [
        "Test run the model:"
      ]
    },
    {
      "cell_type": "code",
      "metadata": {
        "colab_type": "code",
        "id": "LopSd-yQqO3a",
        "colab": {
          "base_uri": "https://localhost:8080/",
          "height": 185
        },
        "outputId": "069e095a-c583-46ec-95ad-102a4bc82a96"
      },
      "source": [
        "model.predict(train_features[:10])"
      ],
      "execution_count": 61,
      "outputs": [
        {
          "output_type": "execute_result",
          "data": {
            "text/plain": [
              "array([[0.49342048],\n",
              "       [0.6948815 ],\n",
              "       [0.53411233],\n",
              "       [0.68832344],\n",
              "       [0.6513152 ],\n",
              "       [0.68832344],\n",
              "       [0.6711139 ],\n",
              "       [0.7222859 ],\n",
              "       [0.6309799 ],\n",
              "       [0.68832344]], dtype=float32)"
            ]
          },
          "metadata": {
            "tags": []
          },
          "execution_count": 61
        }
      ]
    },
    {
      "cell_type": "markdown",
      "metadata": {
        "colab_type": "text",
        "id": "YKIgWqHms_03"
      },
      "source": [
        "### Optional: Set the correct initial bias."
      ]
    },
    {
      "cell_type": "markdown",
      "metadata": {
        "colab_type": "text",
        "id": "qk_3Ry6EoYDq"
      },
      "source": [
        "These initial guesses are not great. You know the dataset is imbalanced. Set the output layer's bias to reflect that (See: [A Recipe for Training Neural Networks: \"init well\"](http://karpathy.github.io/2019/04/25/recipe/#2-set-up-the-end-to-end-trainingevaluation-skeleton--get-dumb-baselines)). This can help with initial convergence."
      ]
    },
    {
      "cell_type": "markdown",
      "metadata": {
        "colab_type": "text",
        "id": "PdbfWDuVpo6k"
      },
      "source": [
        "With the default bias initialization the loss should be about `math.log(2) = 0.69314` "
      ]
    },
    {
      "cell_type": "code",
      "metadata": {
        "colab_type": "code",
        "id": "H-oPqh3SoGXk",
        "colab": {
          "base_uri": "https://localhost:8080/",
          "height": 34
        },
        "outputId": "6d5e00c6-23dc-4e6c-daca-e8dc3ae2662a"
      },
      "source": [
        "results = model.evaluate(train_features, train_labels, batch_size=BATCH_SIZE, verbose=0)\n",
        "print(\"Loss: {:0.4f}\".format(results[0]))"
      ],
      "execution_count": 62,
      "outputs": [
        {
          "output_type": "stream",
          "text": [
            "Loss: 1.1035\n"
          ],
          "name": "stdout"
        }
      ]
    },
    {
      "cell_type": "markdown",
      "metadata": {
        "colab_type": "text",
        "id": "hE-JRzfKqfhB"
      },
      "source": [
        "The correct bias to set can be derived from:\n",
        "\n",
        "$$ p_0 = pos/(pos + neg) = 1/(1+e^{-b_0}) $$\n",
        "$$ b_0 = -log_e(1/p_0 - 1) $$\n",
        "$$ b_0 = log_e(pos/neg)$$"
      ]
    },
    {
      "cell_type": "code",
      "metadata": {
        "colab_type": "code",
        "id": "F5KWPSjjstUS",
        "colab": {
          "base_uri": "https://localhost:8080/",
          "height": 34
        },
        "outputId": "696b1124-2d6c-4295-c780-abb8dde0fafa"
      },
      "source": [
        "initial_bias = np.log([pos/neg])\n",
        "initial_bias"
      ],
      "execution_count": 63,
      "outputs": [
        {
          "output_type": "execute_result",
          "data": {
            "text/plain": [
              "array([-4.01774519])"
            ]
          },
          "metadata": {
            "tags": []
          },
          "execution_count": 63
        }
      ]
    },
    {
      "cell_type": "markdown",
      "metadata": {
        "colab_type": "text",
        "id": "d1juXI9yY1KD"
      },
      "source": [
        "Set that as the initial bias, and the model will give much more reasonable initial guesses. \n",
        "\n",
        "It should be near: `pos/total = 0.0018`"
      ]
    },
    {
      "cell_type": "code",
      "metadata": {
        "colab_type": "code",
        "id": "50oyu1uss0i-",
        "colab": {
          "base_uri": "https://localhost:8080/",
          "height": 185
        },
        "outputId": "494aea33-6be4-4647-ad8a-86ab8149fe16"
      },
      "source": [
        "model = make_model(output_bias = initial_bias)\n",
        "model.predict(train_features[:10])"
      ],
      "execution_count": 64,
      "outputs": [
        {
          "output_type": "execute_result",
          "data": {
            "text/plain": [
              "array([[0.01801345],\n",
              "       [0.02406496],\n",
              "       [0.01918509],\n",
              "       [0.01255138],\n",
              "       [0.01136168],\n",
              "       [0.01255138],\n",
              "       [0.01215797],\n",
              "       [0.02341098],\n",
              "       [0.01069364],\n",
              "       [0.01255138]], dtype=float32)"
            ]
          },
          "metadata": {
            "tags": []
          },
          "execution_count": 64
        }
      ]
    },
    {
      "cell_type": "markdown",
      "metadata": {
        "colab_type": "text",
        "id": "4xqFYb2KqRHQ"
      },
      "source": [
        "With this initialization the initial loss should be approximately:\n",
        "\n",
        "$$-p_0log(p_0)-(1-p_0)log(1-p_0) = 0.01317$$"
      ]
    },
    {
      "cell_type": "code",
      "metadata": {
        "colab_type": "code",
        "id": "xVDqCWXDqHSc",
        "colab": {
          "base_uri": "https://localhost:8080/",
          "height": 34
        },
        "outputId": "d76f0d18-8fec-4aef-9033-b7b00579763c"
      },
      "source": [
        "results = model.evaluate(train_features, train_labels, batch_size=BATCH_SIZE, verbose=0)\n",
        "print(\"Loss: {:0.4f}\".format(results[0]))"
      ],
      "execution_count": 65,
      "outputs": [
        {
          "output_type": "stream",
          "text": [
            "Loss: 0.0913\n"
          ],
          "name": "stdout"
        }
      ]
    },
    {
      "cell_type": "markdown",
      "metadata": {
        "colab_type": "text",
        "id": "FrDC8hvNr9yw"
      },
      "source": [
        "This initial loss is about 50 times less than if would have been with naive initialization.\n",
        "\n",
        "This way the model doesn't need to spend the first few epochs just learning that positive examples are unlikely. This also makes it easier to read plots of the loss during training."
      ]
    },
    {
      "cell_type": "markdown",
      "metadata": {
        "colab_type": "text",
        "id": "0EJj9ixKVBMT"
      },
      "source": [
        "### Checkpoint the initial weights\n",
        "\n",
        "To make the various training runs more comparable, keep this initial model's weights in a checkpoint file, and load them into each model before training."
      ]
    },
    {
      "cell_type": "code",
      "metadata": {
        "colab_type": "code",
        "id": "_tSUm4yAVIif",
        "colab": {}
      },
      "source": [
        "initial_weights = os.path.join(tempfile.mkdtemp(),'initial_weights')\n",
        "model.save_weights(initial_weights)"
      ],
      "execution_count": 66,
      "outputs": []
    },
    {
      "cell_type": "markdown",
      "metadata": {
        "colab_type": "text",
        "id": "EVXiLyqyZ8AX"
      },
      "source": [
        "### Confirm that the bias fix helps\n",
        "\n",
        "Before moving on, confirm quick that the careful bias initialization actually helped.\n",
        "\n",
        "Train the model for 20 epochs, with and without this careful initialization, and compare the losses: "
      ]
    },
    {
      "cell_type": "code",
      "metadata": {
        "colab_type": "code",
        "id": "Dm4-4K5RZ63Q",
        "colab": {}
      },
      "source": [
        "model = make_model()\n",
        "model.load_weights(initial_weights)\n",
        "model.layers[-1].bias.assign([0.0])\n",
        "zero_bias_history = model.fit(\n",
        "    train_features,\n",
        "    train_labels,\n",
        "    batch_size=BATCH_SIZE,\n",
        "    epochs=20,\n",
        "    validation_data=(val_features, val_labels), \n",
        "    verbose=0)"
      ],
      "execution_count": 67,
      "outputs": []
    },
    {
      "cell_type": "code",
      "metadata": {
        "colab_type": "code",
        "id": "j8DsLXHQaSql",
        "colab": {}
      },
      "source": [
        "model = make_model()\n",
        "model.load_weights(initial_weights)\n",
        "careful_bias_history = model.fit(\n",
        "    train_features,\n",
        "    train_labels,\n",
        "    batch_size=BATCH_SIZE,\n",
        "    epochs=20,\n",
        "    validation_data=(val_features, val_labels), \n",
        "    verbose=0)"
      ],
      "execution_count": 68,
      "outputs": []
    },
    {
      "cell_type": "code",
      "metadata": {
        "colab_type": "code",
        "id": "E3XsMBjhauFV",
        "colab": {}
      },
      "source": [
        "def plot_loss(history, label, n):\n",
        "  # Use a log scale to show the wide range of values.\n",
        "  plt.semilogy(history.epoch,  history.history['loss'],\n",
        "               color=colors[n], label='Train '+label)\n",
        "  plt.semilogy(history.epoch,  history.history['val_loss'],\n",
        "          color=colors[n], label='Val '+label,\n",
        "          linestyle=\"--\")\n",
        "  plt.xlabel('Epoch')\n",
        "  plt.ylabel('Loss')\n",
        "  \n",
        "  plt.legend()"
      ],
      "execution_count": 69,
      "outputs": []
    },
    {
      "cell_type": "code",
      "metadata": {
        "colab_type": "code",
        "id": "dxFaskm7beC7",
        "colab": {
          "base_uri": "https://localhost:8080/",
          "height": 606
        },
        "outputId": "41491e10-5af7-47e3-9664-a909e256001b"
      },
      "source": [
        "plot_loss(zero_bias_history, \"Zero Bias\", 0)\n",
        "plot_loss(careful_bias_history, \"Careful Bias\", 1)"
      ],
      "execution_count": 70,
      "outputs": [
        {
          "output_type": "display_data",
          "data": {
            "image/png": "[encoded data removed]",
            "text/plain": [
              "<Figure size 864x720 with 1 Axes>"
            ]
          },
          "metadata": {
            "tags": [],
            "needs_background": "light"
          }
        }
      ]
    },
    {
      "cell_type": "markdown",
      "metadata": {
        "colab_type": "text",
        "id": "fKMioV0ddG3R"
      },
      "source": [
        "The above figure makes it clear: In terms of validation loss, on this problem, this careful initialization gives a clear advantage. "
      ]
    },
    {
      "cell_type": "markdown",
      "metadata": {
        "colab_type": "text",
        "id": "RsA_7SEntRaV"
      },
      "source": [
        "### Train the model"
      ]
    },
    {
      "cell_type": "code",
      "metadata": {
        "colab_type": "code",
        "id": "yZKAc8NCDnoR",
        "colab": {
          "base_uri": "https://localhost:8080/",
          "height": 1000
        },
        "outputId": "88b2358a-ce4a-4860-ace3-2d8d321d0c84"
      },
      "source": [
        "model = make_model()\n",
        "model.load_weights(initial_weights)\n",
        "baseline_history = model.fit(\n",
        "    train_features,\n",
        "    train_labels,\n",
        "    batch_size=BATCH_SIZE,\n",
        "    epochs=EPOCHS,\n",
        "    #callbacks = [early_stopping],\n",
        "    validation_data=(val_features, val_labels))"
      ],
      "execution_count": 71,
      "outputs": [
        {
          "output_type": "stream",
          "text": [
            "Epoch 1/100\n",
            "11/11 [==============================] - 1s 86ms/step - loss: 0.0927 - tp: 0.0000e+00 - fp: 1.0000 - tn: 25569.0000 - fn: 454.0000 - accuracy: 0.9825 - precision: 0.0000e+00 - recall: 0.0000e+00 - auc: 0.5418 - val_loss: 0.0852 - val_tp: 0.0000e+00 - val_fp: 0.0000e+00 - val_tn: 5120.0000 - val_fn: 85.0000 - val_accuracy: 0.9837 - val_precision: 0.0000e+00 - val_recall: 0.0000e+00 - val_auc: 0.4296\n",
            "Epoch 2/100\n",
            "11/11 [==============================] - 0s 12ms/step - loss: 0.0936 - tp: 0.0000e+00 - fp: 2.0000 - tn: 20448.0000 - fn: 369.0000 - accuracy: 0.9822 - precision: 0.0000e+00 - recall: 0.0000e+00 - auc: 0.4789 - val_loss: 0.0843 - val_tp: 0.0000e+00 - val_fp: 0.0000e+00 - val_tn: 5120.0000 - val_fn: 85.0000 - val_accuracy: 0.9837 - val_precision: 0.0000e+00 - val_recall: 0.0000e+00 - val_auc: 0.4335\n",
            "Epoch 3/100\n",
            "11/11 [==============================] - 0s 11ms/step - loss: 0.0922 - tp: 0.0000e+00 - fp: 1.0000 - tn: 20449.0000 - fn: 369.0000 - accuracy: 0.9822 - precision: 0.0000e+00 - recall: 0.0000e+00 - auc: 0.4844 - val_loss: 0.0835 - val_tp: 0.0000e+00 - val_fp: 0.0000e+00 - val_tn: 5120.0000 - val_fn: 85.0000 - val_accuracy: 0.9837 - val_precision: 0.0000e+00 - val_recall: 0.0000e+00 - val_auc: 0.5576\n",
            "Epoch 4/100\n",
            "11/11 [==============================] - 0s 11ms/step - loss: 0.0924 - tp: 1.0000 - fp: 0.0000e+00 - tn: 20450.0000 - fn: 368.0000 - accuracy: 0.9823 - precision: 1.0000 - recall: 0.0027 - auc: 0.4832 - val_loss: 0.0829 - val_tp: 0.0000e+00 - val_fp: 0.0000e+00 - val_tn: 5120.0000 - val_fn: 85.0000 - val_accuracy: 0.9837 - val_precision: 0.0000e+00 - val_recall: 0.0000e+00 - val_auc: 0.5780\n",
            "Epoch 5/100\n",
            "11/11 [==============================] - 0s 11ms/step - loss: 0.0914 - tp: 0.0000e+00 - fp: 2.0000 - tn: 20448.0000 - fn: 369.0000 - accuracy: 0.9822 - precision: 0.0000e+00 - recall: 0.0000e+00 - auc: 0.5090 - val_loss: 0.0823 - val_tp: 0.0000e+00 - val_fp: 0.0000e+00 - val_tn: 5120.0000 - val_fn: 85.0000 - val_accuracy: 0.9837 - val_precision: 0.0000e+00 - val_recall: 0.0000e+00 - val_auc: 0.5939\n",
            "Epoch 6/100\n",
            "11/11 [==============================] - 0s 12ms/step - loss: 0.0911 - tp: 0.0000e+00 - fp: 0.0000e+00 - tn: 20450.0000 - fn: 369.0000 - accuracy: 0.9823 - precision: 0.0000e+00 - recall: 0.0000e+00 - auc: 0.5138 - val_loss: 0.0818 - val_tp: 0.0000e+00 - val_fp: 0.0000e+00 - val_tn: 5120.0000 - val_fn: 85.0000 - val_accuracy: 0.9837 - val_precision: 0.0000e+00 - val_recall: 0.0000e+00 - val_auc: 0.6332\n",
            "Epoch 7/100\n",
            "11/11 [==============================] - 0s 11ms/step - loss: 0.0919 - tp: 0.0000e+00 - fp: 1.0000 - tn: 20449.0000 - fn: 369.0000 - accuracy: 0.9822 - precision: 0.0000e+00 - recall: 0.0000e+00 - auc: 0.4938 - val_loss: 0.0814 - val_tp: 0.0000e+00 - val_fp: 0.0000e+00 - val_tn: 5120.0000 - val_fn: 85.0000 - val_accuracy: 0.9837 - val_precision: 0.0000e+00 - val_recall: 0.0000e+00 - val_auc: 0.6814\n",
            "Epoch 8/100\n",
            "11/11 [==============================] - 0s 12ms/step - loss: 0.0895 - tp: 0.0000e+00 - fp: 0.0000e+00 - tn: 20450.0000 - fn: 369.0000 - accuracy: 0.9823 - precision: 0.0000e+00 - recall: 0.0000e+00 - auc: 0.5437 - val_loss: 0.0810 - val_tp: 0.0000e+00 - val_fp: 0.0000e+00 - val_tn: 5120.0000 - val_fn: 85.0000 - val_accuracy: 0.9837 - val_precision: 0.0000e+00 - val_recall: 0.0000e+00 - val_auc: 0.7035\n",
            "Epoch 9/100\n",
            "11/11 [==============================] - 0s 12ms/step - loss: 0.0888 - tp: 0.0000e+00 - fp: 3.0000 - tn: 20447.0000 - fn: 369.0000 - accuracy: 0.9821 - precision: 0.0000e+00 - recall: 0.0000e+00 - auc: 0.5735 - val_loss: 0.0806 - val_tp: 0.0000e+00 - val_fp: 0.0000e+00 - val_tn: 5120.0000 - val_fn: 85.0000 - val_accuracy: 0.9837 - val_precision: 0.0000e+00 - val_recall: 0.0000e+00 - val_auc: 0.7331\n",
            "Epoch 10/100\n",
            "11/11 [==============================] - 0s 12ms/step - loss: 0.0901 - tp: 0.0000e+00 - fp: 2.0000 - tn: 20448.0000 - fn: 369.0000 - accuracy: 0.9822 - precision: 0.0000e+00 - recall: 0.0000e+00 - auc: 0.5431 - val_loss: 0.0803 - val_tp: 0.0000e+00 - val_fp: 0.0000e+00 - val_tn: 5120.0000 - val_fn: 85.0000 - val_accuracy: 0.9837 - val_precision: 0.0000e+00 - val_recall: 0.0000e+00 - val_auc: 0.7441\n",
            "Epoch 11/100\n",
            "11/11 [==============================] - 0s 11ms/step - loss: 0.0895 - tp: 0.0000e+00 - fp: 0.0000e+00 - tn: 20450.0000 - fn: 369.0000 - accuracy: 0.9823 - precision: 0.0000e+00 - recall: 0.0000e+00 - auc: 0.5597 - val_loss: 0.0801 - val_tp: 0.0000e+00 - val_fp: 0.0000e+00 - val_tn: 5120.0000 - val_fn: 85.0000 - val_accuracy: 0.9837 - val_precision: 0.0000e+00 - val_recall: 0.0000e+00 - val_auc: 0.7377\n",
            "Epoch 12/100\n",
            "11/11 [==============================] - 0s 12ms/step - loss: 0.0890 - tp: 0.0000e+00 - fp: 0.0000e+00 - tn: 20450.0000 - fn: 369.0000 - accuracy: 0.9823 - precision: 0.0000e+00 - recall: 0.0000e+00 - auc: 0.5698 - val_loss: 0.0800 - val_tp: 0.0000e+00 - val_fp: 0.0000e+00 - val_tn: 5120.0000 - val_fn: 85.0000 - val_accuracy: 0.9837 - val_precision: 0.0000e+00 - val_recall: 0.0000e+00 - val_auc: 0.7420\n",
            "Epoch 13/100\n",
            "11/11 [==============================] - 0s 11ms/step - loss: 0.0894 - tp: 0.0000e+00 - fp: 1.0000 - tn: 20449.0000 - fn: 369.0000 - accuracy: 0.9822 - precision: 0.0000e+00 - recall: 0.0000e+00 - auc: 0.5665 - val_loss: 0.0798 - val_tp: 0.0000e+00 - val_fp: 0.0000e+00 - val_tn: 5120.0000 - val_fn: 85.0000 - val_accuracy: 0.9837 - val_precision: 0.0000e+00 - val_recall: 0.0000e+00 - val_auc: 0.7432\n",
            "Epoch 14/100\n",
            "11/11 [==============================] - 0s 11ms/step - loss: 0.0893 - tp: 0.0000e+00 - fp: 1.0000 - tn: 20449.0000 - fn: 369.0000 - accuracy: 0.9822 - precision: 0.0000e+00 - recall: 0.0000e+00 - auc: 0.5616 - val_loss: 0.0797 - val_tp: 0.0000e+00 - val_fp: 0.0000e+00 - val_tn: 5120.0000 - val_fn: 85.0000 - val_accuracy: 0.9837 - val_precision: 0.0000e+00 - val_recall: 0.0000e+00 - val_auc: 0.7432\n",
            "Epoch 15/100\n",
            "11/11 [==============================] - 0s 13ms/step - loss: 0.0885 - tp: 0.0000e+00 - fp: 0.0000e+00 - tn: 20450.0000 - fn: 369.0000 - accuracy: 0.9823 - precision: 0.0000e+00 - recall: 0.0000e+00 - auc: 0.5710 - val_loss: 0.0796 - val_tp: 0.0000e+00 - val_fp: 0.0000e+00 - val_tn: 5120.0000 - val_fn: 85.0000 - val_accuracy: 0.9837 - val_precision: 0.0000e+00 - val_recall: 0.0000e+00 - val_auc: 0.7422\n",
            "Epoch 16/100\n",
            "11/11 [==============================] - 0s 11ms/step - loss: 0.0889 - tp: 0.0000e+00 - fp: 1.0000 - tn: 20449.0000 - fn: 369.0000 - accuracy: 0.9822 - precision: 0.0000e+00 - recall: 0.0000e+00 - auc: 0.5739 - val_loss: 0.0795 - val_tp: 0.0000e+00 - val_fp: 0.0000e+00 - val_tn: 5120.0000 - val_fn: 85.0000 - val_accuracy: 0.9837 - val_precision: 0.0000e+00 - val_recall: 0.0000e+00 - val_auc: 0.7461\n",
            "Epoch 17/100\n",
            "11/11 [==============================] - 0s 11ms/step - loss: 0.0883 - tp: 0.0000e+00 - fp: 0.0000e+00 - tn: 20450.0000 - fn: 369.0000 - accuracy: 0.9823 - precision: 0.0000e+00 - recall: 0.0000e+00 - auc: 0.5822 - val_loss: 0.0793 - val_tp: 0.0000e+00 - val_fp: 0.0000e+00 - val_tn: 5120.0000 - val_fn: 85.0000 - val_accuracy: 0.9837 - val_precision: 0.0000e+00 - val_recall: 0.0000e+00 - val_auc: 0.7440\n",
            "Epoch 18/100\n",
            "11/11 [==============================] - 0s 12ms/step - loss: 0.0876 - tp: 0.0000e+00 - fp: 0.0000e+00 - tn: 20450.0000 - fn: 369.0000 - accuracy: 0.9823 - precision: 0.0000e+00 - recall: 0.0000e+00 - auc: 0.5883 - val_loss: 0.0792 - val_tp: 0.0000e+00 - val_fp: 0.0000e+00 - val_tn: 5120.0000 - val_fn: 85.0000 - val_accuracy: 0.9837 - val_precision: 0.0000e+00 - val_recall: 0.0000e+00 - val_auc: 0.7394\n",
            "Epoch 19/100\n",
            "11/11 [==============================] - 0s 13ms/step - loss: 0.0879 - tp: 0.0000e+00 - fp: 1.0000 - tn: 20449.0000 - fn: 369.0000 - accuracy: 0.9822 - precision: 0.0000e+00 - recall: 0.0000e+00 - auc: 0.5835 - val_loss: 0.0791 - val_tp: 0.0000e+00 - val_fp: 0.0000e+00 - val_tn: 5120.0000 - val_fn: 85.0000 - val_accuracy: 0.9837 - val_precision: 0.0000e+00 - val_recall: 0.0000e+00 - val_auc: 0.7420\n",
            "Epoch 20/100\n",
            "11/11 [==============================] - 0s 11ms/step - loss: 0.0871 - tp: 0.0000e+00 - fp: 0.0000e+00 - tn: 20450.0000 - fn: 369.0000 - accuracy: 0.9823 - precision: 0.0000e+00 - recall: 0.0000e+00 - auc: 0.5931 - val_loss: 0.0790 - val_tp: 0.0000e+00 - val_fp: 0.0000e+00 - val_tn: 5120.0000 - val_fn: 85.0000 - val_accuracy: 0.9837 - val_precision: 0.0000e+00 - val_recall: 0.0000e+00 - val_auc: 0.7461\n",
            "Epoch 21/100\n",
            "11/11 [==============================] - 0s 11ms/step - loss: 0.0876 - tp: 0.0000e+00 - fp: 0.0000e+00 - tn: 20450.0000 - fn: 369.0000 - accuracy: 0.9823 - precision: 0.0000e+00 - recall: 0.0000e+00 - auc: 0.6050 - val_loss: 0.0789 - val_tp: 0.0000e+00 - val_fp: 0.0000e+00 - val_tn: 5120.0000 - val_fn: 85.0000 - val_accuracy: 0.9837 - val_precision: 0.0000e+00 - val_recall: 0.0000e+00 - val_auc: 0.7461\n",
            "Epoch 22/100\n",
            "11/11 [==============================] - 0s 12ms/step - loss: 0.0872 - tp: 0.0000e+00 - fp: 0.0000e+00 - tn: 20450.0000 - fn: 369.0000 - accuracy: 0.9823 - precision: 0.0000e+00 - recall: 0.0000e+00 - auc: 0.6100 - val_loss: 0.0788 - val_tp: 0.0000e+00 - val_fp: 0.0000e+00 - val_tn: 5120.0000 - val_fn: 85.0000 - val_accuracy: 0.9837 - val_precision: 0.0000e+00 - val_recall: 0.0000e+00 - val_auc: 0.7471\n",
            "Epoch 23/100\n",
            "11/11 [==============================] - 0s 11ms/step - loss: 0.0878 - tp: 0.0000e+00 - fp: 0.0000e+00 - tn: 20450.0000 - fn: 369.0000 - accuracy: 0.9823 - precision: 0.0000e+00 - recall: 0.0000e+00 - auc: 0.6000 - val_loss: 0.0787 - val_tp: 0.0000e+00 - val_fp: 0.0000e+00 - val_tn: 5120.0000 - val_fn: 85.0000 - val_accuracy: 0.9837 - val_precision: 0.0000e+00 - val_recall: 0.0000e+00 - val_auc: 0.7466\n",
            "Epoch 24/100\n",
            "11/11 [==============================] - 0s 11ms/step - loss: 0.0882 - tp: 0.0000e+00 - fp: 0.0000e+00 - tn: 20450.0000 - fn: 369.0000 - accuracy: 0.9823 - precision: 0.0000e+00 - recall: 0.0000e+00 - auc: 0.5939 - val_loss: 0.0787 - val_tp: 0.0000e+00 - val_fp: 0.0000e+00 - val_tn: 5120.0000 - val_fn: 85.0000 - val_accuracy: 0.9837 - val_precision: 0.0000e+00 - val_recall: 0.0000e+00 - val_auc: 0.7472\n",
            "Epoch 25/100\n",
            "11/11 [==============================] - 0s 11ms/step - loss: 0.0869 - tp: 0.0000e+00 - fp: 0.0000e+00 - tn: 20450.0000 - fn: 369.0000 - accuracy: 0.9823 - precision: 0.0000e+00 - recall: 0.0000e+00 - auc: 0.6331 - val_loss: 0.0786 - val_tp: 0.0000e+00 - val_fp: 0.0000e+00 - val_tn: 5120.0000 - val_fn: 85.0000 - val_accuracy: 0.9837 - val_precision: 0.0000e+00 - val_recall: 0.0000e+00 - val_auc: 0.7472\n",
            "Epoch 26/100\n",
            "11/11 [==============================] - 0s 11ms/step - loss: 0.0875 - tp: 0.0000e+00 - fp: 0.0000e+00 - tn: 20450.0000 - fn: 369.0000 - accuracy: 0.9823 - precision: 0.0000e+00 - recall: 0.0000e+00 - auc: 0.5940 - val_loss: 0.0785 - val_tp: 0.0000e+00 - val_fp: 0.0000e+00 - val_tn: 5120.0000 - val_fn: 85.0000 - val_accuracy: 0.9837 - val_precision: 0.0000e+00 - val_recall: 0.0000e+00 - val_auc: 0.7475\n",
            "Epoch 27/100\n",
            "11/11 [==============================] - 0s 11ms/step - loss: 0.0869 - tp: 0.0000e+00 - fp: 0.0000e+00 - tn: 20450.0000 - fn: 369.0000 - accuracy: 0.9823 - precision: 0.0000e+00 - recall: 0.0000e+00 - auc: 0.6267 - val_loss: 0.0784 - val_tp: 0.0000e+00 - val_fp: 0.0000e+00 - val_tn: 5120.0000 - val_fn: 85.0000 - val_accuracy: 0.9837 - val_precision: 0.0000e+00 - val_recall: 0.0000e+00 - val_auc: 0.7469\n",
            "Epoch 28/100\n",
            "11/11 [==============================] - 0s 12ms/step - loss: 0.0871 - tp: 0.0000e+00 - fp: 0.0000e+00 - tn: 20450.0000 - fn: 369.0000 - accuracy: 0.9823 - precision: 0.0000e+00 - recall: 0.0000e+00 - auc: 0.6156 - val_loss: 0.0783 - val_tp: 0.0000e+00 - val_fp: 0.0000e+00 - val_tn: 5120.0000 - val_fn: 85.0000 - val_accuracy: 0.9837 - val_precision: 0.0000e+00 - val_recall: 0.0000e+00 - val_auc: 0.7482\n",
            "Epoch 29/100\n",
            "11/11 [==============================] - 0s 13ms/step - loss: 0.0869 - tp: 0.0000e+00 - fp: 0.0000e+00 - tn: 20450.0000 - fn: 369.0000 - accuracy: 0.9823 - precision: 0.0000e+00 - recall: 0.0000e+00 - auc: 0.6236 - val_loss: 0.0783 - val_tp: 0.0000e+00 - val_fp: 0.0000e+00 - val_tn: 5120.0000 - val_fn: 85.0000 - val_accuracy: 0.9837 - val_precision: 0.0000e+00 - val_recall: 0.0000e+00 - val_auc: 0.7486\n",
            "Epoch 30/100\n",
            "11/11 [==============================] - 0s 12ms/step - loss: 0.0885 - tp: 0.0000e+00 - fp: 1.0000 - tn: 20449.0000 - fn: 369.0000 - accuracy: 0.9822 - precision: 0.0000e+00 - recall: 0.0000e+00 - auc: 0.5781 - val_loss: 0.0783 - val_tp: 0.0000e+00 - val_fp: 0.0000e+00 - val_tn: 5120.0000 - val_fn: 85.0000 - val_accuracy: 0.9837 - val_precision: 0.0000e+00 - val_recall: 0.0000e+00 - val_auc: 0.7344\n",
            "Epoch 31/100\n",
            "11/11 [==============================] - 0s 12ms/step - loss: 0.0867 - tp: 0.0000e+00 - fp: 0.0000e+00 - tn: 20450.0000 - fn: 369.0000 - accuracy: 0.9823 - precision: 0.0000e+00 - recall: 0.0000e+00 - auc: 0.6244 - val_loss: 0.0783 - val_tp: 0.0000e+00 - val_fp: 0.0000e+00 - val_tn: 5120.0000 - val_fn: 85.0000 - val_accuracy: 0.9837 - val_precision: 0.0000e+00 - val_recall: 0.0000e+00 - val_auc: 0.7526\n",
            "Epoch 32/100\n",
            "11/11 [==============================] - 0s 12ms/step - loss: 0.0865 - tp: 0.0000e+00 - fp: 0.0000e+00 - tn: 20450.0000 - fn: 369.0000 - accuracy: 0.9823 - precision: 0.0000e+00 - recall: 0.0000e+00 - auc: 0.6153 - val_loss: 0.0783 - val_tp: 0.0000e+00 - val_fp: 0.0000e+00 - val_tn: 5120.0000 - val_fn: 85.0000 - val_accuracy: 0.9837 - val_precision: 0.0000e+00 - val_recall: 0.0000e+00 - val_auc: 0.7533\n",
            "Epoch 33/100\n",
            "11/11 [==============================] - 0s 11ms/step - loss: 0.0876 - tp: 0.0000e+00 - fp: 0.0000e+00 - tn: 20450.0000 - fn: 369.0000 - accuracy: 0.9823 - precision: 0.0000e+00 - recall: 0.0000e+00 - auc: 0.6023 - val_loss: 0.0782 - val_tp: 0.0000e+00 - val_fp: 0.0000e+00 - val_tn: 5120.0000 - val_fn: 85.0000 - val_accuracy: 0.9837 - val_precision: 0.0000e+00 - val_recall: 0.0000e+00 - val_auc: 0.7521\n",
            "Epoch 34/100\n",
            "11/11 [==============================] - 0s 11ms/step - loss: 0.0872 - tp: 0.0000e+00 - fp: 0.0000e+00 - tn: 20450.0000 - fn: 369.0000 - accuracy: 0.9823 - precision: 0.0000e+00 - recall: 0.0000e+00 - auc: 0.6101 - val_loss: 0.0782 - val_tp: 0.0000e+00 - val_fp: 0.0000e+00 - val_tn: 5120.0000 - val_fn: 85.0000 - val_accuracy: 0.9837 - val_precision: 0.0000e+00 - val_recall: 0.0000e+00 - val_auc: 0.7527\n",
            "Epoch 35/100\n",
            "11/11 [==============================] - 0s 12ms/step - loss: 0.0869 - tp: 0.0000e+00 - fp: 0.0000e+00 - tn: 20450.0000 - fn: 369.0000 - accuracy: 0.9823 - precision: 0.0000e+00 - recall: 0.0000e+00 - auc: 0.6142 - val_loss: 0.0782 - val_tp: 0.0000e+00 - val_fp: 0.0000e+00 - val_tn: 5120.0000 - val_fn: 85.0000 - val_accuracy: 0.9837 - val_precision: 0.0000e+00 - val_recall: 0.0000e+00 - val_auc: 0.7495\n",
            "Epoch 36/100\n",
            "11/11 [==============================] - 0s 13ms/step - loss: 0.0872 - tp: 0.0000e+00 - fp: 0.0000e+00 - tn: 20450.0000 - fn: 369.0000 - accuracy: 0.9823 - precision: 0.0000e+00 - recall: 0.0000e+00 - auc: 0.6146 - val_loss: 0.0782 - val_tp: 0.0000e+00 - val_fp: 0.0000e+00 - val_tn: 5120.0000 - val_fn: 85.0000 - val_accuracy: 0.9837 - val_precision: 0.0000e+00 - val_recall: 0.0000e+00 - val_auc: 0.7394\n",
            "Epoch 37/100\n",
            "11/11 [==============================] - 0s 12ms/step - loss: 0.0865 - tp: 0.0000e+00 - fp: 0.0000e+00 - tn: 20450.0000 - fn: 369.0000 - accuracy: 0.9823 - precision: 0.0000e+00 - recall: 0.0000e+00 - auc: 0.6338 - val_loss: 0.0781 - val_tp: 0.0000e+00 - val_fp: 0.0000e+00 - val_tn: 5120.0000 - val_fn: 85.0000 - val_accuracy: 0.9837 - val_precision: 0.0000e+00 - val_recall: 0.0000e+00 - val_auc: 0.7395\n",
            "Epoch 38/100\n",
            "11/11 [==============================] - 0s 12ms/step - loss: 0.0864 - tp: 0.0000e+00 - fp: 0.0000e+00 - tn: 20450.0000 - fn: 369.0000 - accuracy: 0.9823 - precision: 0.0000e+00 - recall: 0.0000e+00 - auc: 0.6220 - val_loss: 0.0781 - val_tp: 0.0000e+00 - val_fp: 0.0000e+00 - val_tn: 5120.0000 - val_fn: 85.0000 - val_accuracy: 0.9837 - val_precision: 0.0000e+00 - val_recall: 0.0000e+00 - val_auc: 0.7395\n",
            "Epoch 39/100\n",
            "11/11 [==============================] - 0s 11ms/step - loss: 0.0865 - tp: 0.0000e+00 - fp: 0.0000e+00 - tn: 20450.0000 - fn: 369.0000 - accuracy: 0.9823 - precision: 0.0000e+00 - recall: 0.0000e+00 - auc: 0.6188 - val_loss: 0.0780 - val_tp: 0.0000e+00 - val_fp: 0.0000e+00 - val_tn: 5120.0000 - val_fn: 85.0000 - val_accuracy: 0.9837 - val_precision: 0.0000e+00 - val_recall: 0.0000e+00 - val_auc: 0.7406\n",
            "Epoch 40/100\n",
            "11/11 [==============================] - 0s 12ms/step - loss: 0.0870 - tp: 0.0000e+00 - fp: 0.0000e+00 - tn: 20450.0000 - fn: 369.0000 - accuracy: 0.9823 - precision: 0.0000e+00 - recall: 0.0000e+00 - auc: 0.6163 - val_loss: 0.0780 - val_tp: 0.0000e+00 - val_fp: 0.0000e+00 - val_tn: 5120.0000 - val_fn: 85.0000 - val_accuracy: 0.9837 - val_precision: 0.0000e+00 - val_recall: 0.0000e+00 - val_auc: 0.7418\n",
            "Epoch 41/100\n",
            "11/11 [==============================] - 0s 11ms/step - loss: 0.0866 - tp: 0.0000e+00 - fp: 0.0000e+00 - tn: 20450.0000 - fn: 369.0000 - accuracy: 0.9823 - precision: 0.0000e+00 - recall: 0.0000e+00 - auc: 0.6190 - val_loss: 0.0779 - val_tp: 0.0000e+00 - val_fp: 0.0000e+00 - val_tn: 5120.0000 - val_fn: 85.0000 - val_accuracy: 0.9837 - val_precision: 0.0000e+00 - val_recall: 0.0000e+00 - val_auc: 0.7395\n",
            "Epoch 42/100\n",
            "11/11 [==============================] - 0s 11ms/step - loss: 0.0860 - tp: 0.0000e+00 - fp: 0.0000e+00 - tn: 20450.0000 - fn: 369.0000 - accuracy: 0.9823 - precision: 0.0000e+00 - recall: 0.0000e+00 - auc: 0.6381 - val_loss: 0.0779 - val_tp: 0.0000e+00 - val_fp: 0.0000e+00 - val_tn: 5120.0000 - val_fn: 85.0000 - val_accuracy: 0.9837 - val_precision: 0.0000e+00 - val_recall: 0.0000e+00 - val_auc: 0.7417\n",
            "Epoch 43/100\n",
            "11/11 [==============================] - 0s 12ms/step - loss: 0.0866 - tp: 0.0000e+00 - fp: 0.0000e+00 - tn: 20450.0000 - fn: 369.0000 - accuracy: 0.9823 - precision: 0.0000e+00 - recall: 0.0000e+00 - auc: 0.6280 - val_loss: 0.0779 - val_tp: 0.0000e+00 - val_fp: 0.0000e+00 - val_tn: 5120.0000 - val_fn: 85.0000 - val_accuracy: 0.9837 - val_precision: 0.0000e+00 - val_recall: 0.0000e+00 - val_auc: 0.7405\n",
            "Epoch 44/100\n",
            "11/11 [==============================] - 0s 11ms/step - loss: 0.0871 - tp: 0.0000e+00 - fp: 0.0000e+00 - tn: 20450.0000 - fn: 369.0000 - accuracy: 0.9823 - precision: 0.0000e+00 - recall: 0.0000e+00 - auc: 0.6103 - val_loss: 0.0778 - val_tp: 0.0000e+00 - val_fp: 0.0000e+00 - val_tn: 5120.0000 - val_fn: 85.0000 - val_accuracy: 0.9837 - val_precision: 0.0000e+00 - val_recall: 0.0000e+00 - val_auc: 0.7406\n",
            "Epoch 45/100\n",
            "11/11 [==============================] - 0s 11ms/step - loss: 0.0869 - tp: 0.0000e+00 - fp: 0.0000e+00 - tn: 20450.0000 - fn: 369.0000 - accuracy: 0.9823 - precision: 0.0000e+00 - recall: 0.0000e+00 - auc: 0.6174 - val_loss: 0.0778 - val_tp: 0.0000e+00 - val_fp: 0.0000e+00 - val_tn: 5120.0000 - val_fn: 85.0000 - val_accuracy: 0.9837 - val_precision: 0.0000e+00 - val_recall: 0.0000e+00 - val_auc: 0.7407\n",
            "Epoch 46/100\n",
            "11/11 [==============================] - 0s 12ms/step - loss: 0.0865 - tp: 0.0000e+00 - fp: 1.0000 - tn: 20449.0000 - fn: 369.0000 - accuracy: 0.9822 - precision: 0.0000e+00 - recall: 0.0000e+00 - auc: 0.6343 - val_loss: 0.0778 - val_tp: 0.0000e+00 - val_fp: 0.0000e+00 - val_tn: 5120.0000 - val_fn: 85.0000 - val_accuracy: 0.9837 - val_precision: 0.0000e+00 - val_recall: 0.0000e+00 - val_auc: 0.7428\n",
            "Epoch 47/100\n",
            "11/11 [==============================] - 0s 12ms/step - loss: 0.0868 - tp: 0.0000e+00 - fp: 1.0000 - tn: 20449.0000 - fn: 369.0000 - accuracy: 0.9822 - precision: 0.0000e+00 - recall: 0.0000e+00 - auc: 0.6208 - val_loss: 0.0778 - val_tp: 0.0000e+00 - val_fp: 0.0000e+00 - val_tn: 5120.0000 - val_fn: 85.0000 - val_accuracy: 0.9837 - val_precision: 0.0000e+00 - val_recall: 0.0000e+00 - val_auc: 0.7428\n",
            "Epoch 48/100\n",
            "11/11 [==============================] - 0s 11ms/step - loss: 0.0866 - tp: 0.0000e+00 - fp: 0.0000e+00 - tn: 20450.0000 - fn: 369.0000 - accuracy: 0.9823 - precision: 0.0000e+00 - recall: 0.0000e+00 - auc: 0.6336 - val_loss: 0.0778 - val_tp: 0.0000e+00 - val_fp: 0.0000e+00 - val_tn: 5120.0000 - val_fn: 85.0000 - val_accuracy: 0.9837 - val_precision: 0.0000e+00 - val_recall: 0.0000e+00 - val_auc: 0.7330\n",
            "Epoch 49/100\n",
            "11/11 [==============================] - 0s 11ms/step - loss: 0.0868 - tp: 0.0000e+00 - fp: 0.0000e+00 - tn: 20450.0000 - fn: 369.0000 - accuracy: 0.9823 - precision: 0.0000e+00 - recall: 0.0000e+00 - auc: 0.6154 - val_loss: 0.0778 - val_tp: 0.0000e+00 - val_fp: 0.0000e+00 - val_tn: 5120.0000 - val_fn: 85.0000 - val_accuracy: 0.9837 - val_precision: 0.0000e+00 - val_recall: 0.0000e+00 - val_auc: 0.7330\n",
            "Epoch 50/100\n",
            "11/11 [==============================] - 0s 12ms/step - loss: 0.0860 - tp: 0.0000e+00 - fp: 0.0000e+00 - tn: 20450.0000 - fn: 369.0000 - accuracy: 0.9823 - precision: 0.0000e+00 - recall: 0.0000e+00 - auc: 0.6443 - val_loss: 0.0777 - val_tp: 0.0000e+00 - val_fp: 0.0000e+00 - val_tn: 5120.0000 - val_fn: 85.0000 - val_accuracy: 0.9837 - val_precision: 0.0000e+00 - val_recall: 0.0000e+00 - val_auc: 0.7350\n",
            "Epoch 51/100\n",
            "11/11 [==============================] - 0s 11ms/step - loss: 0.0866 - tp: 0.0000e+00 - fp: 0.0000e+00 - tn: 20450.0000 - fn: 369.0000 - accuracy: 0.9823 - precision: 0.0000e+00 - recall: 0.0000e+00 - auc: 0.6128 - val_loss: 0.0777 - val_tp: 0.0000e+00 - val_fp: 0.0000e+00 - val_tn: 5120.0000 - val_fn: 85.0000 - val_accuracy: 0.9837 - val_precision: 0.0000e+00 - val_recall: 0.0000e+00 - val_auc: 0.7357\n",
            "Epoch 52/100\n",
            "11/11 [==============================] - 0s 12ms/step - loss: 0.0870 - tp: 0.0000e+00 - fp: 0.0000e+00 - tn: 20450.0000 - fn: 369.0000 - accuracy: 0.9823 - precision: 0.0000e+00 - recall: 0.0000e+00 - auc: 0.6220 - val_loss: 0.0776 - val_tp: 0.0000e+00 - val_fp: 0.0000e+00 - val_tn: 5120.0000 - val_fn: 85.0000 - val_accuracy: 0.9837 - val_precision: 0.0000e+00 - val_recall: 0.0000e+00 - val_auc: 0.7359\n",
            "Epoch 53/100\n",
            "11/11 [==============================] - 0s 11ms/step - loss: 0.0863 - tp: 0.0000e+00 - fp: 0.0000e+00 - tn: 20450.0000 - fn: 369.0000 - accuracy: 0.9823 - precision: 0.0000e+00 - recall: 0.0000e+00 - auc: 0.6300 - val_loss: 0.0776 - val_tp: 0.0000e+00 - val_fp: 0.0000e+00 - val_tn: 5120.0000 - val_fn: 85.0000 - val_accuracy: 0.9837 - val_precision: 0.0000e+00 - val_recall: 0.0000e+00 - val_auc: 0.7393\n",
            "Epoch 54/100\n",
            "11/11 [==============================] - 0s 11ms/step - loss: 0.0863 - tp: 0.0000e+00 - fp: 0.0000e+00 - tn: 20450.0000 - fn: 369.0000 - accuracy: 0.9823 - precision: 0.0000e+00 - recall: 0.0000e+00 - auc: 0.6370 - val_loss: 0.0776 - val_tp: 0.0000e+00 - val_fp: 0.0000e+00 - val_tn: 5120.0000 - val_fn: 85.0000 - val_accuracy: 0.9837 - val_precision: 0.0000e+00 - val_recall: 0.0000e+00 - val_auc: 0.7383\n",
            "Epoch 55/100\n",
            "11/11 [==============================] - 0s 11ms/step - loss: 0.0866 - tp: 0.0000e+00 - fp: 0.0000e+00 - tn: 20450.0000 - fn: 369.0000 - accuracy: 0.9823 - precision: 0.0000e+00 - recall: 0.0000e+00 - auc: 0.6327 - val_loss: 0.0776 - val_tp: 0.0000e+00 - val_fp: 0.0000e+00 - val_tn: 5120.0000 - val_fn: 85.0000 - val_accuracy: 0.9837 - val_precision: 0.0000e+00 - val_recall: 0.0000e+00 - val_auc: 0.7381\n",
            "Epoch 56/100\n",
            "11/11 [==============================] - 0s 12ms/step - loss: 0.0858 - tp: 1.0000 - fp: 0.0000e+00 - tn: 20450.0000 - fn: 368.0000 - accuracy: 0.9823 - precision: 1.0000 - recall: 0.0027 - auc: 0.6312 - val_loss: 0.0775 - val_tp: 0.0000e+00 - val_fp: 0.0000e+00 - val_tn: 5120.0000 - val_fn: 85.0000 - val_accuracy: 0.9837 - val_precision: 0.0000e+00 - val_recall: 0.0000e+00 - val_auc: 0.7380\n",
            "Epoch 57/100\n",
            "11/11 [==============================] - 0s 13ms/step - loss: 0.0865 - tp: 0.0000e+00 - fp: 0.0000e+00 - tn: 20450.0000 - fn: 369.0000 - accuracy: 0.9823 - precision: 0.0000e+00 - recall: 0.0000e+00 - auc: 0.6351 - val_loss: 0.0775 - val_tp: 0.0000e+00 - val_fp: 0.0000e+00 - val_tn: 5120.0000 - val_fn: 85.0000 - val_accuracy: 0.9837 - val_precision: 0.0000e+00 - val_recall: 0.0000e+00 - val_auc: 0.7374\n",
            "Epoch 58/100\n",
            "11/11 [==============================] - 0s 11ms/step - loss: 0.0863 - tp: 1.0000 - fp: 0.0000e+00 - tn: 20450.0000 - fn: 368.0000 - accuracy: 0.9823 - precision: 1.0000 - recall: 0.0027 - auc: 0.6322 - val_loss: 0.0775 - val_tp: 0.0000e+00 - val_fp: 0.0000e+00 - val_tn: 5120.0000 - val_fn: 85.0000 - val_accuracy: 0.9837 - val_precision: 0.0000e+00 - val_recall: 0.0000e+00 - val_auc: 0.7425\n",
            "Epoch 59/100\n",
            "11/11 [==============================] - 0s 11ms/step - loss: 0.0855 - tp: 0.0000e+00 - fp: 0.0000e+00 - tn: 20450.0000 - fn: 369.0000 - accuracy: 0.9823 - precision: 0.0000e+00 - recall: 0.0000e+00 - auc: 0.6356 - val_loss: 0.0775 - val_tp: 0.0000e+00 - val_fp: 0.0000e+00 - val_tn: 5120.0000 - val_fn: 85.0000 - val_accuracy: 0.9837 - val_precision: 0.0000e+00 - val_recall: 0.0000e+00 - val_auc: 0.7425\n",
            "Epoch 60/100\n",
            "11/11 [==============================] - 0s 11ms/step - loss: 0.0868 - tp: 0.0000e+00 - fp: 1.0000 - tn: 20449.0000 - fn: 369.0000 - accuracy: 0.9822 - precision: 0.0000e+00 - recall: 0.0000e+00 - auc: 0.6205 - val_loss: 0.0776 - val_tp: 0.0000e+00 - val_fp: 0.0000e+00 - val_tn: 5120.0000 - val_fn: 85.0000 - val_accuracy: 0.9837 - val_precision: 0.0000e+00 - val_recall: 0.0000e+00 - val_auc: 0.7431\n",
            "Epoch 61/100\n",
            "11/11 [==============================] - 0s 11ms/step - loss: 0.0864 - tp: 0.0000e+00 - fp: 0.0000e+00 - tn: 20450.0000 - fn: 369.0000 - accuracy: 0.9823 - precision: 0.0000e+00 - recall: 0.0000e+00 - auc: 0.6323 - val_loss: 0.0776 - val_tp: 0.0000e+00 - val_fp: 0.0000e+00 - val_tn: 5120.0000 - val_fn: 85.0000 - val_accuracy: 0.9837 - val_precision: 0.0000e+00 - val_recall: 0.0000e+00 - val_auc: 0.7433\n",
            "Epoch 62/100\n",
            "11/11 [==============================] - 0s 12ms/step - loss: 0.0865 - tp: 0.0000e+00 - fp: 0.0000e+00 - tn: 20450.0000 - fn: 369.0000 - accuracy: 0.9823 - precision: 0.0000e+00 - recall: 0.0000e+00 - auc: 0.6263 - val_loss: 0.0776 - val_tp: 0.0000e+00 - val_fp: 0.0000e+00 - val_tn: 5120.0000 - val_fn: 85.0000 - val_accuracy: 0.9837 - val_precision: 0.0000e+00 - val_recall: 0.0000e+00 - val_auc: 0.7437\n",
            "Epoch 63/100\n",
            "11/11 [==============================] - 0s 11ms/step - loss: 0.0854 - tp: 0.0000e+00 - fp: 0.0000e+00 - tn: 20450.0000 - fn: 369.0000 - accuracy: 0.9823 - precision: 0.0000e+00 - recall: 0.0000e+00 - auc: 0.6457 - val_loss: 0.0776 - val_tp: 0.0000e+00 - val_fp: 0.0000e+00 - val_tn: 5120.0000 - val_fn: 85.0000 - val_accuracy: 0.9837 - val_precision: 0.0000e+00 - val_recall: 0.0000e+00 - val_auc: 0.7341\n",
            "Epoch 64/100\n",
            "11/11 [==============================] - 0s 12ms/step - loss: 0.0865 - tp: 0.0000e+00 - fp: 0.0000e+00 - tn: 20450.0000 - fn: 369.0000 - accuracy: 0.9823 - precision: 0.0000e+00 - recall: 0.0000e+00 - auc: 0.6317 - val_loss: 0.0775 - val_tp: 0.0000e+00 - val_fp: 0.0000e+00 - val_tn: 5120.0000 - val_fn: 85.0000 - val_accuracy: 0.9837 - val_precision: 0.0000e+00 - val_recall: 0.0000e+00 - val_auc: 0.7437\n",
            "Epoch 65/100\n",
            "11/11 [==============================] - 0s 12ms/step - loss: 0.0863 - tp: 0.0000e+00 - fp: 1.0000 - tn: 20449.0000 - fn: 369.0000 - accuracy: 0.9822 - precision: 0.0000e+00 - recall: 0.0000e+00 - auc: 0.6341 - val_loss: 0.0775 - val_tp: 0.0000e+00 - val_fp: 0.0000e+00 - val_tn: 5120.0000 - val_fn: 85.0000 - val_accuracy: 0.9837 - val_precision: 0.0000e+00 - val_recall: 0.0000e+00 - val_auc: 0.7337\n",
            "Epoch 66/100\n",
            "11/11 [==============================] - 0s 12ms/step - loss: 0.0863 - tp: 0.0000e+00 - fp: 0.0000e+00 - tn: 20450.0000 - fn: 369.0000 - accuracy: 0.9823 - precision: 0.0000e+00 - recall: 0.0000e+00 - auc: 0.6369 - val_loss: 0.0775 - val_tp: 0.0000e+00 - val_fp: 0.0000e+00 - val_tn: 5120.0000 - val_fn: 85.0000 - val_accuracy: 0.9837 - val_precision: 0.0000e+00 - val_recall: 0.0000e+00 - val_auc: 0.7340\n",
            "Epoch 67/100\n",
            "11/11 [==============================] - 0s 11ms/step - loss: 0.0865 - tp: 0.0000e+00 - fp: 0.0000e+00 - tn: 20450.0000 - fn: 369.0000 - accuracy: 0.9823 - precision: 0.0000e+00 - recall: 0.0000e+00 - auc: 0.6338 - val_loss: 0.0775 - val_tp: 0.0000e+00 - val_fp: 0.0000e+00 - val_tn: 5120.0000 - val_fn: 85.0000 - val_accuracy: 0.9837 - val_precision: 0.0000e+00 - val_recall: 0.0000e+00 - val_auc: 0.7346\n",
            "Epoch 68/100\n",
            "11/11 [==============================] - 0s 13ms/step - loss: 0.0858 - tp: 1.0000 - fp: 0.0000e+00 - tn: 20450.0000 - fn: 368.0000 - accuracy: 0.9823 - precision: 1.0000 - recall: 0.0027 - auc: 0.6450 - val_loss: 0.0776 - val_tp: 0.0000e+00 - val_fp: 0.0000e+00 - val_tn: 5120.0000 - val_fn: 85.0000 - val_accuracy: 0.9837 - val_precision: 0.0000e+00 - val_recall: 0.0000e+00 - val_auc: 0.7341\n",
            "Epoch 69/100\n",
            "11/11 [==============================] - 0s 12ms/step - loss: 0.0869 - tp: 0.0000e+00 - fp: 0.0000e+00 - tn: 20450.0000 - fn: 369.0000 - accuracy: 0.9823 - precision: 0.0000e+00 - recall: 0.0000e+00 - auc: 0.6091 - val_loss: 0.0776 - val_tp: 0.0000e+00 - val_fp: 0.0000e+00 - val_tn: 5120.0000 - val_fn: 85.0000 - val_accuracy: 0.9837 - val_precision: 0.0000e+00 - val_recall: 0.0000e+00 - val_auc: 0.7326\n",
            "Epoch 70/100\n",
            "11/11 [==============================] - 0s 13ms/step - loss: 0.0863 - tp: 0.0000e+00 - fp: 0.0000e+00 - tn: 20450.0000 - fn: 369.0000 - accuracy: 0.9823 - precision: 0.0000e+00 - recall: 0.0000e+00 - auc: 0.6304 - val_loss: 0.0776 - val_tp: 0.0000e+00 - val_fp: 0.0000e+00 - val_tn: 5120.0000 - val_fn: 85.0000 - val_accuracy: 0.9837 - val_precision: 0.0000e+00 - val_recall: 0.0000e+00 - val_auc: 0.7320\n",
            "Epoch 71/100\n",
            "11/11 [==============================] - 0s 13ms/step - loss: 0.0853 - tp: 0.0000e+00 - fp: 0.0000e+00 - tn: 20450.0000 - fn: 369.0000 - accuracy: 0.9823 - precision: 0.0000e+00 - recall: 0.0000e+00 - auc: 0.6512 - val_loss: 0.0775 - val_tp: 0.0000e+00 - val_fp: 0.0000e+00 - val_tn: 5120.0000 - val_fn: 85.0000 - val_accuracy: 0.9837 - val_precision: 0.0000e+00 - val_recall: 0.0000e+00 - val_auc: 0.7337\n",
            "Epoch 72/100\n",
            "11/11 [==============================] - 0s 12ms/step - loss: 0.0858 - tp: 0.0000e+00 - fp: 0.0000e+00 - tn: 20450.0000 - fn: 369.0000 - accuracy: 0.9823 - precision: 0.0000e+00 - recall: 0.0000e+00 - auc: 0.6396 - val_loss: 0.0775 - val_tp: 0.0000e+00 - val_fp: 0.0000e+00 - val_tn: 5120.0000 - val_fn: 85.0000 - val_accuracy: 0.9837 - val_precision: 0.0000e+00 - val_recall: 0.0000e+00 - val_auc: 0.7341\n",
            "Epoch 73/100\n",
            "11/11 [==============================] - 0s 12ms/step - loss: 0.0865 - tp: 0.0000e+00 - fp: 0.0000e+00 - tn: 20450.0000 - fn: 369.0000 - accuracy: 0.9823 - precision: 0.0000e+00 - recall: 0.0000e+00 - auc: 0.6299 - val_loss: 0.0775 - val_tp: 0.0000e+00 - val_fp: 0.0000e+00 - val_tn: 5120.0000 - val_fn: 85.0000 - val_accuracy: 0.9837 - val_precision: 0.0000e+00 - val_recall: 0.0000e+00 - val_auc: 0.7322\n",
            "Epoch 74/100\n",
            "11/11 [==============================] - 0s 12ms/step - loss: 0.0860 - tp: 0.0000e+00 - fp: 0.0000e+00 - tn: 20450.0000 - fn: 369.0000 - accuracy: 0.9823 - precision: 0.0000e+00 - recall: 0.0000e+00 - auc: 0.6411 - val_loss: 0.0775 - val_tp: 0.0000e+00 - val_fp: 0.0000e+00 - val_tn: 5120.0000 - val_fn: 85.0000 - val_accuracy: 0.9837 - val_precision: 0.0000e+00 - val_recall: 0.0000e+00 - val_auc: 0.7411\n",
            "Epoch 75/100\n",
            "11/11 [==============================] - 0s 13ms/step - loss: 0.0866 - tp: 0.0000e+00 - fp: 0.0000e+00 - tn: 20450.0000 - fn: 369.0000 - accuracy: 0.9823 - precision: 0.0000e+00 - recall: 0.0000e+00 - auc: 0.6322 - val_loss: 0.0775 - val_tp: 0.0000e+00 - val_fp: 0.0000e+00 - val_tn: 5120.0000 - val_fn: 85.0000 - val_accuracy: 0.9837 - val_precision: 0.0000e+00 - val_recall: 0.0000e+00 - val_auc: 0.7412\n",
            "Epoch 76/100\n",
            "11/11 [==============================] - 0s 12ms/step - loss: 0.0857 - tp: 0.0000e+00 - fp: 0.0000e+00 - tn: 20450.0000 - fn: 369.0000 - accuracy: 0.9823 - precision: 0.0000e+00 - recall: 0.0000e+00 - auc: 0.6494 - val_loss: 0.0775 - val_tp: 0.0000e+00 - val_fp: 0.0000e+00 - val_tn: 5120.0000 - val_fn: 85.0000 - val_accuracy: 0.9837 - val_precision: 0.0000e+00 - val_recall: 0.0000e+00 - val_auc: 0.7409\n",
            "Epoch 77/100\n",
            "11/11 [==============================] - 0s 13ms/step - loss: 0.0856 - tp: 0.0000e+00 - fp: 0.0000e+00 - tn: 20450.0000 - fn: 369.0000 - accuracy: 0.9823 - precision: 0.0000e+00 - recall: 0.0000e+00 - auc: 0.6362 - val_loss: 0.0775 - val_tp: 0.0000e+00 - val_fp: 0.0000e+00 - val_tn: 5120.0000 - val_fn: 85.0000 - val_accuracy: 0.9837 - val_precision: 0.0000e+00 - val_recall: 0.0000e+00 - val_auc: 0.7409\n",
            "Epoch 78/100\n",
            "11/11 [==============================] - 0s 13ms/step - loss: 0.0859 - tp: 0.0000e+00 - fp: 0.0000e+00 - tn: 20450.0000 - fn: 369.0000 - accuracy: 0.9823 - precision: 0.0000e+00 - recall: 0.0000e+00 - auc: 0.6405 - val_loss: 0.0775 - val_tp: 0.0000e+00 - val_fp: 0.0000e+00 - val_tn: 5120.0000 - val_fn: 85.0000 - val_accuracy: 0.9837 - val_precision: 0.0000e+00 - val_recall: 0.0000e+00 - val_auc: 0.7409\n",
            "Epoch 79/100\n",
            "11/11 [==============================] - 0s 13ms/step - loss: 0.0863 - tp: 0.0000e+00 - fp: 0.0000e+00 - tn: 20450.0000 - fn: 369.0000 - accuracy: 0.9823 - precision: 0.0000e+00 - recall: 0.0000e+00 - auc: 0.6373 - val_loss: 0.0775 - val_tp: 0.0000e+00 - val_fp: 0.0000e+00 - val_tn: 5120.0000 - val_fn: 85.0000 - val_accuracy: 0.9837 - val_precision: 0.0000e+00 - val_recall: 0.0000e+00 - val_auc: 0.7409\n",
            "Epoch 80/100\n",
            "11/11 [==============================] - 0s 12ms/step - loss: 0.0865 - tp: 0.0000e+00 - fp: 0.0000e+00 - tn: 20450.0000 - fn: 369.0000 - accuracy: 0.9823 - precision: 0.0000e+00 - recall: 0.0000e+00 - auc: 0.6315 - val_loss: 0.0776 - val_tp: 0.0000e+00 - val_fp: 0.0000e+00 - val_tn: 5120.0000 - val_fn: 85.0000 - val_accuracy: 0.9837 - val_precision: 0.0000e+00 - val_recall: 0.0000e+00 - val_auc: 0.7407\n",
            "Epoch 81/100\n",
            "11/11 [==============================] - 0s 12ms/step - loss: 0.0864 - tp: 0.0000e+00 - fp: 0.0000e+00 - tn: 20450.0000 - fn: 369.0000 - accuracy: 0.9823 - precision: 0.0000e+00 - recall: 0.0000e+00 - auc: 0.6385 - val_loss: 0.0776 - val_tp: 0.0000e+00 - val_fp: 0.0000e+00 - val_tn: 5120.0000 - val_fn: 85.0000 - val_accuracy: 0.9837 - val_precision: 0.0000e+00 - val_recall: 0.0000e+00 - val_auc: 0.7415\n",
            "Epoch 82/100\n",
            "11/11 [==============================] - 0s 12ms/step - loss: 0.0857 - tp: 0.0000e+00 - fp: 0.0000e+00 - tn: 20450.0000 - fn: 369.0000 - accuracy: 0.9823 - precision: 0.0000e+00 - recall: 0.0000e+00 - auc: 0.6418 - val_loss: 0.0775 - val_tp: 0.0000e+00 - val_fp: 0.0000e+00 - val_tn: 5120.0000 - val_fn: 85.0000 - val_accuracy: 0.9837 - val_precision: 0.0000e+00 - val_recall: 0.0000e+00 - val_auc: 0.7324\n",
            "Epoch 83/100\n",
            "11/11 [==============================] - 0s 12ms/step - loss: 0.0857 - tp: 0.0000e+00 - fp: 0.0000e+00 - tn: 20450.0000 - fn: 369.0000 - accuracy: 0.9823 - precision: 0.0000e+00 - recall: 0.0000e+00 - auc: 0.6456 - val_loss: 0.0775 - val_tp: 0.0000e+00 - val_fp: 0.0000e+00 - val_tn: 5120.0000 - val_fn: 85.0000 - val_accuracy: 0.9837 - val_precision: 0.0000e+00 - val_recall: 0.0000e+00 - val_auc: 0.7340\n",
            "Epoch 84/100\n",
            "11/11 [==============================] - 0s 14ms/step - loss: 0.0856 - tp: 0.0000e+00 - fp: 1.0000 - tn: 20449.0000 - fn: 369.0000 - accuracy: 0.9822 - precision: 0.0000e+00 - recall: 0.0000e+00 - auc: 0.6409 - val_loss: 0.0775 - val_tp: 0.0000e+00 - val_fp: 0.0000e+00 - val_tn: 5120.0000 - val_fn: 85.0000 - val_accuracy: 0.9837 - val_precision: 0.0000e+00 - val_recall: 0.0000e+00 - val_auc: 0.7405\n",
            "Epoch 85/100\n",
            "11/11 [==============================] - 0s 12ms/step - loss: 0.0861 - tp: 0.0000e+00 - fp: 0.0000e+00 - tn: 20450.0000 - fn: 369.0000 - accuracy: 0.9823 - precision: 0.0000e+00 - recall: 0.0000e+00 - auc: 0.6325 - val_loss: 0.0774 - val_tp: 0.0000e+00 - val_fp: 0.0000e+00 - val_tn: 5120.0000 - val_fn: 85.0000 - val_accuracy: 0.9837 - val_precision: 0.0000e+00 - val_recall: 0.0000e+00 - val_auc: 0.7440\n",
            "Epoch 86/100\n",
            "11/11 [==============================] - 0s 12ms/step - loss: 0.0861 - tp: 0.0000e+00 - fp: 0.0000e+00 - tn: 20450.0000 - fn: 369.0000 - accuracy: 0.9823 - precision: 0.0000e+00 - recall: 0.0000e+00 - auc: 0.6435 - val_loss: 0.0774 - val_tp: 0.0000e+00 - val_fp: 0.0000e+00 - val_tn: 5120.0000 - val_fn: 85.0000 - val_accuracy: 0.9837 - val_precision: 0.0000e+00 - val_recall: 0.0000e+00 - val_auc: 0.7352\n",
            "Epoch 87/100\n",
            "11/11 [==============================] - 0s 12ms/step - loss: 0.0861 - tp: 0.0000e+00 - fp: 0.0000e+00 - tn: 20450.0000 - fn: 369.0000 - accuracy: 0.9823 - precision: 0.0000e+00 - recall: 0.0000e+00 - auc: 0.6344 - val_loss: 0.0775 - val_tp: 0.0000e+00 - val_fp: 0.0000e+00 - val_tn: 5120.0000 - val_fn: 85.0000 - val_accuracy: 0.9837 - val_precision: 0.0000e+00 - val_recall: 0.0000e+00 - val_auc: 0.7355\n",
            "Epoch 88/100\n",
            "11/11 [==============================] - 0s 12ms/step - loss: 0.0860 - tp: 0.0000e+00 - fp: 0.0000e+00 - tn: 20450.0000 - fn: 369.0000 - accuracy: 0.9823 - precision: 0.0000e+00 - recall: 0.0000e+00 - auc: 0.6384 - val_loss: 0.0775 - val_tp: 0.0000e+00 - val_fp: 0.0000e+00 - val_tn: 5120.0000 - val_fn: 85.0000 - val_accuracy: 0.9837 - val_precision: 0.0000e+00 - val_recall: 0.0000e+00 - val_auc: 0.7340\n",
            "Epoch 89/100\n",
            "11/11 [==============================] - 0s 12ms/step - loss: 0.0859 - tp: 0.0000e+00 - fp: 0.0000e+00 - tn: 20450.0000 - fn: 369.0000 - accuracy: 0.9823 - precision: 0.0000e+00 - recall: 0.0000e+00 - auc: 0.6408 - val_loss: 0.0775 - val_tp: 0.0000e+00 - val_fp: 0.0000e+00 - val_tn: 5120.0000 - val_fn: 85.0000 - val_accuracy: 0.9837 - val_precision: 0.0000e+00 - val_recall: 0.0000e+00 - val_auc: 0.7428\n",
            "Epoch 90/100\n",
            "11/11 [==============================] - 0s 14ms/step - loss: 0.0860 - tp: 0.0000e+00 - fp: 0.0000e+00 - tn: 20450.0000 - fn: 369.0000 - accuracy: 0.9823 - precision: 0.0000e+00 - recall: 0.0000e+00 - auc: 0.6314 - val_loss: 0.0775 - val_tp: 0.0000e+00 - val_fp: 0.0000e+00 - val_tn: 5120.0000 - val_fn: 85.0000 - val_accuracy: 0.9837 - val_precision: 0.0000e+00 - val_recall: 0.0000e+00 - val_auc: 0.7342\n",
            "Epoch 91/100\n",
            "11/11 [==============================] - 0s 13ms/step - loss: 0.0863 - tp: 0.0000e+00 - fp: 0.0000e+00 - tn: 20450.0000 - fn: 369.0000 - accuracy: 0.9823 - precision: 0.0000e+00 - recall: 0.0000e+00 - auc: 0.6259 - val_loss: 0.0775 - val_tp: 0.0000e+00 - val_fp: 0.0000e+00 - val_tn: 5120.0000 - val_fn: 85.0000 - val_accuracy: 0.9837 - val_precision: 0.0000e+00 - val_recall: 0.0000e+00 - val_auc: 0.7344\n",
            "Epoch 92/100\n",
            "11/11 [==============================] - 0s 12ms/step - loss: 0.0860 - tp: 0.0000e+00 - fp: 0.0000e+00 - tn: 20450.0000 - fn: 369.0000 - accuracy: 0.9823 - precision: 0.0000e+00 - recall: 0.0000e+00 - auc: 0.6232 - val_loss: 0.0775 - val_tp: 0.0000e+00 - val_fp: 0.0000e+00 - val_tn: 5120.0000 - val_fn: 85.0000 - val_accuracy: 0.9837 - val_precision: 0.0000e+00 - val_recall: 0.0000e+00 - val_auc: 0.7344\n",
            "Epoch 93/100\n",
            "11/11 [==============================] - 0s 12ms/step - loss: 0.0856 - tp: 0.0000e+00 - fp: 0.0000e+00 - tn: 20450.0000 - fn: 369.0000 - accuracy: 0.9823 - precision: 0.0000e+00 - recall: 0.0000e+00 - auc: 0.6416 - val_loss: 0.0775 - val_tp: 0.0000e+00 - val_fp: 0.0000e+00 - val_tn: 5120.0000 - val_fn: 85.0000 - val_accuracy: 0.9837 - val_precision: 0.0000e+00 - val_recall: 0.0000e+00 - val_auc: 0.7426\n",
            "Epoch 94/100\n",
            "11/11 [==============================] - 1s 47ms/step - loss: 0.0861 - tp: 0.0000e+00 - fp: 0.0000e+00 - tn: 20450.0000 - fn: 369.0000 - accuracy: 0.9823 - precision: 0.0000e+00 - recall: 0.0000e+00 - auc: 0.6342 - val_loss: 0.0775 - val_tp: 0.0000e+00 - val_fp: 0.0000e+00 - val_tn: 5120.0000 - val_fn: 85.0000 - val_accuracy: 0.9837 - val_precision: 0.0000e+00 - val_recall: 0.0000e+00 - val_auc: 0.7412\n",
            "Epoch 95/100\n",
            "11/11 [==============================] - 0s 12ms/step - loss: 0.0857 - tp: 0.0000e+00 - fp: 0.0000e+00 - tn: 20450.0000 - fn: 369.0000 - accuracy: 0.9823 - precision: 0.0000e+00 - recall: 0.0000e+00 - auc: 0.6357 - val_loss: 0.0775 - val_tp: 0.0000e+00 - val_fp: 0.0000e+00 - val_tn: 5120.0000 - val_fn: 85.0000 - val_accuracy: 0.9837 - val_precision: 0.0000e+00 - val_recall: 0.0000e+00 - val_auc: 0.7430\n",
            "Epoch 96/100\n",
            "11/11 [==============================] - 0s 11ms/step - loss: 0.0860 - tp: 0.0000e+00 - fp: 0.0000e+00 - tn: 20450.0000 - fn: 369.0000 - accuracy: 0.9823 - precision: 0.0000e+00 - recall: 0.0000e+00 - auc: 0.6242 - val_loss: 0.0775 - val_tp: 0.0000e+00 - val_fp: 0.0000e+00 - val_tn: 5120.0000 - val_fn: 85.0000 - val_accuracy: 0.9837 - val_precision: 0.0000e+00 - val_recall: 0.0000e+00 - val_auc: 0.7430\n",
            "Epoch 97/100\n",
            "11/11 [==============================] - 0s 12ms/step - loss: 0.0860 - tp: 0.0000e+00 - fp: 0.0000e+00 - tn: 20450.0000 - fn: 369.0000 - accuracy: 0.9823 - precision: 0.0000e+00 - recall: 0.0000e+00 - auc: 0.6333 - val_loss: 0.0775 - val_tp: 0.0000e+00 - val_fp: 0.0000e+00 - val_tn: 5120.0000 - val_fn: 85.0000 - val_accuracy: 0.9837 - val_precision: 0.0000e+00 - val_recall: 0.0000e+00 - val_auc: 0.7430\n",
            "Epoch 98/100\n",
            "11/11 [==============================] - 0s 11ms/step - loss: 0.0853 - tp: 0.0000e+00 - fp: 1.0000 - tn: 20449.0000 - fn: 369.0000 - accuracy: 0.9822 - precision: 0.0000e+00 - recall: 0.0000e+00 - auc: 0.6529 - val_loss: 0.0775 - val_tp: 0.0000e+00 - val_fp: 0.0000e+00 - val_tn: 5120.0000 - val_fn: 85.0000 - val_accuracy: 0.9837 - val_precision: 0.0000e+00 - val_recall: 0.0000e+00 - val_auc: 0.7430\n",
            "Epoch 99/100\n",
            "11/11 [==============================] - 0s 11ms/step - loss: 0.0854 - tp: 1.0000 - fp: 0.0000e+00 - tn: 20450.0000 - fn: 368.0000 - accuracy: 0.9823 - precision: 1.0000 - recall: 0.0027 - auc: 0.6363 - val_loss: 0.0775 - val_tp: 0.0000e+00 - val_fp: 0.0000e+00 - val_tn: 5120.0000 - val_fn: 85.0000 - val_accuracy: 0.9837 - val_precision: 0.0000e+00 - val_recall: 0.0000e+00 - val_auc: 0.7314\n",
            "Epoch 100/100\n",
            "11/11 [==============================] - 0s 11ms/step - loss: 0.0861 - tp: 0.0000e+00 - fp: 0.0000e+00 - tn: 20450.0000 - fn: 369.0000 - accuracy: 0.9823 - precision: 0.0000e+00 - recall: 0.0000e+00 - auc: 0.6425 - val_loss: 0.0775 - val_tp: 0.0000e+00 - val_fp: 0.0000e+00 - val_tn: 5120.0000 - val_fn: 85.0000 - val_accuracy: 0.9837 - val_precision: 0.0000e+00 - val_recall: 0.0000e+00 - val_auc: 0.7322\n"
          ],
          "name": "stdout"
        }
      ]
    },
    {
      "cell_type": "markdown",
      "metadata": {
        "colab_type": "text",
        "id": "iSaDBYU9xtP6"
      },
      "source": [
        "### Check training history\n",
        "In this section, you will produce plots of your model's accuracy and loss on the training and validation set. These are useful to check for overfitting, which you can learn more about in this [tutorial](https://www.tensorflow.org/tutorials/keras/overfit_and_underfit).\n",
        "\n",
        "Additionally, you can produce these plots for any of the metrics you created above. False negatives are included as an example."
      ]
    },
    {
      "cell_type": "code",
      "metadata": {
        "colab_type": "code",
        "id": "WTSkhT1jyGu6",
        "colab": {}
      },
      "source": [
        "def plot_metrics(history):\n",
        "  metrics =  ['loss', 'auc', 'precision', 'recall']\n",
        "  for n, metric in enumerate(metrics):\n",
        "    name = metric.replace(\"_\",\" \").capitalize()\n",
        "    plt.subplot(2,2,n+1)\n",
        "    plt.plot(history.epoch,  history.history[metric], color=colors[0], label='Train')\n",
        "    plt.plot(history.epoch, history.history['val_'+metric],\n",
        "             color=colors[0], linestyle=\"--\", label='Val')\n",
        "    plt.xlabel('Epoch')\n",
        "    plt.ylabel(name)\n",
        "    if metric == 'loss':\n",
        "      plt.ylim([0, plt.ylim()[1]])\n",
        "    elif metric == 'auc':\n",
        "      plt.ylim([0.8,1])\n",
        "    else:\n",
        "      plt.ylim([0,1])\n",
        "\n",
        "    plt.legend()\n"
      ],
      "execution_count": 72,
      "outputs": []
    },
    {
      "cell_type": "code",
      "metadata": {
        "colab_type": "code",
        "id": "u6LReDsqlZlk",
        "colab": {
          "base_uri": "https://localhost:8080/",
          "height": 609
        },
        "outputId": "2dcabddf-0670-4f61-f362-e72afba8036e"
      },
      "source": [
        "plot_metrics(baseline_history)"
      ],
      "execution_count": 73,
      "outputs": [
        {
          "output_type": "display_data",
          "data": {
            "image/png": "[encoded data removed]",
            "text/plain": [
              "<Figure size 864x720 with 4 Axes>"
            ]
          },
          "metadata": {
            "tags": [],
            "needs_background": "light"
          }
        }
      ]
    },
    {
      "cell_type": "markdown",
      "metadata": {
        "colab_type": "text",
        "id": "UCa4iWo6WDKR"
      },
      "source": [
        "Note: That the validation curve generally performs better than the training curve. This is mainly caused by the fact that the dropout layer is not active when evaluating the model."
      ]
    },
    {
      "cell_type": "markdown",
      "metadata": {
        "colab_type": "text",
        "id": "aJC1booryouo"
      },
      "source": [
        "### Evaluate metrics\n",
        "\n",
        "You can use a [confusion matrix](https://developers.google.com/machine-learning/glossary/#confusion_matrix) to summarize the actual vs. predicted labels where the X axis is the predicted label and the Y axis is the actual label."
      ]
    },
    {
      "cell_type": "code",
      "metadata": {
        "colab_type": "code",
        "id": "aNS796IJKrev",
        "colab": {}
      },
      "source": [
        "train_predictions_baseline = model.predict(train_features, batch_size=BATCH_SIZE)\n",
        "test_predictions_baseline = model.predict(test_features, batch_size=BATCH_SIZE)"
      ],
      "execution_count": 74,
      "outputs": []
    },
    {
      "cell_type": "code",
      "metadata": {
        "colab_type": "code",
        "id": "MVWBGfADwbWI",
        "colab": {}
      },
      "source": [
        "def plot_cm(labels, predictions, p=0.5):\n",
        "  cm = confusion_matrix(labels, predictions > p)\n",
        "  plt.figure(figsize=(5,5))\n",
        "  sns.heatmap(cm, annot=True, fmt=\"d\")\n",
        "  plt.title('Confusion matrix @{:.2f}'.format(p))\n",
        "  plt.ylabel('Actual label')\n",
        "  plt.xlabel('Predicted label')\n",
        "\n",
        "  print('Legitimate Transactions Detected (True Negatives): ', cm[0][0])\n",
        "  print('Legitimate Transactions Incorrectly Detected (False Positives): ', cm[0][1])\n",
        "  print('Fraudulent Transactions Missed (False Negatives): ', cm[1][0])\n",
        "  print('Fraudulent Transactions Detected (True Positives): ', cm[1][1])\n",
        "  print('Total Fraudulent Transactions: ', np.sum(cm[1]))"
      ],
      "execution_count": 75,
      "outputs": []
    },
    {
      "cell_type": "markdown",
      "metadata": {
        "colab_type": "text",
        "id": "nOTjD5Z5Wp1U"
      },
      "source": [
        "Evaluate your model on the test dataset and display the results for the metrics you created above."
      ]
    },
    {
      "cell_type": "code",
      "metadata": {
        "colab_type": "code",
        "id": "poh_hZngt2_9",
        "colab": {
          "base_uri": "https://localhost:8080/",
          "height": 602
        },
        "outputId": "97fced6c-ec79-4c54-c064-d9d6dfdbf5be"
      },
      "source": [
        "baseline_results = model.evaluate(test_features, test_labels,\n",
        "                                  batch_size=BATCH_SIZE, verbose=0)\n",
        "for name, value in zip(model.metrics_names, baseline_results):\n",
        "  print(name, ': ', value)\n",
        "print()\n",
        "\n",
        "plot_cm(test_labels, test_predictions_baseline)"
      ],
      "execution_count": 76,
      "outputs": [
        {
          "output_type": "stream",
          "text": [
            "loss :  0.0882696658372879\n",
            "tp :  0.0\n",
            "fp :  0.0\n",
            "tn :  6386.0\n",
            "fn :  121.0\n",
            "accuracy :  0.9814046621322632\n",
            "precision :  0.0\n",
            "recall :  0.0\n",
            "auc :  0.6504918932914734\n",
            "\n",
            "Legitimate Transactions Detected (True Negatives):  6386\n",
            "Legitimate Transactions Incorrectly Detected (False Positives):  0\n",
            "Fraudulent Transactions Missed (False Negatives):  121\n",
            "Fraudulent Transactions Detected (True Positives):  0\n",
            "Total Fraudulent Transactions:  121\n"
          ],
          "name": "stdout"
        },
        {
          "output_type": "display_data",
          "data": {
            "image/png": "[encoded data removed]",
            "text/plain": [
              "<Figure size 360x360 with 2 Axes>"
            ]
          },
          "metadata": {
            "tags": [],
            "needs_background": "light"
          }
        }
      ]
    },
    {
      "cell_type": "markdown",
      "metadata": {
        "colab_type": "text",
        "id": "PyZtSr1v6L4t"
      },
      "source": [
        "If the model had predicted everything perfectly, this would be a [diagonal matrix](https://en.wikipedia.org/wiki/Diagonal_matrix) where values off the main diagonal, indicating incorrect predictions, would be zero. In this case the matrix shows that you have relatively few false positives, meaning that there were relatively few legitimate transactions that were incorrectly flagged. However, you would likely want to have even fewer false negatives despite the cost of increasing the number of false positives. This trade off may be preferable because false negatives would allow fraudulent transactions to go through, whereas false positives may cause an email to be sent to a customer to ask them to verify their card activity."
      ]
    },
    {
      "cell_type": "markdown",
      "metadata": {
        "colab_type": "text",
        "id": "P-QpQsip_F2Q"
      },
      "source": [
        "### Plot the ROC\n",
        "\n",
        "Now plot the [ROC](https://developers.google.com/machine-learning/glossary#ROC). This plot is useful because it shows, at a glance, the range of performance the model can reach just by tuning the output threshold."
      ]
    },
    {
      "cell_type": "code",
      "metadata": {
        "colab_type": "code",
        "id": "lhaxsLSvANF9",
        "colab": {}
      },
      "source": [
        "def plot_roc(name, labels, predictions, **kwargs):\n",
        "  fp, tp, _ = sklearn.metrics.roc_curve(labels, predictions)\n",
        "\n",
        "  plt.plot(100*fp, 100*tp, label=name, linewidth=2, **kwargs)\n",
        "  plt.xlabel('False positives [%]')\n",
        "  plt.ylabel('True positives [%]')\n",
        "  plt.xlim([-0.5,20])\n",
        "  plt.ylim([80,100.5])\n",
        "  plt.grid(True)\n",
        "  ax = plt.gca()\n",
        "  ax.set_aspect('equal')"
      ],
      "execution_count": 77,
      "outputs": []
    },
    {
      "cell_type": "code",
      "metadata": {
        "colab_type": "code",
        "id": "DfHHspttKJE0",
        "colab": {
          "base_uri": "https://localhost:8080/",
          "height": 623
        },
        "outputId": "05385789-edc3-45ab-c293-19fc02adf9ff"
      },
      "source": [
        "plot_roc(\"Train Baseline\", train_labels, train_predictions_baseline, color=colors[0])\n",
        "plot_roc(\"Test Baseline\", test_labels, test_predictions_baseline, color=colors[0], linestyle='--')\n",
        "plt.legend(loc='lower right')"
      ],
      "execution_count": 79,
      "outputs": [
        {
          "output_type": "execute_result",
          "data": {
            "text/plain": [
              "<matplotlib.legend.Legend at 0x7efedef0ebe0>"
            ]
          },
          "metadata": {
            "tags": []
          },
          "execution_count": 79
        },
        {
          "output_type": "display_data",
          "data": {
            "image/png": "[encoded data removed]",
            "text/plain": [
              "<Figure size 864x720 with 1 Axes>"
            ]
          },
          "metadata": {
            "tags": [],
            "needs_background": "light"
          }
        }
      ]
    },
    {
      "cell_type": "markdown",
      "metadata": {
        "colab_type": "text",
        "id": "gpdsFyp64DhY"
      },
      "source": [
        "It looks like the precision is relatively high, but the recall and the area under the ROC curve (AUC) aren't as high as you might like. Classifiers often face challenges when trying to maximize both precision and recall, which is especially true when working with imbalanced datasets. It is important to consider the costs of different types of errors in the context of the problem you care about. In this example, a false negative (a fraudulent transaction is missed) may have a financial cost, while a false positive (a transaction is incorrectly flagged as fraudulent) may decrease user happiness."
      ]
    },
    {
      "cell_type": "markdown",
      "metadata": {
        "colab_type": "text",
        "id": "cveQoiMyGQCo"
      },
      "source": [
        "## Class weights"
      ]
    },
    {
      "cell_type": "markdown",
      "metadata": {
        "colab_type": "text",
        "id": "ePGp6GUE1WfH"
      },
      "source": [
        "### Calculate class weights\n",
        "\n",
        "The goal is to identify fraudulent transactions, but you don't have very many of those positive samples to work with, so you would want to have the classifier heavily weight the few examples that are available. You can do this by passing Keras weights for each class through a parameter. These will cause the model to \"pay more attention\" to examples from an under-represented class."
      ]
    },
    {
      "cell_type": "code",
      "metadata": {
        "colab_type": "code",
        "id": "qjGWErngGny7",
        "colab": {
          "base_uri": "https://localhost:8080/",
          "height": 50
        },
        "outputId": "c8054555-1038-45c0-9163-0ee552b9493e"
      },
      "source": [
        "# Scaling by total/2 helps keep the loss to a similar magnitude.\n",
        "# The sum of the weights of all examples stays the same.\n",
        "weight_for_0 = (1 / neg)*(total)/2.0 \n",
        "weight_for_1 = (1 / pos)*(total)/2.0\n",
        "\n",
        "class_weight = {0: weight_for_0, 1: weight_for_1}\n",
        "\n",
        "print('Weight for class 0: {:.2f}'.format(weight_for_0))\n",
        "print('Weight for class 1: {:.2f}'.format(weight_for_1))"
      ],
      "execution_count": 80,
      "outputs": [
        {
          "output_type": "stream",
          "text": [
            "Weight for class 0: 0.51\n",
            "Weight for class 1: 28.29\n"
          ],
          "name": "stdout"
        }
      ]
    },
    {
      "cell_type": "markdown",
      "metadata": {
        "colab_type": "text",
        "id": "Mk1OOE2ZSHzy"
      },
      "source": [
        "### Train a model with class weights\n",
        "\n",
        "Now try re-training and evaluating the model with class weights to see how that affects the predictions.\n",
        "\n",
        "Note: Using `class_weights` changes the range of the loss. This may affect the stability of the training depending on the optimizer. Optimizers whose step size is dependent on the magnitude of the gradient, like `optimizers.SGD`, may fail. The optimizer used here, `optimizers.Adam`, is unaffected by the scaling change. Also note that because of the weighting, the total losses are not comparable between the two models."
      ]
    },
    {
      "cell_type": "code",
      "metadata": {
        "colab_type": "code",
        "id": "UJ589fn8ST3x",
        "colab": {
          "base_uri": "https://localhost:8080/",
          "height": 1000
        },
        "outputId": "bfc0cc6f-7eb3-41f7-9b14-7e804dc67448"
      },
      "source": [
        "weighted_model = make_model()\n",
        "weighted_model.load_weights(initial_weights)\n",
        "\n",
        "weighted_history = weighted_model.fit(\n",
        "    train_features,\n",
        "    train_labels,\n",
        "    batch_size=BATCH_SIZE,\n",
        "    epochs=EPOCHS,\n",
        "    callbacks = [early_stopping],\n",
        "    validation_data=(val_features, val_labels),\n",
        "    # The class weights go here\n",
        "    class_weight=class_weight) "
      ],
      "execution_count": 81,
      "outputs": [
        {
          "output_type": "stream",
          "text": [
            "Epoch 1/100\n",
            "11/11 [==============================] - 1s 85ms/step - loss: 2.1244 - tp: 1.0000 - fp: 2.0000 - tn: 26834.0000 - fn: 489.0000 - accuracy: 0.9820 - precision: 0.3333 - recall: 0.0020 - auc: 0.5137 - val_loss: 0.0854 - val_tp: 0.0000e+00 - val_fp: 0.0000e+00 - val_tn: 5120.0000 - val_fn: 85.0000 - val_accuracy: 0.9837 - val_precision: 0.0000e+00 - val_recall: 0.0000e+00 - val_auc: 0.4201\n",
            "Epoch 2/100\n",
            "11/11 [==============================] - 0s 12ms/step - loss: 2.0519 - tp: 0.0000e+00 - fp: 2.0000 - tn: 20448.0000 - fn: 369.0000 - accuracy: 0.9822 - precision: 0.0000e+00 - recall: 0.0000e+00 - auc: 0.5032 - val_loss: 0.0847 - val_tp: 0.0000e+00 - val_fp: 0.0000e+00 - val_tn: 5120.0000 - val_fn: 85.0000 - val_accuracy: 0.9837 - val_precision: 0.0000e+00 - val_recall: 0.0000e+00 - val_auc: 0.4821\n",
            "Epoch 3/100\n",
            "11/11 [==============================] - 0s 13ms/step - loss: 1.9744 - tp: 1.0000 - fp: 8.0000 - tn: 20442.0000 - fn: 368.0000 - accuracy: 0.9819 - precision: 0.1111 - recall: 0.0027 - auc: 0.5315 - val_loss: 0.0843 - val_tp: 0.0000e+00 - val_fp: 0.0000e+00 - val_tn: 5120.0000 - val_fn: 85.0000 - val_accuracy: 0.9837 - val_precision: 0.0000e+00 - val_recall: 0.0000e+00 - val_auc: 0.5141\n",
            "Epoch 4/100\n",
            "11/11 [==============================] - 0s 11ms/step - loss: 1.8938 - tp: 1.0000 - fp: 14.0000 - tn: 20436.0000 - fn: 368.0000 - accuracy: 0.9817 - precision: 0.0667 - recall: 0.0027 - auc: 0.5319 - val_loss: 0.0841 - val_tp: 0.0000e+00 - val_fp: 0.0000e+00 - val_tn: 5120.0000 - val_fn: 85.0000 - val_accuracy: 0.9837 - val_precision: 0.0000e+00 - val_recall: 0.0000e+00 - val_auc: 0.5551\n",
            "Epoch 5/100\n",
            "11/11 [==============================] - 0s 11ms/step - loss: 1.8611 - tp: 4.0000 - fp: 18.0000 - tn: 20432.0000 - fn: 365.0000 - accuracy: 0.9816 - precision: 0.1818 - recall: 0.0108 - auc: 0.5156 - val_loss: 0.0843 - val_tp: 0.0000e+00 - val_fp: 0.0000e+00 - val_tn: 5120.0000 - val_fn: 85.0000 - val_accuracy: 0.9837 - val_precision: 0.0000e+00 - val_recall: 0.0000e+00 - val_auc: 0.6176\n",
            "Epoch 6/100\n",
            "11/11 [==============================] - 0s 11ms/step - loss: 1.8209 - tp: 1.0000 - fp: 31.0000 - tn: 20419.0000 - fn: 368.0000 - accuracy: 0.9808 - precision: 0.0312 - recall: 0.0027 - auc: 0.5212 - val_loss: 0.0848 - val_tp: 0.0000e+00 - val_fp: 0.0000e+00 - val_tn: 5120.0000 - val_fn: 85.0000 - val_accuracy: 0.9837 - val_precision: 0.0000e+00 - val_recall: 0.0000e+00 - val_auc: 0.6701\n",
            "Epoch 7/100\n",
            "11/11 [==============================] - 0s 11ms/step - loss: 1.7114 - tp: 3.0000 - fp: 51.0000 - tn: 20399.0000 - fn: 366.0000 - accuracy: 0.9800 - precision: 0.0556 - recall: 0.0081 - auc: 0.5814 - val_loss: 0.0858 - val_tp: 0.0000e+00 - val_fp: 0.0000e+00 - val_tn: 5120.0000 - val_fn: 85.0000 - val_accuracy: 0.9837 - val_precision: 0.0000e+00 - val_recall: 0.0000e+00 - val_auc: 0.6841\n",
            "Epoch 8/100\n",
            "11/11 [==============================] - 0s 12ms/step - loss: 1.6952 - tp: 3.0000 - fp: 76.0000 - tn: 20374.0000 - fn: 366.0000 - accuracy: 0.9788 - precision: 0.0380 - recall: 0.0081 - auc: 0.5450 - val_loss: 0.0874 - val_tp: 0.0000e+00 - val_fp: 0.0000e+00 - val_tn: 5120.0000 - val_fn: 85.0000 - val_accuracy: 0.9837 - val_precision: 0.0000e+00 - val_recall: 0.0000e+00 - val_auc: 0.7173\n",
            "Epoch 9/100\n",
            "11/11 [==============================] - 0s 12ms/step - loss: 1.6114 - tp: 6.0000 - fp: 91.0000 - tn: 20359.0000 - fn: 363.0000 - accuracy: 0.9782 - precision: 0.0619 - recall: 0.0163 - auc: 0.5697 - val_loss: 0.0894 - val_tp: 0.0000e+00 - val_fp: 0.0000e+00 - val_tn: 5120.0000 - val_fn: 85.0000 - val_accuracy: 0.9837 - val_precision: 0.0000e+00 - val_recall: 0.0000e+00 - val_auc: 0.7267\n",
            "Epoch 10/100\n",
            "11/11 [==============================] - 0s 14ms/step - loss: 1.5625 - tp: 10.0000 - fp: 120.0000 - tn: 20330.0000 - fn: 359.0000 - accuracy: 0.9770 - precision: 0.0769 - recall: 0.0271 - auc: 0.5748 - val_loss: 0.0921 - val_tp: 0.0000e+00 - val_fp: 0.0000e+00 - val_tn: 5120.0000 - val_fn: 85.0000 - val_accuracy: 0.9837 - val_precision: 0.0000e+00 - val_recall: 0.0000e+00 - val_auc: 0.7202\n",
            "Epoch 11/100\n",
            "11/11 [==============================] - 0s 11ms/step - loss: 1.5041 - tp: 10.0000 - fp: 168.0000 - tn: 20282.0000 - fn: 359.0000 - accuracy: 0.9747 - precision: 0.0562 - recall: 0.0271 - auc: 0.5854 - val_loss: 0.0954 - val_tp: 0.0000e+00 - val_fp: 1.0000 - val_tn: 5119.0000 - val_fn: 85.0000 - val_accuracy: 0.9835 - val_precision: 0.0000e+00 - val_recall: 0.0000e+00 - val_auc: 0.7334\n",
            "Epoch 12/100\n",
            "11/11 [==============================] - 0s 11ms/step - loss: 1.4972 - tp: 12.0000 - fp: 213.0000 - tn: 20237.0000 - fn: 357.0000 - accuracy: 0.9726 - precision: 0.0533 - recall: 0.0325 - auc: 0.5611 - val_loss: 0.0997 - val_tp: 0.0000e+00 - val_fp: 3.0000 - val_tn: 5117.0000 - val_fn: 85.0000 - val_accuracy: 0.9831 - val_precision: 0.0000e+00 - val_recall: 0.0000e+00 - val_auc: 0.7390\n",
            "Epoch 13/100\n",
            "11/11 [==============================] - 0s 12ms/step - loss: 1.4200 - tp: 22.0000 - fp: 273.0000 - tn: 20177.0000 - fn: 347.0000 - accuracy: 0.9702 - precision: 0.0746 - recall: 0.0596 - auc: 0.5668 - val_loss: 0.1049 - val_tp: 0.0000e+00 - val_fp: 5.0000 - val_tn: 5115.0000 - val_fn: 85.0000 - val_accuracy: 0.9827 - val_precision: 0.0000e+00 - val_recall: 0.0000e+00 - val_auc: 0.7447\n",
            "Epoch 14/100\n",
            "11/11 [==============================] - 0s 11ms/step - loss: 1.3615 - tp: 23.0000 - fp: 365.0000 - tn: 20085.0000 - fn: 346.0000 - accuracy: 0.9658 - precision: 0.0593 - recall: 0.0623 - auc: 0.5817 - val_loss: 0.1113 - val_tp: 0.0000e+00 - val_fp: 12.0000 - val_tn: 5108.0000 - val_fn: 85.0000 - val_accuracy: 0.9814 - val_precision: 0.0000e+00 - val_recall: 0.0000e+00 - val_auc: 0.7477\n",
            "Epoch 15/100\n",
            "11/11 [==============================] - 0s 12ms/step - loss: 1.3372 - tp: 25.0000 - fp: 469.0000 - tn: 19981.0000 - fn: 344.0000 - accuracy: 0.9609 - precision: 0.0506 - recall: 0.0678 - auc: 0.5809 - val_loss: 0.1184 - val_tp: 1.0000 - val_fp: 24.0000 - val_tn: 5096.0000 - val_fn: 84.0000 - val_accuracy: 0.9793 - val_precision: 0.0400 - val_recall: 0.0118 - val_auc: 0.7446\n",
            "Epoch 16/100\n",
            "11/11 [==============================] - 0s 12ms/step - loss: 1.2455 - tp: 31.0000 - fp: 556.0000 - tn: 19894.0000 - fn: 338.0000 - accuracy: 0.9571 - precision: 0.0528 - recall: 0.0840 - auc: 0.6106 - val_loss: 0.1271 - val_tp: 1.0000 - val_fp: 37.0000 - val_tn: 5083.0000 - val_fn: 84.0000 - val_accuracy: 0.9768 - val_precision: 0.0263 - val_recall: 0.0118 - val_auc: 0.7449\n",
            "Epoch 17/100\n",
            "11/11 [==============================] - 0s 13ms/step - loss: 1.2292 - tp: 41.0000 - fp: 677.0000 - tn: 19773.0000 - fn: 328.0000 - accuracy: 0.9517 - precision: 0.0571 - recall: 0.1111 - auc: 0.5887 - val_loss: 0.1369 - val_tp: 2.0000 - val_fp: 40.0000 - val_tn: 5080.0000 - val_fn: 83.0000 - val_accuracy: 0.9764 - val_precision: 0.0476 - val_recall: 0.0235 - val_auc: 0.7436\n",
            "Epoch 18/100\n",
            "11/11 [==============================] - 0s 12ms/step - loss: 1.1998 - tp: 47.0000 - fp: 799.0000 - tn: 19651.0000 - fn: 322.0000 - accuracy: 0.9462 - precision: 0.0556 - recall: 0.1274 - auc: 0.5858 - val_loss: 0.1467 - val_tp: 7.0000 - val_fp: 86.0000 - val_tn: 5034.0000 - val_fn: 78.0000 - val_accuracy: 0.9685 - val_precision: 0.0753 - val_recall: 0.0824 - val_auc: 0.7430\n",
            "Epoch 19/100\n",
            "11/11 [==============================] - 0s 12ms/step - loss: 1.1866 - tp: 40.0000 - fp: 938.0000 - tn: 19512.0000 - fn: 329.0000 - accuracy: 0.9391 - precision: 0.0409 - recall: 0.1084 - auc: 0.5818 - val_loss: 0.1575 - val_tp: 10.0000 - val_fp: 96.0000 - val_tn: 5024.0000 - val_fn: 75.0000 - val_accuracy: 0.9671 - val_precision: 0.0943 - val_recall: 0.1176 - val_auc: 0.7472\n",
            "Epoch 20/100\n",
            "11/11 [==============================] - 0s 11ms/step - loss: 1.1191 - tp: 51.0000 - fp: 1116.0000 - tn: 19334.0000 - fn: 318.0000 - accuracy: 0.9311 - precision: 0.0437 - recall: 0.1382 - auc: 0.6095 - val_loss: 0.1696 - val_tp: 12.0000 - val_fp: 122.0000 - val_tn: 4998.0000 - val_fn: 73.0000 - val_accuracy: 0.9625 - val_precision: 0.0896 - val_recall: 0.1412 - val_auc: 0.7476\n",
            "Epoch 21/100\n",
            "11/11 [==============================] - 0s 12ms/step - loss: 1.0817 - tp: 61.0000 - fp: 1249.0000 - tn: 19201.0000 - fn: 308.0000 - accuracy: 0.9252 - precision: 0.0466 - recall: 0.1653 - auc: 0.6062 - val_loss: 0.1817 - val_tp: 12.0000 - val_fp: 138.0000 - val_tn: 4982.0000 - val_fn: 73.0000 - val_accuracy: 0.9595 - val_precision: 0.0800 - val_recall: 0.1412 - val_auc: 0.7473\n",
            "Epoch 22/100\n",
            "11/11 [==============================] - 0s 12ms/step - loss: 1.1020 - tp: 68.0000 - fp: 1472.0000 - tn: 18978.0000 - fn: 301.0000 - accuracy: 0.9148 - precision: 0.0442 - recall: 0.1843 - auc: 0.5758 - val_loss: 0.1950 - val_tp: 12.0000 - val_fp: 167.0000 - val_tn: 4953.0000 - val_fn: 73.0000 - val_accuracy: 0.9539 - val_precision: 0.0670 - val_recall: 0.1412 - val_auc: 0.7461\n",
            "Epoch 23/100\n",
            "11/11 [==============================] - 0s 12ms/step - loss: 1.0846 - tp: 66.0000 - fp: 1597.0000 - tn: 18853.0000 - fn: 303.0000 - accuracy: 0.9087 - precision: 0.0397 - recall: 0.1789 - auc: 0.5821 - val_loss: 0.2082 - val_tp: 16.0000 - val_fp: 225.0000 - val_tn: 4895.0000 - val_fn: 69.0000 - val_accuracy: 0.9435 - val_precision: 0.0664 - val_recall: 0.1882 - val_auc: 0.7487\n",
            "Epoch 24/100\n",
            "11/11 [==============================] - 0s 13ms/step - loss: 1.0159 - tp: 79.0000 - fp: 1699.0000 - tn: 18751.0000 - fn: 290.0000 - accuracy: 0.9045 - precision: 0.0444 - recall: 0.2141 - auc: 0.6060 - val_loss: 0.2215 - val_tp: 16.0000 - val_fp: 225.0000 - val_tn: 4895.0000 - val_fn: 69.0000 - val_accuracy: 0.9435 - val_precision: 0.0664 - val_recall: 0.1882 - val_auc: 0.7460\n",
            "Epoch 25/100\n",
            "11/11 [==============================] - 0s 13ms/step - loss: 1.0231 - tp: 78.0000 - fp: 1833.0000 - tn: 18617.0000 - fn: 291.0000 - accuracy: 0.8980 - precision: 0.0408 - recall: 0.2114 - auc: 0.5945 - val_loss: 0.2353 - val_tp: 20.0000 - val_fp: 271.0000 - val_tn: 4849.0000 - val_fn: 65.0000 - val_accuracy: 0.9354 - val_precision: 0.0687 - val_recall: 0.2353 - val_auc: 0.7498\n",
            "Epoch 26/100\n",
            "11/11 [==============================] - 0s 12ms/step - loss: 0.9738 - tp: 85.0000 - fp: 2096.0000 - tn: 18354.0000 - fn: 284.0000 - accuracy: 0.8857 - precision: 0.0390 - recall: 0.2304 - auc: 0.6102 - val_loss: 0.2501 - val_tp: 29.0000 - val_fp: 358.0000 - val_tn: 4762.0000 - val_fn: 56.0000 - val_accuracy: 0.9205 - val_precision: 0.0749 - val_recall: 0.3412 - val_auc: 0.7508\n",
            "Epoch 27/100\n",
            "11/11 [==============================] - 0s 12ms/step - loss: 0.9978 - tp: 95.0000 - fp: 2380.0000 - tn: 18070.0000 - fn: 274.0000 - accuracy: 0.8725 - precision: 0.0384 - recall: 0.2575 - auc: 0.5867 - val_loss: 0.2638 - val_tp: 29.0000 - val_fp: 358.0000 - val_tn: 4762.0000 - val_fn: 56.0000 - val_accuracy: 0.9205 - val_precision: 0.0749 - val_recall: 0.3412 - val_auc: 0.7523\n",
            "Epoch 28/100\n",
            "11/11 [==============================] - 0s 13ms/step - loss: 0.9991 - tp: 87.0000 - fp: 2527.0000 - tn: 17923.0000 - fn: 282.0000 - accuracy: 0.8651 - precision: 0.0333 - recall: 0.2358 - auc: 0.5822 - val_loss: 0.2780 - val_tp: 29.0000 - val_fp: 367.0000 - val_tn: 4753.0000 - val_fn: 56.0000 - val_accuracy: 0.9187 - val_precision: 0.0732 - val_recall: 0.3412 - val_auc: 0.7525\n",
            "Epoch 29/100\n",
            "11/11 [==============================] - 0s 12ms/step - loss: 0.9582 - tp: 96.0000 - fp: 2732.0000 - tn: 17718.0000 - fn: 273.0000 - accuracy: 0.8557 - precision: 0.0339 - recall: 0.2602 - auc: 0.5984 - val_loss: 0.2943 - val_tp: 30.0000 - val_fp: 385.0000 - val_tn: 4735.0000 - val_fn: 55.0000 - val_accuracy: 0.9155 - val_precision: 0.0723 - val_recall: 0.3529 - val_auc: 0.7533\n",
            "Epoch 30/100\n",
            "11/11 [==============================] - 0s 12ms/step - loss: 0.9327 - tp: 105.0000 - fp: 2929.0000 - tn: 17521.0000 - fn: 264.0000 - accuracy: 0.8466 - precision: 0.0346 - recall: 0.2846 - auc: 0.6076 - val_loss: 0.3092 - val_tp: 30.0000 - val_fp: 385.0000 - val_tn: 4735.0000 - val_fn: 55.0000 - val_accuracy: 0.9155 - val_precision: 0.0723 - val_recall: 0.3529 - val_auc: 0.7538\n",
            "Epoch 31/100\n",
            "11/11 [==============================] - 0s 13ms/step - loss: 0.9645 - tp: 107.0000 - fp: 3224.0000 - tn: 17226.0000 - fn: 262.0000 - accuracy: 0.8326 - precision: 0.0321 - recall: 0.2900 - auc: 0.5832 - val_loss: 0.3232 - val_tp: 39.0000 - val_fp: 647.0000 - val_tn: 4473.0000 - val_fn: 46.0000 - val_accuracy: 0.8669 - val_precision: 0.0569 - val_recall: 0.4588 - val_auc: 0.7538\n",
            "Epoch 32/100\n",
            "11/11 [==============================] - 0s 12ms/step - loss: 0.9006 - tp: 124.0000 - fp: 3401.0000 - tn: 17049.0000 - fn: 245.0000 - accuracy: 0.8249 - precision: 0.0352 - recall: 0.3360 - auc: 0.6129 - val_loss: 0.3338 - val_tp: 39.0000 - val_fp: 647.0000 - val_tn: 4473.0000 - val_fn: 46.0000 - val_accuracy: 0.8669 - val_precision: 0.0569 - val_recall: 0.4588 - val_auc: 0.7558\n",
            "Epoch 33/100\n",
            "11/11 [==============================] - 0s 12ms/step - loss: 0.9386 - tp: 114.0000 - fp: 3538.0000 - tn: 16912.0000 - fn: 255.0000 - accuracy: 0.8178 - precision: 0.0312 - recall: 0.3089 - auc: 0.5876 - val_loss: 0.3457 - val_tp: 39.0000 - val_fp: 647.0000 - val_tn: 4473.0000 - val_fn: 46.0000 - val_accuracy: 0.8669 - val_precision: 0.0569 - val_recall: 0.4588 - val_auc: 0.7550\n",
            "Epoch 34/100\n",
            "11/11 [==============================] - 0s 12ms/step - loss: 0.9366 - tp: 119.0000 - fp: 3760.0000 - tn: 16690.0000 - fn: 250.0000 - accuracy: 0.8074 - precision: 0.0307 - recall: 0.3225 - auc: 0.5853 - val_loss: 0.3551 - val_tp: 39.0000 - val_fp: 647.0000 - val_tn: 4473.0000 - val_fn: 46.0000 - val_accuracy: 0.8669 - val_precision: 0.0569 - val_recall: 0.4588 - val_auc: 0.7563\n",
            "Epoch 35/100\n",
            "11/11 [==============================] - 0s 14ms/step - loss: 0.8931 - tp: 132.0000 - fp: 3972.0000 - tn: 16478.0000 - fn: 237.0000 - accuracy: 0.7978 - precision: 0.0322 - recall: 0.3577 - auc: 0.6056 - val_loss: 0.3671 - val_tp: 39.0000 - val_fp: 647.0000 - val_tn: 4473.0000 - val_fn: 46.0000 - val_accuracy: 0.8669 - val_precision: 0.0569 - val_recall: 0.4588 - val_auc: 0.7549\n",
            "Epoch 36/100\n",
            "11/11 [==============================] - 0s 12ms/step - loss: 0.9004 - tp: 129.0000 - fp: 4221.0000 - tn: 16229.0000 - fn: 240.0000 - accuracy: 0.7857 - precision: 0.0297 - recall: 0.3496 - auc: 0.6021 - val_loss: 0.3757 - val_tp: 39.0000 - val_fp: 647.0000 - val_tn: 4473.0000 - val_fn: 46.0000 - val_accuracy: 0.8669 - val_precision: 0.0569 - val_recall: 0.4588 - val_auc: 0.7572\n",
            "Epoch 37/100\n",
            "11/11 [==============================] - 0s 13ms/step - loss: 0.8809 - tp: 145.0000 - fp: 4349.0000 - tn: 16101.0000 - fn: 224.0000 - accuracy: 0.7803 - precision: 0.0323 - recall: 0.3930 - auc: 0.6096 - val_loss: 0.3837 - val_tp: 39.0000 - val_fp: 647.0000 - val_tn: 4473.0000 - val_fn: 46.0000 - val_accuracy: 0.8669 - val_precision: 0.0569 - val_recall: 0.4588 - val_auc: 0.7573\n",
            "Epoch 38/100\n",
            "11/11 [==============================] - 0s 11ms/step - loss: 0.9001 - tp: 132.0000 - fp: 4558.0000 - tn: 15892.0000 - fn: 237.0000 - accuracy: 0.7697 - precision: 0.0281 - recall: 0.3577 - auc: 0.5946 - val_loss: 0.3909 - val_tp: 39.0000 - val_fp: 647.0000 - val_tn: 4473.0000 - val_fn: 46.0000 - val_accuracy: 0.8669 - val_precision: 0.0569 - val_recall: 0.4588 - val_auc: 0.7552\n",
            "Epoch 39/100\n",
            "11/11 [==============================] - 0s 12ms/step - loss: 0.9043 - tp: 129.0000 - fp: 4537.0000 - tn: 15913.0000 - fn: 240.0000 - accuracy: 0.7705 - precision: 0.0276 - recall: 0.3496 - auc: 0.5942 - val_loss: 0.3975 - val_tp: 39.0000 - val_fp: 647.0000 - val_tn: 4473.0000 - val_fn: 46.0000 - val_accuracy: 0.8669 - val_precision: 0.0569 - val_recall: 0.4588 - val_auc: 0.7555\n",
            "Epoch 40/100\n",
            "11/11 [==============================] - 0s 12ms/step - loss: 0.8874 - tp: 144.0000 - fp: 4759.0000 - tn: 15691.0000 - fn: 225.0000 - accuracy: 0.7606 - precision: 0.0294 - recall: 0.3902 - auc: 0.5987 - val_loss: 0.4020 - val_tp: 39.0000 - val_fp: 647.0000 - val_tn: 4473.0000 - val_fn: 46.0000 - val_accuracy: 0.8669 - val_precision: 0.0569 - val_recall: 0.4588 - val_auc: 0.7568\n",
            "Epoch 41/100\n",
            "11/11 [==============================] - 0s 12ms/step - loss: 0.9196 - tp: 136.0000 - fp: 4837.0000 - tn: 15613.0000 - fn: 233.0000 - accuracy: 0.7565 - precision: 0.0273 - recall: 0.3686 - auc: 0.5760 - val_loss: 0.4073 - val_tp: 39.0000 - val_fp: 647.0000 - val_tn: 4473.0000 - val_fn: 46.0000 - val_accuracy: 0.8669 - val_precision: 0.0569 - val_recall: 0.4588 - val_auc: 0.7567\n",
            "Epoch 42/100\n",
            "11/11 [==============================] - 0s 12ms/step - loss: 0.8921 - tp: 135.0000 - fp: 4837.0000 - tn: 15613.0000 - fn: 234.0000 - accuracy: 0.7564 - precision: 0.0272 - recall: 0.3659 - auc: 0.5919 - val_loss: 0.4126 - val_tp: 39.0000 - val_fp: 647.0000 - val_tn: 4473.0000 - val_fn: 46.0000 - val_accuracy: 0.8669 - val_precision: 0.0569 - val_recall: 0.4588 - val_auc: 0.7575\n",
            "Epoch 43/100\n",
            "11/11 [==============================] - 0s 13ms/step - loss: 0.9131 - tp: 132.0000 - fp: 4831.0000 - tn: 15619.0000 - fn: 237.0000 - accuracy: 0.7566 - precision: 0.0266 - recall: 0.3577 - auc: 0.5771 - val_loss: 0.4197 - val_tp: 39.0000 - val_fp: 647.0000 - val_tn: 4473.0000 - val_fn: 46.0000 - val_accuracy: 0.8669 - val_precision: 0.0569 - val_recall: 0.4588 - val_auc: 0.7590\n",
            "Epoch 44/100\n",
            "11/11 [==============================] - 0s 13ms/step - loss: 0.8822 - tp: 143.0000 - fp: 5093.0000 - tn: 15357.0000 - fn: 226.0000 - accuracy: 0.7445 - precision: 0.0273 - recall: 0.3875 - auc: 0.5949 - val_loss: 0.4253 - val_tp: 39.0000 - val_fp: 647.0000 - val_tn: 4473.0000 - val_fn: 46.0000 - val_accuracy: 0.8669 - val_precision: 0.0569 - val_recall: 0.4588 - val_auc: 0.7591\n",
            "Epoch 45/100\n",
            "11/11 [==============================] - 0s 11ms/step - loss: 0.9075 - tp: 138.0000 - fp: 5126.0000 - tn: 15324.0000 - fn: 231.0000 - accuracy: 0.7427 - precision: 0.0262 - recall: 0.3740 - auc: 0.5765 - val_loss: 0.4293 - val_tp: 39.0000 - val_fp: 638.0000 - val_tn: 4482.0000 - val_fn: 46.0000 - val_accuracy: 0.8686 - val_precision: 0.0576 - val_recall: 0.4588 - val_auc: 0.7571\n",
            "Epoch 46/100\n",
            "11/11 [==============================] - 0s 12ms/step - loss: 0.9007 - tp: 133.0000 - fp: 5290.0000 - tn: 15160.0000 - fn: 236.0000 - accuracy: 0.7346 - precision: 0.0245 - recall: 0.3604 - auc: 0.5763 - val_loss: 0.4336 - val_tp: 39.0000 - val_fp: 638.0000 - val_tn: 4482.0000 - val_fn: 46.0000 - val_accuracy: 0.8686 - val_precision: 0.0576 - val_recall: 0.4588 - val_auc: 0.7572\n",
            "Epoch 47/100\n",
            "11/11 [==============================] - 0s 12ms/step - loss: 0.8732 - tp: 144.0000 - fp: 5321.0000 - tn: 15129.0000 - fn: 225.0000 - accuracy: 0.7336 - precision: 0.0263 - recall: 0.3902 - auc: 0.5915 - val_loss: 0.4402 - val_tp: 39.0000 - val_fp: 638.0000 - val_tn: 4482.0000 - val_fn: 46.0000 - val_accuracy: 0.8686 - val_precision: 0.0576 - val_recall: 0.4588 - val_auc: 0.7593\n",
            "Epoch 48/100\n",
            "11/11 [==============================] - 0s 12ms/step - loss: 0.8992 - tp: 150.0000 - fp: 5493.0000 - tn: 14957.0000 - fn: 219.0000 - accuracy: 0.7256 - precision: 0.0266 - recall: 0.4065 - auc: 0.5792 - val_loss: 0.4436 - val_tp: 43.0000 - val_fp: 786.0000 - val_tn: 4334.0000 - val_fn: 42.0000 - val_accuracy: 0.8409 - val_precision: 0.0519 - val_recall: 0.5059 - val_auc: 0.7583\n",
            "Epoch 49/100\n",
            "11/11 [==============================] - 0s 12ms/step - loss: 0.8510 - tp: 151.0000 - fp: 5498.0000 - tn: 14952.0000 - fn: 218.0000 - accuracy: 0.7254 - precision: 0.0267 - recall: 0.4092 - auc: 0.6038 - val_loss: 0.4478 - val_tp: 43.0000 - val_fp: 786.0000 - val_tn: 4334.0000 - val_fn: 42.0000 - val_accuracy: 0.8409 - val_precision: 0.0519 - val_recall: 0.5059 - val_auc: 0.7586\n",
            "Epoch 50/100\n",
            "11/11 [==============================] - 0s 13ms/step - loss: 0.8682 - tp: 149.0000 - fp: 5570.0000 - tn: 14880.0000 - fn: 220.0000 - accuracy: 0.7219 - precision: 0.0261 - recall: 0.4038 - auc: 0.5944 - val_loss: 0.4497 - val_tp: 43.0000 - val_fp: 786.0000 - val_tn: 4334.0000 - val_fn: 42.0000 - val_accuracy: 0.8409 - val_precision: 0.0519 - val_recall: 0.5059 - val_auc: 0.7577\n",
            "Epoch 51/100\n",
            "11/11 [==============================] - 0s 13ms/step - loss: 0.8735 - tp: 146.0000 - fp: 5626.0000 - tn: 14824.0000 - fn: 223.0000 - accuracy: 0.7191 - precision: 0.0253 - recall: 0.3957 - auc: 0.5897 - val_loss: 0.4520 - val_tp: 43.0000 - val_fp: 786.0000 - val_tn: 4334.0000 - val_fn: 42.0000 - val_accuracy: 0.8409 - val_precision: 0.0519 - val_recall: 0.5059 - val_auc: 0.7554\n",
            "Epoch 52/100\n",
            "11/11 [==============================] - 0s 12ms/step - loss: 0.8893 - tp: 147.0000 - fp: 5753.0000 - tn: 14697.0000 - fn: 222.0000 - accuracy: 0.7130 - precision: 0.0249 - recall: 0.3984 - auc: 0.5756 - val_loss: 0.4565 - val_tp: 43.0000 - val_fp: 786.0000 - val_tn: 4334.0000 - val_fn: 42.0000 - val_accuracy: 0.8409 - val_precision: 0.0519 - val_recall: 0.5059 - val_auc: 0.7560\n",
            "Epoch 53/100\n",
            "11/11 [==============================] - 0s 11ms/step - loss: 0.8351 - tp: 160.0000 - fp: 5909.0000 - tn: 14541.0000 - fn: 209.0000 - accuracy: 0.7061 - precision: 0.0264 - recall: 0.4336 - auc: 0.6069 - val_loss: 0.4578 - val_tp: 43.0000 - val_fp: 786.0000 - val_tn: 4334.0000 - val_fn: 42.0000 - val_accuracy: 0.8409 - val_precision: 0.0519 - val_recall: 0.5059 - val_auc: 0.7570\n",
            "Epoch 54/100\n",
            "11/11 [==============================] - 0s 12ms/step - loss: 0.8170 - tp: 158.0000 - fp: 5771.0000 - tn: 14679.0000 - fn: 211.0000 - accuracy: 0.7127 - precision: 0.0266 - recall: 0.4282 - auc: 0.6161 - val_loss: 0.4592 - val_tp: 43.0000 - val_fp: 786.0000 - val_tn: 4334.0000 - val_fn: 42.0000 - val_accuracy: 0.8409 - val_precision: 0.0519 - val_recall: 0.5059 - val_auc: 0.7555\n",
            "Epoch 55/100\n",
            "11/11 [==============================] - 0s 12ms/step - loss: 0.8429 - tp: 159.0000 - fp: 5904.0000 - tn: 14546.0000 - fn: 210.0000 - accuracy: 0.7063 - precision: 0.0262 - recall: 0.4309 - auc: 0.6043 - val_loss: 0.4616 - val_tp: 43.0000 - val_fp: 786.0000 - val_tn: 4334.0000 - val_fn: 42.0000 - val_accuracy: 0.8409 - val_precision: 0.0519 - val_recall: 0.5059 - val_auc: 0.7564\n",
            "Epoch 56/100\n",
            "11/11 [==============================] - 0s 11ms/step - loss: 0.8798 - tp: 148.0000 - fp: 5921.0000 - tn: 14529.0000 - fn: 221.0000 - accuracy: 0.7050 - precision: 0.0244 - recall: 0.4011 - auc: 0.5755 - val_loss: 0.4635 - val_tp: 49.0000 - val_fp: 977.0000 - val_tn: 4143.0000 - val_fn: 36.0000 - val_accuracy: 0.8054 - val_precision: 0.0478 - val_recall: 0.5765 - val_auc: 0.7577\n",
            "Epoch 57/100\n",
            " 7/11 [==================>...........] - ETA: 0s - loss: 0.8570 - tp: 102.0000 - fp: 4143.0000 - tn: 9946.0000 - fn: 145.0000 - accuracy: 0.7009 - precision: 0.0240 - recall: 0.4130 - auc: 0.5761Restoring model weights from the end of the best epoch.\n",
            "11/11 [==============================] - 0s 13ms/step - loss: 0.8739 - tp: 152.0000 - fp: 5995.0000 - tn: 14455.0000 - fn: 217.0000 - accuracy: 0.7016 - precision: 0.0247 - recall: 0.4119 - auc: 0.5767 - val_loss: 0.4667 - val_tp: 49.0000 - val_fp: 977.0000 - val_tn: 4143.0000 - val_fn: 36.0000 - val_accuracy: 0.8054 - val_precision: 0.0478 - val_recall: 0.5765 - val_auc: 0.7593\n",
            "Epoch 00057: early stopping\n"
          ],
          "name": "stdout"
        }
      ]
    },
    {
      "cell_type": "markdown",
      "metadata": {
        "colab_type": "text",
        "id": "R0ynYRO0G3Lx"
      },
      "source": [
        "### Check training history"
      ]
    },
    {
      "cell_type": "code",
      "metadata": {
        "colab_type": "code",
        "id": "BBe9FMO5ucTC",
        "colab": {
          "base_uri": "https://localhost:8080/",
          "height": 609
        },
        "outputId": "01beddeb-4de1-45c9-f6ee-7ecdeda2f675"
      },
      "source": [
        "plot_metrics(weighted_history)"
      ],
      "execution_count": 82,
      "outputs": [
        {
          "output_type": "display_data",
          "data": {
            "image/png": "[encoded data removed]",
            "text/plain": [
              "<Figure size 864x720 with 4 Axes>"
            ]
          },
          "metadata": {
            "tags": [],
            "needs_background": "light"
          }
        }
      ]
    },
    {
      "cell_type": "markdown",
      "metadata": {
        "colab_type": "text",
        "id": "REy6WClTZIwQ"
      },
      "source": [
        "### Evaluate metrics"
      ]
    },
    {
      "cell_type": "code",
      "metadata": {
        "colab_type": "code",
        "id": "nifqscPGw-5w",
        "colab": {}
      },
      "source": [
        "train_predictions_weighted = weighted_model.predict(train_features, batch_size=BATCH_SIZE)\n",
        "test_predictions_weighted = weighted_model.predict(test_features, batch_size=BATCH_SIZE)"
      ],
      "execution_count": 83,
      "outputs": []
    },
    {
      "cell_type": "code",
      "metadata": {
        "colab_type": "code",
        "id": "owKL2vdMBJr6",
        "colab": {
          "base_uri": "https://localhost:8080/",
          "height": 602
        },
        "outputId": "9ae837f7-afbb-4d44-fbce-7f1a8165bcc1"
      },
      "source": [
        "weighted_results = weighted_model.evaluate(test_features, test_labels,\n",
        "                                           batch_size=BATCH_SIZE, verbose=0)\n",
        "for name, value in zip(weighted_model.metrics_names, weighted_results):\n",
        "  print(name, ': ', value)\n",
        "print()\n",
        "\n",
        "plot_cm(test_labels, test_predictions_weighted)"
      ],
      "execution_count": 84,
      "outputs": [
        {
          "output_type": "stream",
          "text": [
            "loss :  0.447057843208313\n",
            "tp :  41.0\n",
            "fp :  804.0\n",
            "tn :  5582.0\n",
            "fn :  80.0\n",
            "accuracy :  0.8641462922096252\n",
            "precision :  0.048520710319280624\n",
            "recall :  0.3388429880142212\n",
            "auc :  0.69404536485672\n",
            "\n",
            "Legitimate Transactions Detected (True Negatives):  5582\n",
            "Legitimate Transactions Incorrectly Detected (False Positives):  804\n",
            "Fraudulent Transactions Missed (False Negatives):  80\n",
            "Fraudulent Transactions Detected (True Positives):  41\n",
            "Total Fraudulent Transactions:  121\n"
          ],
          "name": "stdout"
        },
        {
          "output_type": "display_data",
          "data": {
            "image/png": "[encoded data removed]",
            "text/plain": [
              "<Figure size 360x360 with 2 Axes>"
            ]
          },
          "metadata": {
            "tags": [],
            "needs_background": "light"
          }
        }
      ]
    },
    {
      "cell_type": "markdown",
      "metadata": {
        "colab_type": "text",
        "id": "PTh1rtDn8r4-"
      },
      "source": [
        "Here you can see that with class weights the accuracy and precision are lower because there are more false positives, but conversely the recall and AUC are higher because the model also found more true positives. Despite having lower accuracy, this model has higher recall (and identifies more fraudulent transactions). Of course, there is a cost to both types of error (you wouldn't want to bug users by flagging too many legitimate transactions as fraudulent, either). Carefully consider the trade-offs between these different types of errors for your application."
      ]
    },
    {
      "cell_type": "markdown",
      "metadata": {
        "colab_type": "text",
        "id": "hXDAwyr0HYdX"
      },
      "source": [
        "### Plot the ROC"
      ]
    },
    {
      "cell_type": "code",
      "metadata": {
        "colab_type": "code",
        "id": "3hzScIVZS1Xm",
        "colab": {
          "base_uri": "https://localhost:8080/",
          "height": 623
        },
        "outputId": "28df5f55-ddfa-41f6-be03-d38a8b5f63d0"
      },
      "source": [
        "plot_roc(\"Train Baseline\", train_labels, train_predictions_baseline, color=colors[0])\n",
        "plot_roc(\"Test Baseline\", test_labels, test_predictions_baseline, color=colors[0], linestyle='--')\n",
        "\n",
        "plot_roc(\"Train Weighted\", train_labels, train_predictions_weighted, color=colors[1])\n",
        "plot_roc(\"Test Weighted\", test_labels, test_predictions_weighted, color=colors[1], linestyle='--')\n",
        "\n",
        "\n",
        "plt.legend(loc='lower right')"
      ],
      "execution_count": 86,
      "outputs": [
        {
          "output_type": "execute_result",
          "data": {
            "text/plain": [
              "<matplotlib.legend.Legend at 0x7efe84019d68>"
            ]
          },
          "metadata": {
            "tags": []
          },
          "execution_count": 86
        },
        {
          "output_type": "display_data",
          "data": {
            "image/png": "[encoded data removed]",
            "text/plain": [
              "<Figure size 864x720 with 1 Axes>"
            ]
          },
          "metadata": {
            "tags": [],
            "needs_background": "light"
          }
        }
      ]
    },
    {
      "cell_type": "markdown",
      "metadata": {
        "colab_type": "text",
        "id": "5ysRtr6xHnXP"
      },
      "source": [
        "## Oversampling"
      ]
    },
    {
      "cell_type": "markdown",
      "metadata": {
        "colab_type": "text",
        "id": "18VUHNc-UF5w"
      },
      "source": [
        "### Oversample the minority class\n",
        "\n",
        "A related approach would be to resample the dataset by oversampling the minority class."
      ]
    },
    {
      "cell_type": "code",
      "metadata": {
        "colab_type": "code",
        "id": "sHirNp6u7OWp",
        "colab": {}
      },
      "source": [
        "pos_features = train_features[bool_train_labels]\n",
        "neg_features = train_features[~bool_train_labels]\n",
        "\n",
        "pos_labels = train_labels[bool_train_labels]\n",
        "neg_labels = train_labels[~bool_train_labels]"
      ],
      "execution_count": 87,
      "outputs": []
    },
    {
      "cell_type": "markdown",
      "metadata": {
        "colab_type": "text",
        "id": "WgBVbX7P7QrL"
      },
      "source": [
        "#### Using NumPy\n",
        "\n",
        "You can balance the dataset manually by choosing the right number of random \n",
        "indices from the positive examples:"
      ]
    },
    {
      "cell_type": "code",
      "metadata": {
        "colab_type": "code",
        "id": "BUzGjSkwqT88",
        "colab": {
          "base_uri": "https://localhost:8080/",
          "height": 34
        },
        "outputId": "2c20f481-abd9-4691-cf9d-3e24ecc4ce58"
      },
      "source": [
        "ids = np.arange(len(pos_features))\n",
        "choices = np.random.choice(ids, len(neg_features))\n",
        "\n",
        "res_pos_features = pos_features[choices]\n",
        "res_pos_labels = pos_labels[choices]\n",
        "\n",
        "res_pos_features.shape"
      ],
      "execution_count": 88,
      "outputs": [
        {
          "output_type": "execute_result",
          "data": {
            "text/plain": [
              "(20450, 3)"
            ]
          },
          "metadata": {
            "tags": []
          },
          "execution_count": 88
        }
      ]
    },
    {
      "cell_type": "code",
      "metadata": {
        "colab_type": "code",
        "id": "7ie_FFet6cep",
        "colab": {
          "base_uri": "https://localhost:8080/",
          "height": 34
        },
        "outputId": "922ad810-211a-4e58-bdd6-a0eb615467f4"
      },
      "source": [
        "resampled_features = np.concatenate([res_pos_features, neg_features], axis=0)\n",
        "resampled_labels = np.concatenate([res_pos_labels, neg_labels], axis=0)\n",
        "\n",
        "order = np.arange(len(resampled_labels))\n",
        "np.random.shuffle(order)\n",
        "resampled_features = resampled_features[order]\n",
        "resampled_labels = resampled_labels[order]\n",
        "\n",
        "resampled_features.shape"
      ],
      "execution_count": 89,
      "outputs": [
        {
          "output_type": "execute_result",
          "data": {
            "text/plain": [
              "(40900, 3)"
            ]
          },
          "metadata": {
            "tags": []
          },
          "execution_count": 89
        }
      ]
    },
    {
      "cell_type": "markdown",
      "metadata": {
        "colab_type": "text",
        "id": "IYfJe2Kc-FAz"
      },
      "source": [
        "#### Using `tf.data`"
      ]
    },
    {
      "cell_type": "markdown",
      "metadata": {
        "colab_type": "text",
        "id": "usyixaST8v5P"
      },
      "source": [
        "If you're using `tf.data` the easiest way to produce balanced examples is to start with a `positive` and a `negative` dataset, and merge them. See [the tf.data guide](../../guide/data.ipynb) for more examples."
      ]
    },
    {
      "cell_type": "code",
      "metadata": {
        "colab_type": "code",
        "id": "yF4OZ-rI6xb6",
        "colab": {}
      },
      "source": [
        "BUFFER_SIZE = 100000\n",
        "\n",
        "def make_ds(features, labels):\n",
        "  ds = tf.data.Dataset.from_tensor_slices((features, labels))#.cache()\n",
        "  ds = ds.shuffle(BUFFER_SIZE).repeat()\n",
        "  return ds\n",
        "\n",
        "pos_ds = make_ds(pos_features, pos_labels)\n",
        "neg_ds = make_ds(neg_features, neg_labels)"
      ],
      "execution_count": 90,
      "outputs": []
    },
    {
      "cell_type": "markdown",
      "metadata": {
        "colab_type": "text",
        "id": "RNQUx-OA-oJc"
      },
      "source": [
        "Each dataset provides `(feature, label)` pairs:"
      ]
    },
    {
      "cell_type": "code",
      "metadata": {
        "colab_type": "code",
        "id": "llXc9rNH7Fbz",
        "colab": {
          "base_uri": "https://localhost:8080/",
          "height": 84
        },
        "outputId": "563108d9-c58f-40ff-ce25-256b5e4da0ff"
      },
      "source": [
        "for features, label in pos_ds.take(1):\n",
        "  print(\"Features:\\n\", features.numpy())\n",
        "  print()\n",
        "  print(\"Label: \", label.numpy())"
      ],
      "execution_count": 91,
      "outputs": [
        {
          "output_type": "stream",
          "text": [
            "Features:\n",
            " [-1.02771471 -0.27608055 -0.24665921]\n",
            "\n",
            "Label:  1\n"
          ],
          "name": "stdout"
        }
      ]
    },
    {
      "cell_type": "markdown",
      "metadata": {
        "colab_type": "text",
        "id": "sLEfjZO0-vbN"
      },
      "source": [
        "Merge the two together using `experimental.sample_from_datasets`:"
      ]
    },
    {
      "cell_type": "code",
      "metadata": {
        "colab_type": "code",
        "id": "e7w9UQPT9wzE",
        "colab": {}
      },
      "source": [
        "resampled_ds = tf.data.experimental.sample_from_datasets([pos_ds, neg_ds], weights=[0.5, 0.5])\n",
        "resampled_ds = resampled_ds.batch(BATCH_SIZE).prefetch(2)"
      ],
      "execution_count": 92,
      "outputs": []
    },
    {
      "cell_type": "code",
      "metadata": {
        "colab_type": "code",
        "id": "EWXARdTdAuQK",
        "colab": {
          "base_uri": "https://localhost:8080/",
          "height": 34
        },
        "outputId": "9573aacd-ebf2-4011-e462-c00976a959be"
      },
      "source": [
        "for features, label in resampled_ds.take(1):\n",
        "  print(label.numpy().mean())"
      ],
      "execution_count": 93,
      "outputs": [
        {
          "output_type": "stream",
          "text": [
            "0.5126953125\n"
          ],
          "name": "stdout"
        }
      ]
    },
    {
      "cell_type": "markdown",
      "metadata": {
        "colab_type": "text",
        "id": "irgqf3YxAyN0"
      },
      "source": [
        "To use this dataset, you'll need the number of steps per epoch.\n",
        "\n",
        "The definition of \"epoch\" in this case is less clear. Say it's the number of batches required to see each negative example once:"
      ]
    },
    {
      "cell_type": "code",
      "metadata": {
        "colab_type": "code",
        "id": "xH-7K46AAxpq",
        "colab": {
          "base_uri": "https://localhost:8080/",
          "height": 34
        },
        "outputId": "dc885b59-3d0a-440b-e7b8-29515b1473a5"
      },
      "source": [
        "resampled_steps_per_epoch = np.ceil(2.0*neg/BATCH_SIZE)\n",
        "resampled_steps_per_epoch"
      ],
      "execution_count": 94,
      "outputs": [
        {
          "output_type": "execute_result",
          "data": {
            "text/plain": [
              "32.0"
            ]
          },
          "metadata": {
            "tags": []
          },
          "execution_count": 94
        }
      ]
    },
    {
      "cell_type": "markdown",
      "metadata": {
        "colab_type": "text",
        "id": "XZ1BvEpcBVHP"
      },
      "source": [
        "### Train on the oversampled data\n",
        "\n",
        "Now try training the model with the resampled data set instead of using class weights to see how these methods compare.\n",
        "\n",
        "Note: Because the data was balanced by replicating the positive examples, the total dataset size is larger, and each epoch runs for more training steps. "
      ]
    },
    {
      "cell_type": "code",
      "metadata": {
        "colab_type": "code",
        "id": "soRQ89JYqd6b",
        "colab": {
          "base_uri": "https://localhost:8080/",
          "height": 608
        },
        "outputId": "c0b471b7-ec40-4a7a-ae11-fb4fab90ffb7"
      },
      "source": [
        "resampled_model = make_model()\n",
        "resampled_model.load_weights(initial_weights)\n",
        "\n",
        "# Reset the bias to zero, since this dataset is balanced.\n",
        "output_layer = resampled_model.layers[-1] \n",
        "output_layer.bias.assign([0])\n",
        "\n",
        "val_ds = tf.data.Dataset.from_tensor_slices((val_features, val_labels)).cache()\n",
        "val_ds = val_ds.batch(BATCH_SIZE).prefetch(2) \n",
        "\n",
        "resampled_history = resampled_model.fit(\n",
        "    resampled_ds,\n",
        "    epochs=EPOCHS,\n",
        "    steps_per_epoch=resampled_steps_per_epoch,\n",
        "    callbacks = [early_stopping],\n",
        "    validation_data=val_ds)"
      ],
      "execution_count": 95,
      "outputs": [
        {
          "output_type": "stream",
          "text": [
            "Epoch 1/100\n",
            "32/32 [==============================] - 2s 48ms/step - loss: 0.7506 - tp: 15089.0000 - fp: 16615.0000 - tn: 22567.0000 - fn: 17772.0000 - accuracy: 0.5227 - precision: 0.4759 - recall: 0.4592 - auc: 0.5373 - val_loss: 0.6930 - val_tp: 72.0000 - val_fp: 3267.0000 - val_tn: 1853.0000 - val_fn: 13.0000 - val_accuracy: 0.3698 - val_precision: 0.0216 - val_recall: 0.8471 - val_auc: 0.5845\n",
            "Epoch 2/100\n",
            "32/32 [==============================] - 1s 22ms/step - loss: 0.7218 - tp: 18135.0000 - fp: 17572.0000 - tn: 15284.0000 - fn: 14545.0000 - accuracy: 0.5099 - precision: 0.5079 - recall: 0.5549 - auc: 0.5296 - val_loss: 0.7109 - val_tp: 74.0000 - val_fp: 3219.0000 - val_tn: 1901.0000 - val_fn: 11.0000 - val_accuracy: 0.3794 - val_precision: 0.0225 - val_recall: 0.8706 - val_auc: 0.7405\n",
            "Epoch 3/100\n",
            "32/32 [==============================] - 1s 21ms/step - loss: 0.7023 - tp: 18499.0000 - fp: 16090.0000 - tn: 16769.0000 - fn: 14178.0000 - accuracy: 0.5381 - precision: 0.5348 - recall: 0.5661 - auc: 0.5623 - val_loss: 0.7019 - val_tp: 66.0000 - val_fp: 2068.0000 - val_tn: 3052.0000 - val_fn: 19.0000 - val_accuracy: 0.5990 - val_precision: 0.0309 - val_recall: 0.7765 - val_auc: 0.7501\n",
            "Epoch 4/100\n",
            "32/32 [==============================] - 1s 22ms/step - loss: 0.6926 - tp: 17911.0000 - fp: 13854.0000 - tn: 18734.0000 - fn: 15037.0000 - accuracy: 0.5592 - precision: 0.5639 - recall: 0.5436 - auc: 0.5785 - val_loss: 0.6925 - val_tp: 61.0000 - val_fp: 1824.0000 - val_tn: 3296.0000 - val_fn: 24.0000 - val_accuracy: 0.6450 - val_precision: 0.0324 - val_recall: 0.7176 - val_auc: 0.7521\n",
            "Epoch 5/100\n",
            "32/32 [==============================] - 1s 23ms/step - loss: 0.6833 - tp: 17942.0000 - fp: 13161.0000 - tn: 19491.0000 - fn: 14942.0000 - accuracy: 0.5712 - precision: 0.5769 - recall: 0.5456 - auc: 0.5943 - val_loss: 0.6861 - val_tp: 61.0000 - val_fp: 1816.0000 - val_tn: 3304.0000 - val_fn: 24.0000 - val_accuracy: 0.6465 - val_precision: 0.0325 - val_recall: 0.7176 - val_auc: 0.7516\n",
            "Epoch 6/100\n",
            "32/32 [==============================] - 1s 22ms/step - loss: 0.6783 - tp: 17300.0000 - fp: 11877.0000 - tn: 20817.0000 - fn: 15542.0000 - accuracy: 0.5816 - precision: 0.5929 - recall: 0.5268 - auc: 0.6035 - val_loss: 0.6778 - val_tp: 61.0000 - val_fp: 1802.0000 - val_tn: 3318.0000 - val_fn: 24.0000 - val_accuracy: 0.6492 - val_precision: 0.0327 - val_recall: 0.7176 - val_auc: 0.7532\n",
            "Epoch 7/100\n",
            "32/32 [==============================] - 1s 22ms/step - loss: 0.6742 - tp: 16743.0000 - fp: 11309.0000 - tn: 21641.0000 - fn: 15843.0000 - accuracy: 0.5857 - precision: 0.5969 - recall: 0.5138 - auc: 0.6091 - val_loss: 0.6652 - val_tp: 59.0000 - val_fp: 1559.0000 - val_tn: 3561.0000 - val_fn: 26.0000 - val_accuracy: 0.6955 - val_precision: 0.0365 - val_recall: 0.6941 - val_auc: 0.7514\n",
            "Epoch 8/100\n",
            "32/32 [==============================] - 1s 22ms/step - loss: 0.6693 - tp: 16441.0000 - fp: 10239.0000 - tn: 22427.0000 - fn: 16429.0000 - accuracy: 0.5931 - precision: 0.6162 - recall: 0.5002 - auc: 0.6171 - val_loss: 0.6648 - val_tp: 58.0000 - val_fp: 1267.0000 - val_tn: 3853.0000 - val_fn: 27.0000 - val_accuracy: 0.7514 - val_precision: 0.0438 - val_recall: 0.6824 - val_auc: 0.7521\n",
            "Epoch 9/100\n",
            "32/32 [==============================] - 1s 21ms/step - loss: 0.6665 - tp: 16170.0000 - fp: 9884.0000 - tn: 22901.0000 - fn: 16581.0000 - accuracy: 0.5962 - precision: 0.6206 - recall: 0.4937 - auc: 0.6214 - val_loss: 0.6610 - val_tp: 58.0000 - val_fp: 1267.0000 - val_tn: 3853.0000 - val_fn: 27.0000 - val_accuracy: 0.7514 - val_precision: 0.0438 - val_recall: 0.6824 - val_auc: 0.7510\n",
            "Epoch 10/100\n",
            "32/32 [==============================] - 1s 21ms/step - loss: 0.6636 - tp: 16371.0000 - fp: 9268.0000 - tn: 23170.0000 - fn: 16727.0000 - accuracy: 0.6033 - precision: 0.6385 - recall: 0.4946 - auc: 0.6282 - val_loss: 0.6606 - val_tp: 58.0000 - val_fp: 1247.0000 - val_tn: 3873.0000 - val_fn: 27.0000 - val_accuracy: 0.7552 - val_precision: 0.0444 - val_recall: 0.6824 - val_auc: 0.7516\n",
            "Epoch 11/100\n",
            "32/32 [==============================] - 1s 22ms/step - loss: 0.6629 - tp: 15891.0000 - fp: 8972.0000 - tn: 23841.0000 - fn: 16832.0000 - accuracy: 0.6063 - precision: 0.6391 - recall: 0.4856 - auc: 0.6288 - val_loss: 0.6556 - val_tp: 58.0000 - val_fp: 1247.0000 - val_tn: 3873.0000 - val_fn: 27.0000 - val_accuracy: 0.7552 - val_precision: 0.0444 - val_recall: 0.6824 - val_auc: 0.7526\n",
            "Epoch 12/100\n",
            "32/32 [==============================] - 1s 22ms/step - loss: 0.6620 - tp: 15458.0000 - fp: 8516.0000 - tn: 24264.0000 - fn: 17298.0000 - accuracy: 0.6061 - precision: 0.6448 - recall: 0.4719 - auc: 0.6309 - val_loss: 0.6496 - val_tp: 58.0000 - val_fp: 1238.0000 - val_tn: 3882.0000 - val_fn: 27.0000 - val_accuracy: 0.7570 - val_precision: 0.0448 - val_recall: 0.6824 - val_auc: 0.7514\n",
            "Epoch 13/100\n",
            "32/32 [==============================] - 1s 21ms/step - loss: 0.6589 - tp: 15422.0000 - fp: 8360.0000 - tn: 24547.0000 - fn: 17207.0000 - accuracy: 0.6099 - precision: 0.6485 - recall: 0.4726 - auc: 0.6352 - val_loss: 0.6485 - val_tp: 58.0000 - val_fp: 1238.0000 - val_tn: 3882.0000 - val_fn: 27.0000 - val_accuracy: 0.7570 - val_precision: 0.0448 - val_recall: 0.6824 - val_auc: 0.7515\n",
            "Epoch 14/100\n",
            "32/32 [==============================] - 1s 21ms/step - loss: 0.6576 - tp: 15365.0000 - fp: 7964.0000 - tn: 24681.0000 - fn: 17526.0000 - accuracy: 0.6111 - precision: 0.6586 - recall: 0.4671 - auc: 0.6376 - val_loss: 0.6523 - val_tp: 58.0000 - val_fp: 1238.0000 - val_tn: 3882.0000 - val_fn: 27.0000 - val_accuracy: 0.7570 - val_precision: 0.0448 - val_recall: 0.6824 - val_auc: 0.7513\n",
            "Epoch 15/100\n",
            "32/32 [==============================] - 1s 22ms/step - loss: 0.6571 - tp: 15451.0000 - fp: 7944.0000 - tn: 24576.0000 - fn: 17565.0000 - accuracy: 0.6108 - precision: 0.6604 - recall: 0.4680 - auc: 0.6402 - val_loss: 0.6509 - val_tp: 58.0000 - val_fp: 1238.0000 - val_tn: 3882.0000 - val_fn: 27.0000 - val_accuracy: 0.7570 - val_precision: 0.0448 - val_recall: 0.6824 - val_auc: 0.7518\n",
            "Epoch 16/100\n",
            "32/32 [==============================] - ETA: 0s - loss: 0.6576 - tp: 15138.0000 - fp: 7835.0000 - tn: 25055.0000 - fn: 17508.0000 - accuracy: 0.6133 - precision: 0.6589 - recall: 0.4637 - auc: 0.6390Restoring model weights from the end of the best epoch.\n",
            "32/32 [==============================] - 1s 21ms/step - loss: 0.6576 - tp: 15138.0000 - fp: 7835.0000 - tn: 25055.0000 - fn: 17508.0000 - accuracy: 0.6133 - precision: 0.6589 - recall: 0.4637 - auc: 0.6390 - val_loss: 0.6452 - val_tp: 58.0000 - val_fp: 1238.0000 - val_tn: 3882.0000 - val_fn: 27.0000 - val_accuracy: 0.7570 - val_precision: 0.0448 - val_recall: 0.6824 - val_auc: 0.7520\n",
            "Epoch 00016: early stopping\n"
          ],
          "name": "stdout"
        }
      ]
    },
    {
      "cell_type": "markdown",
      "metadata": {
        "colab_type": "text",
        "id": "avALvzUp3T_c"
      },
      "source": [
        "If the training process were considering the whole dataset on each gradient update, this oversampling would be basically identical to the class weighting.\n",
        "\n",
        "But when training the model batch-wise, as you did here, the oversampled data provides a smoother gradient signal: Instead of each positive example being shown in one batch with a large weight, they're shown in many different batches each time with a small weight. \n",
        "\n",
        "This smoother gradient signal makes it easier to train the model."
      ]
    },
    {
      "cell_type": "markdown",
      "metadata": {
        "colab_type": "text",
        "id": "klHZ0HV76VC5"
      },
      "source": [
        "### Check training history\n",
        "\n",
        "Note that the distributions of metrics will be different here, because the training data has a totally different distribution from the validation and test data. "
      ]
    },
    {
      "cell_type": "code",
      "metadata": {
        "colab_type": "code",
        "id": "YoUGfr1vuivl",
        "colab": {
          "base_uri": "https://localhost:8080/",
          "height": 609
        },
        "outputId": "ee64f4b6-0abc-4676-fd82-cec2283d0041"
      },
      "source": [
        "plot_metrics(resampled_history )"
      ],
      "execution_count": 96,
      "outputs": [
        {
          "output_type": "display_data",
          "data": {
            "image/png": "[encoded data removed]",
            "text/plain": [
              "<Figure size 864x720 with 4 Axes>"
            ]
          },
          "metadata": {
            "tags": [],
            "needs_background": "light"
          }
        }
      ]
    },
    {
      "cell_type": "markdown",
      "metadata": {
        "colab_type": "text",
        "id": "1PuH3A2vnwrh"
      },
      "source": [
        "### Re-train\n"
      ]
    },
    {
      "cell_type": "markdown",
      "metadata": {
        "colab_type": "text",
        "id": "KFLxRL8eoDE5"
      },
      "source": [
        "Because training is easier on the balanced data, the above training procedure may overfit quickly. \n",
        "\n",
        "So break up the epochs to give the `callbacks.EarlyStopping` finer control over when to stop training."
      ]
    },
    {
      "cell_type": "code",
      "metadata": {
        "colab_type": "code",
        "id": "e_yn9I26qAHU",
        "colab": {
          "base_uri": "https://localhost:8080/",
          "height": 810
        },
        "outputId": "f21ee754-f591-464f-ddf0-a653aa8d0939"
      },
      "source": [
        "resampled_model = make_model()\n",
        "resampled_model.load_weights(initial_weights)\n",
        "\n",
        "# Reset the bias to zero, since this dataset is balanced.\n",
        "output_layer = resampled_model.layers[-1] \n",
        "output_layer.bias.assign([0])\n",
        "\n",
        "resampled_history = resampled_model.fit(\n",
        "    resampled_ds,\n",
        "    # These are not real epochs\n",
        "    steps_per_epoch = 20,\n",
        "    epochs=10*EPOCHS,\n",
        "    callbacks = [early_stopping],\n",
        "    validation_data=(val_ds))"
      ],
      "execution_count": 97,
      "outputs": [
        {
          "output_type": "stream",
          "text": [
            "Epoch 1/1000\n",
            "20/20 [==============================] - 1s 64ms/step - loss: 0.7591 - tp: 8893.0000 - fp: 10738.0000 - tn: 14919.0000 - fn: 11615.0000 - accuracy: 0.5158 - precision: 0.4530 - recall: 0.4336 - auc: 0.4932 - val_loss: 0.6737 - val_tp: 33.0000 - val_fp: 2510.0000 - val_tn: 2610.0000 - val_fn: 52.0000 - val_accuracy: 0.5078 - val_precision: 0.0130 - val_recall: 0.3882 - val_auc: 0.5141\n",
            "Epoch 2/1000\n",
            "20/20 [==============================] - 0s 21ms/step - loss: 0.7313 - tp: 10699.0000 - fp: 10586.0000 - tn: 9895.0000 - fn: 9780.0000 - accuracy: 0.5028 - precision: 0.5027 - recall: 0.5224 - auc: 0.5163 - val_loss: 0.7052 - val_tp: 75.0000 - val_fp: 3569.0000 - val_tn: 1551.0000 - val_fn: 10.0000 - val_accuracy: 0.3124 - val_precision: 0.0206 - val_recall: 0.8824 - val_auc: 0.6734\n",
            "Epoch 3/1000\n",
            "20/20 [==============================] - 0s 21ms/step - loss: 0.7136 - tp: 11687.0000 - fp: 11022.0000 - tn: 9485.0000 - fn: 8766.0000 - accuracy: 0.5169 - precision: 0.5146 - recall: 0.5714 - auc: 0.5438 - val_loss: 0.7144 - val_tp: 75.0000 - val_fp: 3220.0000 - val_tn: 1900.0000 - val_fn: 10.0000 - val_accuracy: 0.3794 - val_precision: 0.0228 - val_recall: 0.8824 - val_auc: 0.7394\n",
            "Epoch 4/1000\n",
            "20/20 [==============================] - 0s 22ms/step - loss: 0.7057 - tp: 11860.0000 - fp: 10756.0000 - tn: 9848.0000 - fn: 8496.0000 - accuracy: 0.5300 - precision: 0.5244 - recall: 0.5826 - auc: 0.5582 - val_loss: 0.7093 - val_tp: 69.0000 - val_fp: 2362.0000 - val_tn: 2758.0000 - val_fn: 16.0000 - val_accuracy: 0.5431 - val_precision: 0.0284 - val_recall: 0.8118 - val_auc: 0.7448\n",
            "Epoch 5/1000\n",
            "20/20 [==============================] - 0s 22ms/step - loss: 0.6989 - tp: 11240.0000 - fp: 9346.0000 - tn: 11234.0000 - fn: 9140.0000 - accuracy: 0.5487 - precision: 0.5460 - recall: 0.5515 - auc: 0.5702 - val_loss: 0.6992 - val_tp: 66.0000 - val_fp: 2068.0000 - val_tn: 3052.0000 - val_fn: 19.0000 - val_accuracy: 0.5990 - val_precision: 0.0309 - val_recall: 0.7765 - val_auc: 0.7517\n",
            "Epoch 6/1000\n",
            "20/20 [==============================] - 0s 21ms/step - loss: 0.6930 - tp: 11123.0000 - fp: 8680.0000 - tn: 11655.0000 - fn: 9502.0000 - accuracy: 0.5561 - precision: 0.5617 - recall: 0.5393 - auc: 0.5769 - val_loss: 0.6945 - val_tp: 61.0000 - val_fp: 1824.0000 - val_tn: 3296.0000 - val_fn: 24.0000 - val_accuracy: 0.6450 - val_precision: 0.0324 - val_recall: 0.7176 - val_auc: 0.7514\n",
            "Epoch 7/1000\n",
            "20/20 [==============================] - 0s 22ms/step - loss: 0.6890 - tp: 11269.0000 - fp: 8489.0000 - tn: 11826.0000 - fn: 9376.0000 - accuracy: 0.5638 - precision: 0.5704 - recall: 0.5458 - auc: 0.5854 - val_loss: 0.6950 - val_tp: 61.0000 - val_fp: 1824.0000 - val_tn: 3296.0000 - val_fn: 24.0000 - val_accuracy: 0.6450 - val_precision: 0.0324 - val_recall: 0.7176 - val_auc: 0.7515\n",
            "Epoch 8/1000\n",
            "20/20 [==============================] - 0s 21ms/step - loss: 0.6848 - tp: 11104.0000 - fp: 8199.0000 - tn: 12193.0000 - fn: 9464.0000 - accuracy: 0.5688 - precision: 0.5752 - recall: 0.5399 - auc: 0.5917 - val_loss: 0.6866 - val_tp: 61.0000 - val_fp: 1802.0000 - val_tn: 3318.0000 - val_fn: 24.0000 - val_accuracy: 0.6492 - val_precision: 0.0327 - val_recall: 0.7176 - val_auc: 0.7523\n",
            "Epoch 9/1000\n",
            "20/20 [==============================] - 0s 22ms/step - loss: 0.6806 - tp: 10714.0000 - fp: 7699.0000 - tn: 12830.0000 - fn: 9717.0000 - accuracy: 0.5748 - precision: 0.5819 - recall: 0.5244 - auc: 0.5971 - val_loss: 0.6772 - val_tp: 61.0000 - val_fp: 1802.0000 - val_tn: 3318.0000 - val_fn: 24.0000 - val_accuracy: 0.6492 - val_precision: 0.0327 - val_recall: 0.7176 - val_auc: 0.7526\n",
            "Epoch 10/1000\n",
            "20/20 [==============================] - 0s 22ms/step - loss: 0.6741 - tp: 10620.0000 - fp: 7172.0000 - tn: 13308.0000 - fn: 9860.0000 - accuracy: 0.5842 - precision: 0.5969 - recall: 0.5186 - auc: 0.6101 - val_loss: 0.6751 - val_tp: 61.0000 - val_fp: 1802.0000 - val_tn: 3318.0000 - val_fn: 24.0000 - val_accuracy: 0.6492 - val_precision: 0.0327 - val_recall: 0.7176 - val_auc: 0.7549\n",
            "Epoch 11/1000\n",
            "20/20 [==============================] - 0s 22ms/step - loss: 0.6744 - tp: 10427.0000 - fp: 6939.0000 - tn: 13650.0000 - fn: 9944.0000 - accuracy: 0.5878 - precision: 0.6004 - recall: 0.5119 - auc: 0.6107 - val_loss: 0.6674 - val_tp: 61.0000 - val_fp: 1794.0000 - val_tn: 3326.0000 - val_fn: 24.0000 - val_accuracy: 0.6507 - val_precision: 0.0329 - val_recall: 0.7176 - val_auc: 0.7505\n",
            "Epoch 12/1000\n",
            "20/20 [==============================] - 0s 21ms/step - loss: 0.6708 - tp: 10291.0000 - fp: 6448.0000 - tn: 13980.0000 - fn: 10241.0000 - accuracy: 0.5926 - precision: 0.6148 - recall: 0.5012 - auc: 0.6169 - val_loss: 0.6635 - val_tp: 58.0000 - val_fp: 1276.0000 - val_tn: 3844.0000 - val_fn: 27.0000 - val_accuracy: 0.7497 - val_precision: 0.0435 - val_recall: 0.6824 - val_auc: 0.7556\n",
            "Epoch 13/1000\n",
            "20/20 [==============================] - 0s 22ms/step - loss: 0.6694 - tp: 10263.0000 - fp: 6261.0000 - tn: 14098.0000 - fn: 10338.0000 - accuracy: 0.5948 - precision: 0.6211 - recall: 0.4982 - auc: 0.6173 - val_loss: 0.6649 - val_tp: 58.0000 - val_fp: 1267.0000 - val_tn: 3853.0000 - val_fn: 27.0000 - val_accuracy: 0.7514 - val_precision: 0.0438 - val_recall: 0.6824 - val_auc: 0.7499\n",
            "Epoch 14/1000\n",
            "20/20 [==============================] - 0s 22ms/step - loss: 0.6689 - tp: 10215.0000 - fp: 6303.0000 - tn: 14166.0000 - fn: 10276.0000 - accuracy: 0.5952 - precision: 0.6184 - recall: 0.4985 - auc: 0.6190 - val_loss: 0.6617 - val_tp: 58.0000 - val_fp: 1267.0000 - val_tn: 3853.0000 - val_fn: 27.0000 - val_accuracy: 0.7514 - val_precision: 0.0438 - val_recall: 0.6824 - val_auc: 0.7510\n",
            "Epoch 15/1000\n",
            "20/20 [==============================] - 0s 22ms/step - loss: 0.6664 - tp: 10163.0000 - fp: 6012.0000 - tn: 14341.0000 - fn: 10444.0000 - accuracy: 0.5982 - precision: 0.6283 - recall: 0.4932 - auc: 0.6226 - val_loss: 0.6611 - val_tp: 58.0000 - val_fp: 1267.0000 - val_tn: 3853.0000 - val_fn: 27.0000 - val_accuracy: 0.7514 - val_precision: 0.0438 - val_recall: 0.6824 - val_auc: 0.7528\n",
            "Epoch 16/1000\n",
            "20/20 [==============================] - 0s 22ms/step - loss: 0.6643 - tp: 10251.0000 - fp: 6010.0000 - tn: 14316.0000 - fn: 10383.0000 - accuracy: 0.5998 - precision: 0.6304 - recall: 0.4968 - auc: 0.6258 - val_loss: 0.6622 - val_tp: 58.0000 - val_fp: 1247.0000 - val_tn: 3873.0000 - val_fn: 27.0000 - val_accuracy: 0.7552 - val_precision: 0.0444 - val_recall: 0.6824 - val_auc: 0.7524\n",
            "Epoch 17/1000\n",
            "20/20 [==============================] - 0s 22ms/step - loss: 0.6635 - tp: 9951.0000 - fp: 5766.0000 - tn: 14771.0000 - fn: 10472.0000 - accuracy: 0.6036 - precision: 0.6331 - recall: 0.4872 - auc: 0.6276 - val_loss: 0.6556 - val_tp: 58.0000 - val_fp: 1247.0000 - val_tn: 3873.0000 - val_fn: 27.0000 - val_accuracy: 0.7552 - val_precision: 0.0444 - val_recall: 0.6824 - val_auc: 0.7538\n",
            "Epoch 18/1000\n",
            "20/20 [==============================] - 0s 22ms/step - loss: 0.6618 - tp: 9860.0000 - fp: 5497.0000 - tn: 14967.0000 - fn: 10636.0000 - accuracy: 0.6061 - precision: 0.6421 - recall: 0.4811 - auc: 0.6301 - val_loss: 0.6558 - val_tp: 58.0000 - val_fp: 1247.0000 - val_tn: 3873.0000 - val_fn: 27.0000 - val_accuracy: 0.7552 - val_precision: 0.0444 - val_recall: 0.6824 - val_auc: 0.7524\n",
            "Epoch 19/1000\n",
            "20/20 [==============================] - 0s 22ms/step - loss: 0.6610 - tp: 9836.0000 - fp: 5431.0000 - tn: 15097.0000 - fn: 10596.0000 - accuracy: 0.6087 - precision: 0.6443 - recall: 0.4814 - auc: 0.6325 - val_loss: 0.6529 - val_tp: 58.0000 - val_fp: 1247.0000 - val_tn: 3873.0000 - val_fn: 27.0000 - val_accuracy: 0.7552 - val_precision: 0.0444 - val_recall: 0.6824 - val_auc: 0.7517\n",
            "Epoch 20/1000\n",
            "20/20 [==============================] - 0s 23ms/step - loss: 0.6600 - tp: 9639.0000 - fp: 5280.0000 - tn: 15250.0000 - fn: 10791.0000 - accuracy: 0.6076 - precision: 0.6461 - recall: 0.4718 - auc: 0.6337 - val_loss: 0.6512 - val_tp: 58.0000 - val_fp: 1238.0000 - val_tn: 3882.0000 - val_fn: 27.0000 - val_accuracy: 0.7570 - val_precision: 0.0448 - val_recall: 0.6824 - val_auc: 0.7536\n",
            "Epoch 21/1000\n",
            "20/20 [==============================] - 0s 22ms/step - loss: 0.6594 - tp: 9528.0000 - fp: 5074.0000 - tn: 15447.0000 - fn: 10911.0000 - accuracy: 0.6097 - precision: 0.6525 - recall: 0.4662 - auc: 0.6360 - val_loss: 0.6474 - val_tp: 58.0000 - val_fp: 1238.0000 - val_tn: 3882.0000 - val_fn: 27.0000 - val_accuracy: 0.7570 - val_precision: 0.0448 - val_recall: 0.6824 - val_auc: 0.7509\n",
            "Epoch 22/1000\n",
            "20/20 [==============================] - ETA: 0s - loss: 0.6590 - tp: 9637.0000 - fp: 5070.0000 - tn: 15320.0000 - fn: 10933.0000 - accuracy: 0.6093 - precision: 0.6553 - recall: 0.4685 - auc: 0.6350Restoring model weights from the end of the best epoch.\n",
            "20/20 [==============================] - 0s 22ms/step - loss: 0.6590 - tp: 9637.0000 - fp: 5070.0000 - tn: 15320.0000 - fn: 10933.0000 - accuracy: 0.6093 - precision: 0.6553 - recall: 0.4685 - auc: 0.6350 - val_loss: 0.6522 - val_tp: 58.0000 - val_fp: 1238.0000 - val_tn: 3882.0000 - val_fn: 27.0000 - val_accuracy: 0.7570 - val_precision: 0.0448 - val_recall: 0.6824 - val_auc: 0.7533\n",
            "Epoch 00022: early stopping\n"
          ],
          "name": "stdout"
        }
      ]
    },
    {
      "cell_type": "markdown",
      "metadata": {
        "colab_type": "text",
        "id": "UuJYKv0gpBK1"
      },
      "source": [
        "### Re-check training history"
      ]
    },
    {
      "cell_type": "code",
      "metadata": {
        "colab_type": "code",
        "id": "FMycrpJwn39w",
        "colab": {
          "base_uri": "https://localhost:8080/",
          "height": 609
        },
        "outputId": "fe0b655f-3133-452b-e255-6eca466d1d33"
      },
      "source": [
        "plot_metrics(resampled_history)"
      ],
      "execution_count": 98,
      "outputs": [
        {
          "output_type": "display_data",
          "data": {
            "image/png": "[encoded data removed]",
            "text/plain": [
              "<Figure size 864x720 with 4 Axes>"
            ]
          },
          "metadata": {
            "tags": [],
            "needs_background": "light"
          }
        }
      ]
    },
    {
      "cell_type": "markdown",
      "metadata": {
        "colab_type": "text",
        "id": "bUuE5HOWZiwP"
      },
      "source": [
        "### Evaluate metrics"
      ]
    },
    {
      "cell_type": "code",
      "metadata": {
        "colab_type": "code",
        "id": "C0fmHSgXxFdW",
        "colab": {}
      },
      "source": [
        "train_predictions_resampled = resampled_model.predict(train_features, batch_size=BATCH_SIZE)\n",
        "test_predictions_resampled = resampled_model.predict(test_features, batch_size=BATCH_SIZE)"
      ],
      "execution_count": 99,
      "outputs": []
    },
    {
      "cell_type": "code",
      "metadata": {
        "colab_type": "code",
        "id": "FO0mMOYUDWFk",
        "colab": {
          "base_uri": "https://localhost:8080/",
          "height": 602
        },
        "outputId": "3c59bfae-9481-4e3b-da1f-fb8ccb3f7d76"
      },
      "source": [
        "resampled_results = resampled_model.evaluate(test_features, test_labels,\n",
        "                                             batch_size=BATCH_SIZE, verbose=0)\n",
        "for name, value in zip(resampled_model.metrics_names, resampled_results):\n",
        "  print(name, ': ', value)\n",
        "print()\n",
        "\n",
        "plot_cm(test_labels, test_predictions_resampled)"
      ],
      "execution_count": 100,
      "outputs": [
        {
          "output_type": "stream",
          "text": [
            "loss :  0.6656862497329712\n",
            "tp :  64.0\n",
            "fp :  1617.0\n",
            "tn :  4769.0\n",
            "fn :  57.0\n",
            "accuracy :  0.7427386045455933\n",
            "precision :  0.03807257488369942\n",
            "recall :  0.5289255976676941\n",
            "auc :  0.6588521003723145\n",
            "\n",
            "Legitimate Transactions Detected (True Negatives):  4769\n",
            "Legitimate Transactions Incorrectly Detected (False Positives):  1617\n",
            "Fraudulent Transactions Missed (False Negatives):  57\n",
            "Fraudulent Transactions Detected (True Positives):  64\n",
            "Total Fraudulent Transactions:  121\n"
          ],
          "name": "stdout"
        },
        {
          "output_type": "display_data",
          "data": {
            "image/png": "[encoded data removed]",
            "text/plain": [
              "<Figure size 360x360 with 2 Axes>"
            ]
          },
          "metadata": {
            "tags": [],
            "needs_background": "light"
          }
        }
      ]
    },
    {
      "cell_type": "markdown",
      "metadata": {
        "colab_type": "text",
        "id": "_xYozM1IIITq"
      },
      "source": [
        "### Plot the ROC"
      ]
    },
    {
      "cell_type": "code",
      "metadata": {
        "colab_type": "code",
        "id": "fye_CiuYrZ1U",
        "colab": {
          "base_uri": "https://localhost:8080/",
          "height": 623
        },
        "outputId": "2b1e673e-5542-46fd-dc1e-2b11303ce5e8"
      },
      "source": [
        "plot_roc(\"Train Baseline\", train_labels, train_predictions_baseline)\n",
        "\n",
        "plt.legend(loc='lower right')"
      ],
      "execution_count": 112,
      "outputs": [
        {
          "output_type": "execute_result",
          "data": {
            "text/plain": [
              "<matplotlib.legend.Legend at 0x7efee2207470>"
            ]
          },
          "metadata": {
            "tags": []
          },
          "execution_count": 112
        },
        {
          "output_type": "display_data",
          "data": {
            "image/png": "[encoded data removed]",
            "text/plain": [
              "<Figure size 864x720 with 1 Axes>"
            ]
          },
          "metadata": {
            "tags": [],
            "needs_background": "light"
          }
        }
      ]
    },
    {
      "cell_type": "markdown",
      "metadata": {
        "colab_type": "text",
        "id": "3o3f0ywl8uqW"
      },
      "source": [
        "## Applying this tutorial to your problem\n",
        "\n",
        "Imbalanced data classification is an inherently difficult task since there are so few samples to learn from. You should always start with the data first and do your best to collect as many samples as possible and give substantial thought to what features may be relevant so the model can get the most out of your minority class. At some point your model may struggle to improve and yield the results you want, so it is important to keep in mind the context of your problem and the trade offs between different types of errors."
      ]
    }
  ]
}